{
 "cells": [
  {
   "cell_type": "markdown",
   "id": "4745c668",
   "metadata": {},
   "source": [
    "### Understanding TF-IDF (Term Frequency-Inverse Document Frequency)\n",
    "\n",
    "TF-IDF stands for Term Frequency Inverse Document Frequency of records. It can be defined as the calculation of how relevant a word in a series or corpus is to a text. The meaning increases proportionally to the number of times in the text a word appears but is compensated by the word frequency in the corpus (data-set)."
   ]
  },
  {
   "attachments": {
    "image-2.png": {
     "image/png": "[encoded data removed]"
    },
    "image-3.png": {
     "image/png": "[encoded data removed]"
    },
    "image-4.png": {
     "image/png": "[encoded data removed]"
    },
    "image-5.png": {
     "image/png": "[encoded data removed]"
    },
    "image-6.png": {
     "image/png": "[encoded data removed]"
    },
    "image.png": {
     "image/png": "[encoded data removed]"
    }
   },
   "cell_type": "markdown",
   "id": "e5319f02",
   "metadata": {},
   "source": [
    "#### Terminologies:\n",
    "\n",
    "**Term Frequency:** In document d, the frequency represents the number of instances of a given word t. Therefore, we can see that it becomes more relevant when a word appears in the text, which is rational. Since the ordering of terms is not significant, we can use a vector to describe the text in the bag of term models. For each specific term in the paper, there is an entry with the value being the term frequency\n",
    "\n",
    "The weight of a term that occurs in a document is simply proportional to the term frequency.\n",
    "\n",
    "![image.png](attachment:image.png)\n",
    "\n",
    "**Document Frequency:** This tests the meaning of the text, which is very similar to TF, in the whole corpus collection. The only difference is that in document d, TF is the frequency counter for a term t, while df is the number of occurrences in the document set N of the term t. In other words, the number of papers in which the word is present is DF.\n",
    "\n",
    "![image-2.png](attachment:image-2.png)\n",
    "\n",
    "**Inverse Document Frequency:** Mainly, it tests how relevant the word is. The key aim of the search is to locate the appropriate records that fit the demand. Since tf considers all terms equally significant, it is therefore not only possible to use the term frequencies to measure the weight of the term in the paper. First, find the document frequency of a term t by counting the number of documents containing the term - \n",
    "\n",
    "![image-3.png](attachment:image-3.png)\n",
    "\n",
    "Term frequency is the number of instances of a term in a single document only; although the frequency of the document is the number of separate documents in which the term appears, it depends on the entire corpus. Now let’s look at the definition of the frequency of the inverse paper. The IDF of the word is the number of documents in the corpus separated by the frequency of the text.\n",
    "\n",
    "![image-4.png](attachment:image-4.png)\n",
    "\n",
    "The more common word is supposed to be considered less significant, but the element (most definite integers) seems too harsh. We then take the logarithm (with base 2) of the inverse frequency of the paper. So the idf of the term t becomes:\n",
    "\n",
    "![image-5.png](attachment:image-5.png)\n",
    "\n",
    "**Computation:** Tf-idf is one of the best metrics to determine how significant a term is to a text in a series or a corpus. tf-idf is a weighting system that assigns a weight to each word in a document based on its term frequency (tf) and the reciprocal document frequency (tf) (idf). The words with higher scores of weight are deemed to be more significant.\n",
    "\n",
    "Usually, the tf-idf weight consists of two terms-\n",
    "\n",
    "* Normalized Term Frequency (tf)\n",
    "* Inverse Document Frequency (idf)\n",
    "\n",
    "![image-6.png](attachment:image-6.png)\n",
    "\n",
    "In python tf-idf values can be computed using TfidfVectorizer() method in sklearn module. "
   ]
  },
  {
   "cell_type": "code",
   "execution_count": 10,
   "id": "d5efa5ed",
   "metadata": {},
   "outputs": [
    {
     "name": "stdout",
     "output_type": "stream",
     "text": [
      "\n",
      "idf values:\n",
      "bangalore : 1.2876820724517808\n",
      "is : 1.6931471805599454\n",
      "this : 1.6931471805599454\n",
      "water : 1.6931471805599454\n",
      "\n",
      "Word indexes:\n",
      "{'this': 2, 'is': 1, 'bangalore': 0, 'water': 3}\n",
      "\n",
      "tf-idf value:\n",
      "  (0, 0)\t0.4736296010332684\n",
      "  (0, 1)\t0.6227660078332259\n",
      "  (0, 2)\t0.6227660078332259\n",
      "  (1, 0)\t1.0\n",
      "  (2, 3)\t1.0\n",
      "\n",
      "tf-idf values in matrix form:\n",
      "[[0.4736296  0.62276601 0.62276601 0.        ]\n",
      " [1.         0.         0.         0.        ]\n",
      " [0.         0.         0.         1.        ]]\n"
     ]
    }
   ],
   "source": [
    "# import required module\n",
    "from sklearn.feature_extraction.text import TfidfVectorizer\n",
    " \n",
    "# assign documents\n",
    "d0 = 'This is Bangalore'\n",
    "d1 = 'Bangalore'\n",
    "d2 = 'water'\n",
    " \n",
    "# merge documents into a single corpus\n",
    "string = [d0, d1, d2]\n",
    " \n",
    "# create object\n",
    "tfidf = TfidfVectorizer()\n",
    " \n",
    "# get tf-df values\n",
    "result = tfidf.fit_transform(string)\n",
    " \n",
    "# get idf values\n",
    "print('\\nidf values:')\n",
    "for ele1, ele2 in zip(tfidf.get_feature_names_out(), tfidf.idf_):\n",
    "    print(ele1, ':', ele2)\n",
    " \n",
    "# get indexing\n",
    "print('\\nWord indexes:')\n",
    "print(tfidf.vocabulary_)\n",
    " \n",
    "# display tf-idf values\n",
    "print('\\ntf-idf value:')\n",
    "print(result)\n",
    " \n",
    "# in matrix form\n",
    "print('\\ntf-idf values in matrix form:')\n",
    "print(result.toarray())"
   ]
  }
 ],
 "metadata": {
  "kernelspec": {
   "display_name": "Python 3 (ipykernel)",
   "language": "python",
   "name": "python3"
  },
  "language_info": {
   "codemirror_mode": {
    "name": "ipython",
    "version": 3
   },
   "file_extension": ".py",
   "mimetype": "text/x-python",
   "name": "python",
   "nbconvert_exporter": "python",
   "pygments_lexer": "ipython3",
   "version": "3.10.9"
  }
 },
 "nbformat": 4,
 "nbformat_minor": 5
}
