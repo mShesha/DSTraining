{
 "cells": [
  {
   "cell_type": "markdown",
   "id": "b16a7d5b",
   "metadata": {},
   "source": [
    "## Dictionary\n",
    "\n",
    "A dictionary is an unordered collection of items. Each item stored in a dictionary has a key and value. You can use a key to retrieve the corresponding value from the dictionary.  Dictionaries have the type `dict`.\n",
    "\n",
    "Dictionaries are often used to store many pieces of information e.g. details about a person, in a single variable. Dictionaries are created by enclosing key-value pairs within braces or curly brackets `{` and `}`."
   ]
  },
  {
   "cell_type": "code",
   "execution_count": null,
   "id": "6f8d4753",
   "metadata": {},
   "outputs": [],
   "source": [
    "person1 = {\n",
    "    'name': 'Amar',\n",
    "    'gender': 'Male',\n",
    "    'age': 32,\n",
    "    'married': True\n",
    "}"
   ]
  },
  {
   "cell_type": "code",
   "execution_count": null,
   "id": "4dde8578",
   "metadata": {},
   "outputs": [],
   "source": [
    "person1"
   ]
  },
  {
   "cell_type": "markdown",
   "id": "ee8cdc27",
   "metadata": {},
   "source": [
    "Dictionaries can also be created using the `dict` function."
   ]
  },
  {
   "cell_type": "code",
   "execution_count": null,
   "id": "fe8de8f4",
   "metadata": {},
   "outputs": [],
   "source": [
    "person2 = dict(name='Rani', gender='Female', age=28, married=False)"
   ]
  },
  {
   "cell_type": "code",
   "execution_count": null,
   "id": "98d592cc",
   "metadata": {},
   "outputs": [],
   "source": [
    "person2"
   ]
  },
  {
   "cell_type": "code",
   "execution_count": null,
   "id": "1049a68b",
   "metadata": {},
   "outputs": [],
   "source": [
    "type(person1)"
   ]
  },
  {
   "cell_type": "markdown",
   "id": "a344530d",
   "metadata": {},
   "source": [
    "Keys can be used to access values using square brackets `[` and `]`."
   ]
  },
  {
   "cell_type": "code",
   "execution_count": null,
   "id": "35d08790",
   "metadata": {},
   "outputs": [],
   "source": [
    "person1['name']"
   ]
  },
  {
   "cell_type": "code",
   "execution_count": null,
   "id": "f3fc1185",
   "metadata": {},
   "outputs": [],
   "source": [
    "person2['name']"
   ]
  },
  {
   "cell_type": "markdown",
   "id": "372234f4",
   "metadata": {},
   "source": [
    "If a key isn't present in the dictionary, then a `KeyError` is thrown."
   ]
  },
  {
   "cell_type": "code",
   "execution_count": null,
   "id": "840bdf1c",
   "metadata": {},
   "outputs": [],
   "source": [
    "person1['address']"
   ]
  },
  {
   "cell_type": "markdown",
   "id": "6ea1c6a1",
   "metadata": {},
   "source": [
    "You can also use the `get` method to access the value associated with a key."
   ]
  },
  {
   "cell_type": "code",
   "execution_count": null,
   "id": "4b0b4748",
   "metadata": {},
   "outputs": [],
   "source": [
    "person2.get(\"name\")"
   ]
  },
  {
   "cell_type": "markdown",
   "id": "671bb224",
   "metadata": {},
   "source": [
    "The `get` method also accepts a default value, returned if the key is not present in the dictionary."
   ]
  },
  {
   "cell_type": "code",
   "execution_count": null,
   "id": "35ccece9",
   "metadata": {},
   "outputs": [],
   "source": [
    "person2.get(\"address\", \"Unknown\")"
   ]
  },
  {
   "cell_type": "markdown",
   "id": "3f187b53",
   "metadata": {},
   "source": [
    "You can check whether a key is present in a dictionary using the `in` operator."
   ]
  },
  {
   "cell_type": "code",
   "execution_count": null,
   "id": "c9c35f69",
   "metadata": {},
   "outputs": [],
   "source": [
    "'name' in person1"
   ]
  },
  {
   "cell_type": "code",
   "execution_count": null,
   "id": "0c36aee4",
   "metadata": {},
   "outputs": [],
   "source": [
    "'address' in person1"
   ]
  },
  {
   "cell_type": "markdown",
   "id": "278d49a9",
   "metadata": {},
   "source": [
    "You can change the value associated with a key using the assignment operator."
   ]
  },
  {
   "cell_type": "code",
   "execution_count": null,
   "id": "166aad1c",
   "metadata": {},
   "outputs": [],
   "source": [
    "person2['married']"
   ]
  },
  {
   "cell_type": "code",
   "execution_count": null,
   "id": "f5a6fe60",
   "metadata": {},
   "outputs": [],
   "source": [
    "person2['married'] = True"
   ]
  },
  {
   "cell_type": "code",
   "execution_count": null,
   "id": "a90e56e9",
   "metadata": {},
   "outputs": [],
   "source": [
    "person2['married']"
   ]
  },
  {
   "cell_type": "markdown",
   "id": "15f4e2a5",
   "metadata": {},
   "source": [
    "The assignment operator can also be used to add new key-value pairs to the dictionary."
   ]
  },
  {
   "cell_type": "code",
   "execution_count": null,
   "id": "c698fd64",
   "metadata": {},
   "outputs": [],
   "source": [
    "person1"
   ]
  },
  {
   "cell_type": "code",
   "execution_count": null,
   "id": "d42a7313",
   "metadata": {},
   "outputs": [],
   "source": [
    "person1['address'] = '10, Bangalore'"
   ]
  },
  {
   "cell_type": "code",
   "execution_count": null,
   "id": "f618e477",
   "metadata": {},
   "outputs": [],
   "source": [
    "person1"
   ]
  },
  {
   "cell_type": "markdown",
   "id": "6fe9df92",
   "metadata": {},
   "source": [
    "To remove a key and the associated value from a dictionary, use the `pop` method."
   ]
  },
  {
   "cell_type": "code",
   "execution_count": null,
   "id": "70626030",
   "metadata": {},
   "outputs": [],
   "source": [
    "person1.pop('address')"
   ]
  },
  {
   "cell_type": "code",
   "execution_count": null,
   "id": "52c5086d",
   "metadata": {},
   "outputs": [],
   "source": [
    "person1"
   ]
  },
  {
   "cell_type": "markdown",
   "id": "30ff1933",
   "metadata": {},
   "source": [
    "Dictionaries also provide methods to view the list of keys, values, or key-value pairs inside it."
   ]
  },
  {
   "cell_type": "code",
   "execution_count": null,
   "id": "8285c15e",
   "metadata": {},
   "outputs": [],
   "source": [
    "person1.keys()"
   ]
  },
  {
   "cell_type": "code",
   "execution_count": null,
   "id": "54a4ac5c",
   "metadata": {},
   "outputs": [],
   "source": [
    "person1.values()"
   ]
  },
  {
   "cell_type": "code",
   "execution_count": null,
   "id": "20fd3597",
   "metadata": {},
   "outputs": [],
   "source": [
    "person1.items()"
   ]
  },
  {
   "cell_type": "code",
   "execution_count": null,
   "id": "b75b2cb7",
   "metadata": {},
   "outputs": [],
   "source": [
    "person1.items()[1]"
   ]
  },
  {
   "cell_type": "markdown",
   "id": "fef3c0b2",
   "metadata": {},
   "source": [
    "The results of `keys`, `values`, and `items` look like lists. However, they don't support the indexing operator `[]` for retrieving elements. "
   ]
  },
  {
   "cell_type": "code",
   "execution_count": null,
   "id": "f87c702a",
   "metadata": {},
   "outputs": [],
   "source": [
    "list(person1.items())[1]"
   ]
  },
  {
   "cell_type": "code",
   "execution_count": null,
   "id": "b55a4f0f",
   "metadata": {},
   "outputs": [],
   "source": [
    "dir(person1)"
   ]
  },
  {
   "cell_type": "markdown",
   "id": "08eaf0a1",
   "metadata": {},
   "source": [
    "## Exercise:\n",
    "    \n",
    "What happens if you use the same key multiple times while creating a dictionary?\n",
    "\n",
    "How can you create a copy of a dictionary (modifying the copy should not change the original)?\n",
    "\n",
    "Can the value associated with a key itself be a dictionary?\n",
    "\n",
    "How can you add the key-value pairs from one dictionary into another dictionary? Hint: See the update method.\n",
    "    \n",
    "Can the dictionary's keys be something other than a string, e.g., a number, boolean, list, etc.?\n"
   ]
  },
  {
   "cell_type": "code",
   "execution_count": null,
   "id": "f2e7e9b1",
   "metadata": {},
   "outputs": [],
   "source": [
    "person2.update({'name':'Raj'})"
   ]
  },
  {
   "cell_type": "code",
   "execution_count": null,
   "id": "b0861cf5",
   "metadata": {},
   "outputs": [],
   "source": [
    "person2"
   ]
  }
 ],
 "metadata": {
  "kernelspec": {
   "display_name": "Python 3 (ipykernel)",
   "language": "python",
   "name": "python3"
  },
  "language_info": {
   "codemirror_mode": {
    "name": "ipython",
    "version": 3
   },
   "file_extension": ".py",
   "mimetype": "text/x-python",
   "name": "python",
   "nbconvert_exporter": "python",
   "pygments_lexer": "ipython3",
   "version": "3.9.13"
  }
 },
 "nbformat": 4,
 "nbformat_minor": 5
}
