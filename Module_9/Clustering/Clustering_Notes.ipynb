{
 "cells": [
  {
   "cell_type": "markdown",
   "id": "3a9786a7",
   "metadata": {},
   "source": [
    "### Clustering\n",
    "\n",
    "It is an unsupervised learning technique, where you try to find patterns based on similarities in the data.\n",
    "\n",
    "#### Supervised vs Unsupervised learning\n",
    "\n",
    "Supervised machine learning algorithms make use of labelled data to make predictions. \n",
    "\n",
    "For example, an email will be classified as spam or ham, or a bank’s customer will be predicted as ‘good’ or ‘bad’. You have a target variable Y which needs to be predicted. \n",
    "\n",
    "On the other hand, in unsupervised learning, you are not interested in prediction because you do not have a target or outcome variable. The objective is to discover interesting patterns in the data, e.g. are there any subgroups or ‘clusters’ among the bank’s customers?"
   ]
  },
  {
   "cell_type": "markdown",
   "id": "c5cd879b",
   "metadata": {},
   "source": [
    "Customer segmentation for targeted marketing is one of the most vital applications of the clustering algorithm. Here, as a manager of the online store, you would want to group the customers into different clusters, so that you can make a customised marketing campaign for each of the group. You do not have any label in mind, such as good customer or bad customer. You want to just look at patterns in customer data and then try and find segments. This is where clustering techniques can help you with segmenting the customers. Clustering techniques use the raw data to form clusters based on common factors among various data points. This is exactly what will also be done in segmentation, where various people or products will be grouped together on the basis of similarities and differences between them."
   ]
  },
  {
   "cell_type": "markdown",
   "id": "8cdb1e86",
   "metadata": {},
   "source": [
    "For successful segmentation, the segments formed must be stable. This means that the same person should not fall under different segments upon segmenting the data on the same criteria. You also saw that segments should have intra-segment homogeneity and inter-segment heterogeneity. "
   ]
  },
  {
   "cell_type": "markdown",
   "id": "6578071e",
   "metadata": {},
   "source": [
    "### K-means clustering\n",
    "\n",
    "#### Centroid\n",
    "\n",
    "The K-Means algorithm uses the concept of the centroid to create K clusters.\n",
    "\n",
    "In simple terms, a centroid of n points on an x-y plane is another point having its own x and y coordinates and is often referred to as the geometric centre of the n points.\n",
    "\n",
    "For example, consider three points having coordinates (x1, y1), (x2, y2) and (x3, y3). The centroid of these three points is the average of the x and y coordinates of the three points, i.e.\n",
    "\n",
    "(x1 + x2 + x3 / 3, y1 + y2 + y3 / 3).\n",
    " \n",
    "\n",
    "Similarly, if you have n points, the formula (coordinates) of the centroid will be:\n",
    "\n",
    "(x1+x2…..+xn / n, y1+y2…..+yn / n). "
   ]
  },
  {
   "cell_type": "markdown",
   "id": "07a63233",
   "metadata": {},
   "source": [
    "The algorithm begins with choosing K random cluster centres. \n",
    "\n",
    "Then the 2 steps of Assignment and Optimisation continue iteratively till the clusters stop updating. This gives you the most optimal clusters — the clusters with minimum intra-cluster distance and maximum inter-cluster distance.\n",
    "\n",
    "Each time the clusters are made, the centroid is updated. The updated centroid is the centre of all the points which fall in the cluster associated with the centroid. This process continues till the centroid no longer changes, i.e. the solution converges."
   ]
  },
  {
   "cell_type": "markdown",
   "id": "27701630",
   "metadata": {},
   "source": [
    "Major practical considerations involved in K-Means clustering are:\n",
    "\n",
    "* The number of clusters that you want to divide your data points into, i.e. the value of K has to be pre-determined.\n",
    "* The choice of the initial cluster centres can have an impact on the final cluster formation.\n",
    "* The clustering process is very sensitive to the presence of outliers in the data.\n",
    "* Since the distance metric used in the clustering process is the Euclidean distance, you need to bring all your attributes on the same scale. This can be achieved through standardisation.\n",
    "* The K-Means algorithm does not work with categorical data.\n",
    "* The process may not converge in the given number of iterations. You should always check for convergence."
   ]
  },
  {
   "cell_type": "markdown",
   "id": "d62eed0a",
   "metadata": {},
   "source": [
    "### Visualising K-means algorithm\n",
    "\n",
    "K-Means algorithm in action using a visualisation tool. This tool can be found at https://www.naftaliharris.com/blog/visualizing-k-means-clustering/"
   ]
  }
 ],
 "metadata": {
  "kernelspec": {
   "display_name": "Python 3 (ipykernel)",
   "language": "python",
   "name": "python3"
  },
  "language_info": {
   "codemirror_mode": {
    "name": "ipython",
    "version": 3
   },
   "file_extension": ".py",
   "mimetype": "text/x-python",
   "name": "python",
   "nbconvert_exporter": "python",
   "pygments_lexer": "ipython3",
   "version": "3.9.13"
  }
 },
 "nbformat": 4,
 "nbformat_minor": 5
}
