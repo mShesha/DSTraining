{
 "cells": [
  {
   "cell_type": "markdown",
   "id": "e8771919",
   "metadata": {},
   "source": [
    "### What is Pandas?\n",
    "\n",
    "Pandas is a Python library used for working with data sets.\n",
    "\n",
    "It has functions for analyzing, cleaning, exploring, and manipulating data"
   ]
  },
  {
   "cell_type": "markdown",
   "id": "9b1689d0",
   "metadata": {},
   "source": [
    "### Why Use Pandas?\n",
    "\n",
    "Pandas allows us to analyze big data and make conclusions based on statistical theories.\n",
    "\n",
    "Pandas can clean messy data sets, and make them readable and relevant.\n",
    "\n",
    "Relevant data is very important in data science."
   ]
  },
  {
   "cell_type": "markdown",
   "id": "a8d1c430",
   "metadata": {},
   "source": [
    "What Can Pandas Do?\n",
    "\n",
    "Pandas gives you answers about the data. Like:\n",
    "\n",
    "Is there a correlation between two or more columns?\n",
    "\n",
    "What is average value?\n",
    "\n",
    "Max value?\n",
    "\n",
    "Min value?\n",
    "\n",
    "Pandas are also able to delete rows that are not relevant, or contains wrong values, like empty or NULL values. This is called cleaning the data.\n",
    "\n"
   ]
  },
  {
   "cell_type": "markdown",
   "id": "8ceef508",
   "metadata": {},
   "source": [
    "### Getting started"
   ]
  },
  {
   "cell_type": "code",
   "execution_count": 7,
   "id": "fa917227",
   "metadata": {},
   "outputs": [
    {
     "name": "stdout",
     "output_type": "stream",
     "text": [
      "Requirement already satisfied: pandas in c:\\users\\shesmeg\\anaconda3\\lib\\site-packages (1.4.4)\n",
      "Requirement already satisfied: numpy>=1.18.5 in c:\\users\\shesmeg\\anaconda3\\lib\\site-packages (from pandas) (1.21.5)\n",
      "Requirement already satisfied: python-dateutil>=2.8.1 in c:\\users\\shesmeg\\anaconda3\\lib\\site-packages (from pandas) (2.8.2)\n",
      "Requirement already satisfied: pytz>=2020.1 in c:\\users\\shesmeg\\anaconda3\\lib\\site-packages (from pandas) (2022.1)\n",
      "Requirement already satisfied: six>=1.5 in c:\\users\\shesmeg\\anaconda3\\lib\\site-packages (from python-dateutil>=2.8.1->pandas) (1.16.0)\n",
      "Note: you may need to restart the kernel to use updated packages.\n"
     ]
    }
   ],
   "source": [
    "pip install pandas"
   ]
  },
  {
   "cell_type": "code",
   "execution_count": 8,
   "id": "8b330b80",
   "metadata": {},
   "outputs": [],
   "source": [
    "import pandas"
   ]
  },
  {
   "cell_type": "markdown",
   "id": "190b695d",
   "metadata": {},
   "source": [
    "Pandas as pd\n",
    "\n",
    "Pandas is usually imported under the pd alias."
   ]
  },
  {
   "cell_type": "code",
   "execution_count": 2,
   "id": "287e888c",
   "metadata": {},
   "outputs": [],
   "source": [
    "import pandas as pd"
   ]
  },
  {
   "cell_type": "markdown",
   "id": "4746998f",
   "metadata": {},
   "source": [
    "Now the Pandas package can be referred to as pd instead of pandas."
   ]
  },
  {
   "cell_type": "code",
   "execution_count": 5,
   "id": "8cd12643",
   "metadata": {
    "scrolled": true
   },
   "outputs": [
    {
     "data": {
      "text/html": [
       "<div>\n",
       "<style scoped>\n",
       "    .dataframe tbody tr th:only-of-type {\n",
       "        vertical-align: middle;\n",
       "    }\n",
       "\n",
       "    .dataframe tbody tr th {\n",
       "        vertical-align: top;\n",
       "    }\n",
       "\n",
       "    .dataframe thead th {\n",
       "        text-align: right;\n",
       "    }\n",
       "</style>\n",
       "<table border=\"1\" class=\"dataframe\">\n",
       "  <thead>\n",
       "    <tr style=\"text-align: right;\">\n",
       "      <th></th>\n",
       "      <th>cars</th>\n",
       "      <th>passings</th>\n",
       "    </tr>\n",
       "  </thead>\n",
       "  <tbody>\n",
       "    <tr>\n",
       "      <th>0</th>\n",
       "      <td>BMW</td>\n",
       "      <td>3</td>\n",
       "    </tr>\n",
       "    <tr>\n",
       "      <th>1</th>\n",
       "      <td>Volvo</td>\n",
       "      <td>7</td>\n",
       "    </tr>\n",
       "    <tr>\n",
       "      <th>2</th>\n",
       "      <td>Ford</td>\n",
       "      <td>2</td>\n",
       "    </tr>\n",
       "  </tbody>\n",
       "</table>\n",
       "</div>"
      ],
      "text/plain": [
       "    cars  passings\n",
       "0    BMW         3\n",
       "1  Volvo         7\n",
       "2   Ford         2"
      ]
     },
     "execution_count": 5,
     "metadata": {},
     "output_type": "execute_result"
    }
   ],
   "source": [
    "mydataset = {\n",
    "  'cars': [\"BMW\", \"Volvo\", \"Ford\"],\n",
    "  'passings': [3, 7, 2]\n",
    "}\n",
    "\n",
    "myvar = pd.DataFrame(mydataset)\n",
    "\n",
    "myvar"
   ]
  },
  {
   "cell_type": "markdown",
   "id": "9984f0e7",
   "metadata": {},
   "source": [
    "Checking library Version\n",
    "\n",
    "The version string is stored under __version__ attribute."
   ]
  },
  {
   "cell_type": "code",
   "execution_count": 6,
   "id": "fe25b7a3",
   "metadata": {},
   "outputs": [
    {
     "name": "stdout",
     "output_type": "stream",
     "text": [
      "1.4.4\n"
     ]
    }
   ],
   "source": [
    "print(pd.__version__)"
   ]
  },
  {
   "cell_type": "markdown",
   "id": "4fd34045",
   "metadata": {},
   "source": [
    "## Pandas Series\n",
    "\n",
    "### What is a Series?\n",
    "\n",
    "A Pandas Series is like a column in a table.\n",
    "\n",
    "It is a one-dimensional array holding data of any type."
   ]
  },
  {
   "cell_type": "code",
   "execution_count": 3,
   "id": "220b45e6",
   "metadata": {},
   "outputs": [
    {
     "name": "stdout",
     "output_type": "stream",
     "text": [
      "0    1\n",
      "1    7\n",
      "2    2\n",
      "dtype: int64\n"
     ]
    }
   ],
   "source": [
    "a = [1, 7, 2]\n",
    "\n",
    "myvar = pd.Series(a)\n",
    "\n",
    "print(myvar)"
   ]
  },
  {
   "cell_type": "markdown",
   "id": "47f153d6",
   "metadata": {},
   "source": [
    "### Labels\n",
    "\n",
    "If nothing else is specified, the values are labeled with their index number. First value has index 0, second value has index 1 etc.\n",
    "\n",
    "This label can be used to access a specified value."
   ]
  },
  {
   "cell_type": "markdown",
   "id": "2a206840",
   "metadata": {},
   "source": [
    "#### Return the first value of the Series:"
   ]
  },
  {
   "cell_type": "code",
   "execution_count": 9,
   "id": "f467af0b",
   "metadata": {},
   "outputs": [
    {
     "data": {
      "text/plain": [
       "0    1\n",
       "1    7\n",
       "2    2\n",
       "dtype: int64"
      ]
     },
     "execution_count": 9,
     "metadata": {},
     "output_type": "execute_result"
    }
   ],
   "source": [
    "myvar"
   ]
  },
  {
   "cell_type": "markdown",
   "id": "5129d066",
   "metadata": {},
   "source": [
    "#### Create your own labels:"
   ]
  },
  {
   "cell_type": "code",
   "execution_count": 4,
   "id": "d66df5a2",
   "metadata": {},
   "outputs": [
    {
     "data": {
      "text/plain": [
       "p    1\n",
       "q    7\n",
       "r    2\n",
       "dtype: int64"
      ]
     },
     "execution_count": 4,
     "metadata": {},
     "output_type": "execute_result"
    }
   ],
   "source": [
    "a = [1, 7, 2]\n",
    "\n",
    "myvar1 = pd.Series(a, index = [\"p\", \"q\", \"r\"])\n",
    "\n",
    "myvar1"
   ]
  },
  {
   "cell_type": "markdown",
   "id": "ebb81475",
   "metadata": {},
   "source": [
    "When you have created labels, you can access an item by referring to the label."
   ]
  },
  {
   "cell_type": "code",
   "execution_count": 5,
   "id": "05ae6f39",
   "metadata": {},
   "outputs": [
    {
     "name": "stdout",
     "output_type": "stream",
     "text": [
      "7\n"
     ]
    }
   ],
   "source": [
    "print(myvar1[\"q\"])"
   ]
  },
  {
   "cell_type": "markdown",
   "id": "f7a657fa",
   "metadata": {},
   "source": [
    "### Key/Value Objects as Series\n",
    "\n",
    "You can also use a key/value object, like a dictionary, when creating a Series."
   ]
  },
  {
   "cell_type": "code",
   "execution_count": 8,
   "id": "738c15e8",
   "metadata": {},
   "outputs": [
    {
     "name": "stdout",
     "output_type": "stream",
     "text": [
      "day1    420\n",
      "day2    380\n",
      "day3    390\n",
      "dtype: int64\n",
      "380\n"
     ]
    }
   ],
   "source": [
    "calories = {\"day1\": 420, \"day2\": 380, \"day3\": 390}\n",
    "\n",
    "myvar = pd.Series(calories)\n",
    "\n",
    "print(myvar)\n",
    "print(myvar[\"day2\"])"
   ]
  },
  {
   "cell_type": "markdown",
   "id": "80f0fbde",
   "metadata": {},
   "source": [
    "Note: The keys of the dictionary become the labels."
   ]
  },
  {
   "cell_type": "markdown",
   "id": "e0811fa8",
   "metadata": {},
   "source": [
    "Create a Series using only data from \"day1\" and \"day2\":"
   ]
  },
  {
   "cell_type": "code",
   "execution_count": 15,
   "id": "76498e03",
   "metadata": {},
   "outputs": [
    {
     "name": "stdout",
     "output_type": "stream",
     "text": [
      "day1    420\n",
      "day3    390\n",
      "dtype: int64\n"
     ]
    }
   ],
   "source": [
    "myvar1 = pd.Series(calories, index = [\"day1\", \"day3\"])\n",
    "\n",
    "print(myvar1)"
   ]
  },
  {
   "cell_type": "markdown",
   "id": "a6d6ac38",
   "metadata": {},
   "source": [
    "### DataFrames\n",
    "\n",
    "Data sets in Pandas are usually multi-dimensional tables, called DataFrames.\n",
    "\n",
    "Series is like a column, a DataFrame is the whole table."
   ]
  },
  {
   "cell_type": "markdown",
   "id": "e6dc0e93",
   "metadata": {},
   "source": [
    "Create a DataFrame from two Series:"
   ]
  },
  {
   "cell_type": "markdown",
   "id": "95817be8",
   "metadata": {},
   "source": [
    "### What is a DataFrame?\n",
    "\n",
    "A Pandas DataFrame is a 2 dimensional data structure, like a 2 dimensional array, or a table with rows and columns."
   ]
  },
  {
   "cell_type": "code",
   "execution_count": 9,
   "id": "c15cda42",
   "metadata": {},
   "outputs": [
    {
     "data": {
      "text/html": [
       "<div>\n",
       "<style scoped>\n",
       "    .dataframe tbody tr th:only-of-type {\n",
       "        vertical-align: middle;\n",
       "    }\n",
       "\n",
       "    .dataframe tbody tr th {\n",
       "        vertical-align: top;\n",
       "    }\n",
       "\n",
       "    .dataframe thead th {\n",
       "        text-align: right;\n",
       "    }\n",
       "</style>\n",
       "<table border=\"1\" class=\"dataframe\">\n",
       "  <thead>\n",
       "    <tr style=\"text-align: right;\">\n",
       "      <th></th>\n",
       "      <th>calories</th>\n",
       "      <th>duration</th>\n",
       "    </tr>\n",
       "  </thead>\n",
       "  <tbody>\n",
       "    <tr>\n",
       "      <th>0</th>\n",
       "      <td>420</td>\n",
       "      <td>50</td>\n",
       "    </tr>\n",
       "    <tr>\n",
       "      <th>1</th>\n",
       "      <td>380</td>\n",
       "      <td>40</td>\n",
       "    </tr>\n",
       "    <tr>\n",
       "      <th>2</th>\n",
       "      <td>390</td>\n",
       "      <td>45</td>\n",
       "    </tr>\n",
       "  </tbody>\n",
       "</table>\n",
       "</div>"
      ],
      "text/plain": [
       "   calories  duration\n",
       "0       420        50\n",
       "1       380        40\n",
       "2       390        45"
      ]
     },
     "execution_count": 9,
     "metadata": {},
     "output_type": "execute_result"
    }
   ],
   "source": [
    "data = {\n",
    "  \"calories\": [420, 380, 390],\n",
    "  \"duration\": [50, 40, 45]\n",
    "}\n",
    "\n",
    "df = pd.DataFrame(data)\n",
    "\n",
    "df"
   ]
  },
  {
   "cell_type": "markdown",
   "id": "d778d5a4",
   "metadata": {},
   "source": [
    "### Locate Row\n",
    "\n",
    "As you can see from the result above, the DataFrame is like a table with rows and columns.\n",
    "\n",
    "Pandas use the loc attribute to return one or more specified row(s)"
   ]
  },
  {
   "cell_type": "code",
   "execution_count": 10,
   "id": "10709735",
   "metadata": {},
   "outputs": [
    {
     "name": "stdout",
     "output_type": "stream",
     "text": [
      "calories    420\n",
      "duration     50\n",
      "Name: 0, dtype: int64\n"
     ]
    }
   ],
   "source": [
    "print(df.loc[0])\n",
    "#print(type(df.loc[0]))"
   ]
  },
  {
   "cell_type": "markdown",
   "id": "5098dc39",
   "metadata": {},
   "source": [
    "Note: This example returns a Pandas Series."
   ]
  },
  {
   "cell_type": "code",
   "execution_count": 12,
   "id": "fad38bd7",
   "metadata": {},
   "outputs": [
    {
     "name": "stdout",
     "output_type": "stream",
     "text": [
      "   calories  duration\n",
      "1       380        40\n",
      "2       390        45\n"
     ]
    }
   ],
   "source": [
    "#use a list of indexes:\n",
    "print(df.loc[[1,2]])\n",
    "#print(type(df.loc[[1,2]]))"
   ]
  },
  {
   "cell_type": "markdown",
   "id": "90ef1c68",
   "metadata": {},
   "source": [
    "Note: When using [], the result is a Pandas DataFrame."
   ]
  },
  {
   "cell_type": "code",
   "execution_count": 22,
   "id": "99d3ab65",
   "metadata": {},
   "outputs": [
    {
     "data": {
      "text/html": [
       "<div>\n",
       "<style scoped>\n",
       "    .dataframe tbody tr th:only-of-type {\n",
       "        vertical-align: middle;\n",
       "    }\n",
       "\n",
       "    .dataframe tbody tr th {\n",
       "        vertical-align: top;\n",
       "    }\n",
       "\n",
       "    .dataframe thead th {\n",
       "        text-align: right;\n",
       "    }\n",
       "</style>\n",
       "<table border=\"1\" class=\"dataframe\">\n",
       "  <thead>\n",
       "    <tr style=\"text-align: right;\">\n",
       "      <th></th>\n",
       "      <th>calories</th>\n",
       "      <th>duration</th>\n",
       "    </tr>\n",
       "  </thead>\n",
       "  <tbody>\n",
       "    <tr>\n",
       "      <th>1</th>\n",
       "      <td>380</td>\n",
       "      <td>40</td>\n",
       "    </tr>\n",
       "    <tr>\n",
       "      <th>2</th>\n",
       "      <td>390</td>\n",
       "      <td>45</td>\n",
       "    </tr>\n",
       "  </tbody>\n",
       "</table>\n",
       "</div>"
      ],
      "text/plain": [
       "   calories  duration\n",
       "1       380        40\n",
       "2       390        45"
      ]
     },
     "execution_count": 22,
     "metadata": {},
     "output_type": "execute_result"
    }
   ],
   "source": [
    "df.loc[[1,2]]"
   ]
  },
  {
   "cell_type": "markdown",
   "id": "414a4f85",
   "metadata": {},
   "source": [
    "### Named Indexes\n",
    "\n",
    "With the index argument, you can name your own indexes."
   ]
  },
  {
   "cell_type": "code",
   "execution_count": 13,
   "id": "35786cf2",
   "metadata": {},
   "outputs": [
    {
     "data": {
      "text/html": [
       "<div>\n",
       "<style scoped>\n",
       "    .dataframe tbody tr th:only-of-type {\n",
       "        vertical-align: middle;\n",
       "    }\n",
       "\n",
       "    .dataframe tbody tr th {\n",
       "        vertical-align: top;\n",
       "    }\n",
       "\n",
       "    .dataframe thead th {\n",
       "        text-align: right;\n",
       "    }\n",
       "</style>\n",
       "<table border=\"1\" class=\"dataframe\">\n",
       "  <thead>\n",
       "    <tr style=\"text-align: right;\">\n",
       "      <th></th>\n",
       "      <th>calories</th>\n",
       "      <th>duration</th>\n",
       "    </tr>\n",
       "  </thead>\n",
       "  <tbody>\n",
       "    <tr>\n",
       "      <th>day1</th>\n",
       "      <td>420</td>\n",
       "      <td>50</td>\n",
       "    </tr>\n",
       "    <tr>\n",
       "      <th>day2</th>\n",
       "      <td>380</td>\n",
       "      <td>40</td>\n",
       "    </tr>\n",
       "    <tr>\n",
       "      <th>day3</th>\n",
       "      <td>390</td>\n",
       "      <td>45</td>\n",
       "    </tr>\n",
       "  </tbody>\n",
       "</table>\n",
       "</div>"
      ],
      "text/plain": [
       "      calories  duration\n",
       "day1       420        50\n",
       "day2       380        40\n",
       "day3       390        45"
      ]
     },
     "execution_count": 13,
     "metadata": {},
     "output_type": "execute_result"
    }
   ],
   "source": [
    "df1 = pd.DataFrame(data, index = [\"day1\", \"day2\", \"day3\"])\n",
    "df1"
   ]
  },
  {
   "cell_type": "markdown",
   "id": "5d6d6e6f",
   "metadata": {},
   "source": [
    "### Locate Named Indexes\n",
    "\n",
    "Use the named index in the loc attribute to return the specified row(s)."
   ]
  },
  {
   "cell_type": "code",
   "execution_count": 16,
   "id": "a69fbd56",
   "metadata": {},
   "outputs": [
    {
     "name": "stdout",
     "output_type": "stream",
     "text": [
      "calories    380\n",
      "duration     40\n",
      "Name: day2, dtype: int64\n"
     ]
    }
   ],
   "source": [
    "print(df1.loc[\"day2\"])"
   ]
  },
  {
   "cell_type": "markdown",
   "id": "c596e0bb",
   "metadata": {},
   "source": [
    "#### Difference between loc() and iloc()\n",
    "\n",
    "Both are used for slicing data from pandas dataframe. Used for filtering the data according to some condition.\n",
    "\n",
    "They help in the convenient selection of data from the DataFrame. "
   ]
  },
  {
   "cell_type": "markdown",
   "id": "e9c76d82",
   "metadata": {},
   "source": [
    "#### loc()\n",
    "\n",
    "The loc() function is label based data selecting method which means that we have to pass the name of the row or column which we want to select. This method includes the last element of the range passed in it, unlike iloc(). loc() can accept the boolean data unlike iloc(). Many operations can be performed using the loc() method like"
   ]
  },
  {
   "cell_type": "code",
   "execution_count": 38,
   "id": "7f74f1e3",
   "metadata": {},
   "outputs": [
    {
     "data": {
      "text/html": [
       "<div>\n",
       "<style scoped>\n",
       "    .dataframe tbody tr th:only-of-type {\n",
       "        vertical-align: middle;\n",
       "    }\n",
       "\n",
       "    .dataframe tbody tr th {\n",
       "        vertical-align: top;\n",
       "    }\n",
       "\n",
       "    .dataframe thead th {\n",
       "        text-align: right;\n",
       "    }\n",
       "</style>\n",
       "<table border=\"1\" class=\"dataframe\">\n",
       "  <thead>\n",
       "    <tr style=\"text-align: right;\">\n",
       "      <th></th>\n",
       "      <th>Brand</th>\n",
       "      <th>Year</th>\n",
       "      <th>Kms Driven</th>\n",
       "      <th>City</th>\n",
       "      <th>Mileage</th>\n",
       "    </tr>\n",
       "  </thead>\n",
       "  <tbody>\n",
       "    <tr>\n",
       "      <th>0</th>\n",
       "      <td>Maruti</td>\n",
       "      <td>2012</td>\n",
       "      <td>50000</td>\n",
       "      <td>Gurgaon</td>\n",
       "      <td>28</td>\n",
       "    </tr>\n",
       "    <tr>\n",
       "      <th>1</th>\n",
       "      <td>Hyundai</td>\n",
       "      <td>2014</td>\n",
       "      <td>30000</td>\n",
       "      <td>Delhi</td>\n",
       "      <td>27</td>\n",
       "    </tr>\n",
       "    <tr>\n",
       "      <th>2</th>\n",
       "      <td>Tata</td>\n",
       "      <td>2011</td>\n",
       "      <td>70000</td>\n",
       "      <td>Mumbai</td>\n",
       "      <td>25</td>\n",
       "    </tr>\n",
       "    <tr>\n",
       "      <th>3</th>\n",
       "      <td>Mahindra</td>\n",
       "      <td>2015</td>\n",
       "      <td>25000</td>\n",
       "      <td>Delhi</td>\n",
       "      <td>26</td>\n",
       "    </tr>\n",
       "    <tr>\n",
       "      <th>4</th>\n",
       "      <td>Maruti</td>\n",
       "      <td>2012</td>\n",
       "      <td>10000</td>\n",
       "      <td>Mumbai</td>\n",
       "      <td>28</td>\n",
       "    </tr>\n",
       "    <tr>\n",
       "      <th>5</th>\n",
       "      <td>Hyundai</td>\n",
       "      <td>2016</td>\n",
       "      <td>46000</td>\n",
       "      <td>Delhi</td>\n",
       "      <td>29</td>\n",
       "    </tr>\n",
       "    <tr>\n",
       "      <th>6</th>\n",
       "      <td>Renault</td>\n",
       "      <td>2014</td>\n",
       "      <td>31000</td>\n",
       "      <td>Mumbai</td>\n",
       "      <td>24</td>\n",
       "    </tr>\n",
       "    <tr>\n",
       "      <th>7</th>\n",
       "      <td>Tata</td>\n",
       "      <td>2018</td>\n",
       "      <td>15000</td>\n",
       "      <td>Chennai</td>\n",
       "      <td>21</td>\n",
       "    </tr>\n",
       "    <tr>\n",
       "      <th>8</th>\n",
       "      <td>Maruti</td>\n",
       "      <td>2019</td>\n",
       "      <td>12000</td>\n",
       "      <td>Ghaziabad</td>\n",
       "      <td>24</td>\n",
       "    </tr>\n",
       "  </tbody>\n",
       "</table>\n",
       "</div>"
      ],
      "text/plain": [
       "      Brand  Year  Kms Driven       City  Mileage\n",
       "0    Maruti  2012       50000    Gurgaon       28\n",
       "1   Hyundai  2014       30000      Delhi       27\n",
       "2      Tata  2011       70000     Mumbai       25\n",
       "3  Mahindra  2015       25000      Delhi       26\n",
       "4    Maruti  2012       10000     Mumbai       28\n",
       "5   Hyundai  2016       46000      Delhi       29\n",
       "6   Renault  2014       31000     Mumbai       24\n",
       "7      Tata  2018       15000    Chennai       21\n",
       "8    Maruti  2019       12000  Ghaziabad       24"
      ]
     },
     "metadata": {},
     "output_type": "display_data"
    }
   ],
   "source": [
    "# creating a sample dataframe\n",
    "data = pd.DataFrame({'Brand': ['Maruti', 'Hyundai', 'Tata',\n",
    "                               'Mahindra', 'Maruti', 'Hyundai',\n",
    "                               'Renault', 'Tata', 'Maruti'],\n",
    "                     'Year': [2012, 2014, 2011, 2015, 2012,\n",
    "                              2016, 2014, 2018, 2019],\n",
    "                     'Kms Driven': [50000, 30000, 70000,\n",
    "                                    25000, 10000, 46000,\n",
    "                                    31000, 15000, 12000],\n",
    "                     'City': ['Gurgaon', 'Delhi', 'Mumbai',\n",
    "                              'Delhi', 'Mumbai', 'Delhi',\n",
    "                              'Mumbai', 'Chennai',  'Ghaziabad'],\n",
    "                     'Mileage':  [28, 27, 25, 26, 28,\n",
    "                                  29, 24, 21, 24]})\n",
    " \n",
    "# displaying the DataFrame\n",
    "display(data)"
   ]
  },
  {
   "cell_type": "code",
   "execution_count": 22,
   "id": "a584af4e",
   "metadata": {},
   "outputs": [
    {
     "data": {
      "text/html": [
       "<div>\n",
       "<style scoped>\n",
       "    .dataframe tbody tr th:only-of-type {\n",
       "        vertical-align: middle;\n",
       "    }\n",
       "\n",
       "    .dataframe tbody tr th {\n",
       "        vertical-align: top;\n",
       "    }\n",
       "\n",
       "    .dataframe thead th {\n",
       "        text-align: right;\n",
       "    }\n",
       "</style>\n",
       "<table border=\"1\" class=\"dataframe\">\n",
       "  <thead>\n",
       "    <tr style=\"text-align: right;\">\n",
       "      <th></th>\n",
       "      <th>Brand</th>\n",
       "      <th>Year</th>\n",
       "      <th>Kms Driven</th>\n",
       "      <th>City</th>\n",
       "      <th>Mileage</th>\n",
       "    </tr>\n",
       "  </thead>\n",
       "  <tbody>\n",
       "    <tr>\n",
       "      <th>0</th>\n",
       "      <td>Maruti</td>\n",
       "      <td>2012</td>\n",
       "      <td>50000</td>\n",
       "      <td>Gurgaon</td>\n",
       "      <td>28</td>\n",
       "    </tr>\n",
       "    <tr>\n",
       "      <th>4</th>\n",
       "      <td>Maruti</td>\n",
       "      <td>2012</td>\n",
       "      <td>10000</td>\n",
       "      <td>Mumbai</td>\n",
       "      <td>28</td>\n",
       "    </tr>\n",
       "    <tr>\n",
       "      <th>8</th>\n",
       "      <td>Maruti</td>\n",
       "      <td>2019</td>\n",
       "      <td>12000</td>\n",
       "      <td>Ghaziabad</td>\n",
       "      <td>24</td>\n",
       "    </tr>\n",
       "  </tbody>\n",
       "</table>\n",
       "</div>"
      ],
      "text/plain": [
       "    Brand  Year  Kms Driven       City  Mileage\n",
       "0  Maruti  2012       50000    Gurgaon       28\n",
       "4  Maruti  2012       10000     Mumbai       28\n",
       "8  Maruti  2019       12000  Ghaziabad       24"
      ]
     },
     "metadata": {},
     "output_type": "display_data"
    }
   ],
   "source": [
    "# selecting cars with brand 'Maruti' and Mileage > 25\n",
    "display(data.loc[(data.Brand == 'Maruti') & (data.Mileage > 10)])"
   ]
  },
  {
   "cell_type": "markdown",
   "id": "1520b0d5",
   "metadata": {},
   "source": [
    "Selecting a range of rows from the DataFrame"
   ]
  },
  {
   "cell_type": "code",
   "execution_count": 23,
   "id": "29164b97",
   "metadata": {},
   "outputs": [
    {
     "data": {
      "text/html": [
       "<div>\n",
       "<style scoped>\n",
       "    .dataframe tbody tr th:only-of-type {\n",
       "        vertical-align: middle;\n",
       "    }\n",
       "\n",
       "    .dataframe tbody tr th {\n",
       "        vertical-align: top;\n",
       "    }\n",
       "\n",
       "    .dataframe thead th {\n",
       "        text-align: right;\n",
       "    }\n",
       "</style>\n",
       "<table border=\"1\" class=\"dataframe\">\n",
       "  <thead>\n",
       "    <tr style=\"text-align: right;\">\n",
       "      <th></th>\n",
       "      <th>Brand</th>\n",
       "      <th>Year</th>\n",
       "    </tr>\n",
       "  </thead>\n",
       "  <tbody>\n",
       "    <tr>\n",
       "      <th>1</th>\n",
       "      <td>Hyundai</td>\n",
       "      <td>2014</td>\n",
       "    </tr>\n",
       "    <tr>\n",
       "      <th>2</th>\n",
       "      <td>Tata</td>\n",
       "      <td>2011</td>\n",
       "    </tr>\n",
       "    <tr>\n",
       "      <th>3</th>\n",
       "      <td>Mahindra</td>\n",
       "      <td>2015</td>\n",
       "    </tr>\n",
       "    <tr>\n",
       "      <th>4</th>\n",
       "      <td>Maruti</td>\n",
       "      <td>2012</td>\n",
       "    </tr>\n",
       "    <tr>\n",
       "      <th>5</th>\n",
       "      <td>Hyundai</td>\n",
       "      <td>2016</td>\n",
       "    </tr>\n",
       "  </tbody>\n",
       "</table>\n",
       "</div>"
      ],
      "text/plain": [
       "      Brand  Year\n",
       "1   Hyundai  2014\n",
       "2      Tata  2011\n",
       "3  Mahindra  2015\n",
       "4    Maruti  2012\n",
       "5   Hyundai  2016"
      ]
     },
     "metadata": {},
     "output_type": "display_data"
    }
   ],
   "source": [
    "display(data.loc[1:5,['Brand','Year']])"
   ]
  },
  {
   "cell_type": "code",
   "execution_count": 24,
   "id": "794207a4",
   "metadata": {},
   "outputs": [
    {
     "data": {
      "text/html": [
       "<div>\n",
       "<style scoped>\n",
       "    .dataframe tbody tr th:only-of-type {\n",
       "        vertical-align: middle;\n",
       "    }\n",
       "\n",
       "    .dataframe tbody tr th {\n",
       "        vertical-align: top;\n",
       "    }\n",
       "\n",
       "    .dataframe thead th {\n",
       "        text-align: right;\n",
       "    }\n",
       "</style>\n",
       "<table border=\"1\" class=\"dataframe\">\n",
       "  <thead>\n",
       "    <tr style=\"text-align: right;\">\n",
       "      <th></th>\n",
       "      <th>Brand</th>\n",
       "      <th>Year</th>\n",
       "      <th>Kms Driven</th>\n",
       "      <th>City</th>\n",
       "      <th>Mileage</th>\n",
       "    </tr>\n",
       "  </thead>\n",
       "  <tbody>\n",
       "    <tr>\n",
       "      <th>0</th>\n",
       "      <td>Maruti</td>\n",
       "      <td>2012</td>\n",
       "      <td>50000</td>\n",
       "      <td>Gurgaon</td>\n",
       "      <td>28</td>\n",
       "    </tr>\n",
       "    <tr>\n",
       "      <th>1</th>\n",
       "      <td>Hyundai</td>\n",
       "      <td>2014</td>\n",
       "      <td>30000</td>\n",
       "      <td>Delhi</td>\n",
       "      <td>27</td>\n",
       "    </tr>\n",
       "    <tr>\n",
       "      <th>2</th>\n",
       "      <td>Tata</td>\n",
       "      <td>2011</td>\n",
       "      <td>60000</td>\n",
       "      <td>Mumbai</td>\n",
       "      <td>25</td>\n",
       "    </tr>\n",
       "    <tr>\n",
       "      <th>3</th>\n",
       "      <td>Mahindra</td>\n",
       "      <td>2015</td>\n",
       "      <td>25000</td>\n",
       "      <td>Delhi</td>\n",
       "      <td>26</td>\n",
       "    </tr>\n",
       "    <tr>\n",
       "      <th>4</th>\n",
       "      <td>Maruti</td>\n",
       "      <td>2012</td>\n",
       "      <td>10000</td>\n",
       "      <td>Mumbai</td>\n",
       "      <td>28</td>\n",
       "    </tr>\n",
       "    <tr>\n",
       "      <th>5</th>\n",
       "      <td>Hyundai</td>\n",
       "      <td>2016</td>\n",
       "      <td>46000</td>\n",
       "      <td>Delhi</td>\n",
       "      <td>29</td>\n",
       "    </tr>\n",
       "    <tr>\n",
       "      <th>6</th>\n",
       "      <td>Renault</td>\n",
       "      <td>2014</td>\n",
       "      <td>31000</td>\n",
       "      <td>Mumbai</td>\n",
       "      <td>24</td>\n",
       "    </tr>\n",
       "    <tr>\n",
       "      <th>7</th>\n",
       "      <td>Tata</td>\n",
       "      <td>2018</td>\n",
       "      <td>15000</td>\n",
       "      <td>Chennai</td>\n",
       "      <td>21</td>\n",
       "    </tr>\n",
       "    <tr>\n",
       "      <th>8</th>\n",
       "      <td>Maruti</td>\n",
       "      <td>2019</td>\n",
       "      <td>12000</td>\n",
       "      <td>Ghaziabad</td>\n",
       "      <td>24</td>\n",
       "    </tr>\n",
       "  </tbody>\n",
       "</table>\n",
       "</div>"
      ],
      "text/plain": [
       "      Brand  Year  Kms Driven       City  Mileage\n",
       "0    Maruti  2012       50000    Gurgaon       28\n",
       "1   Hyundai  2014       30000      Delhi       27\n",
       "2      Tata  2011       60000     Mumbai       25\n",
       "3  Mahindra  2015       25000      Delhi       26\n",
       "4    Maruti  2012       10000     Mumbai       28\n",
       "5   Hyundai  2016       46000      Delhi       29\n",
       "6   Renault  2014       31000     Mumbai       24\n",
       "7      Tata  2018       15000    Chennai       21\n",
       "8    Maruti  2019       12000  Ghaziabad       24"
      ]
     },
     "execution_count": 24,
     "metadata": {},
     "output_type": "execute_result"
    }
   ],
   "source": [
    "data"
   ]
  },
  {
   "cell_type": "markdown",
   "id": "badd032d",
   "metadata": {},
   "source": [
    "Updating the value of any column"
   ]
  },
  {
   "cell_type": "code",
   "execution_count": 25,
   "id": "87e77b6d",
   "metadata": {},
   "outputs": [
    {
     "data": {
      "text/html": [
       "<div>\n",
       "<style scoped>\n",
       "    .dataframe tbody tr th:only-of-type {\n",
       "        vertical-align: middle;\n",
       "    }\n",
       "\n",
       "    .dataframe tbody tr th {\n",
       "        vertical-align: top;\n",
       "    }\n",
       "\n",
       "    .dataframe thead th {\n",
       "        text-align: right;\n",
       "    }\n",
       "</style>\n",
       "<table border=\"1\" class=\"dataframe\">\n",
       "  <thead>\n",
       "    <tr style=\"text-align: right;\">\n",
       "      <th></th>\n",
       "      <th>Brand</th>\n",
       "      <th>Year</th>\n",
       "      <th>Kms Driven</th>\n",
       "      <th>City</th>\n",
       "      <th>Mileage</th>\n",
       "    </tr>\n",
       "  </thead>\n",
       "  <tbody>\n",
       "    <tr>\n",
       "      <th>0</th>\n",
       "      <td>Maruti</td>\n",
       "      <td>2012</td>\n",
       "      <td>50000</td>\n",
       "      <td>Gurgaon</td>\n",
       "      <td>22</td>\n",
       "    </tr>\n",
       "    <tr>\n",
       "      <th>1</th>\n",
       "      <td>Hyundai</td>\n",
       "      <td>2014</td>\n",
       "      <td>30000</td>\n",
       "      <td>Delhi</td>\n",
       "      <td>22</td>\n",
       "    </tr>\n",
       "    <tr>\n",
       "      <th>2</th>\n",
       "      <td>Tata</td>\n",
       "      <td>2011</td>\n",
       "      <td>60000</td>\n",
       "      <td>Mumbai</td>\n",
       "      <td>22</td>\n",
       "    </tr>\n",
       "    <tr>\n",
       "      <th>3</th>\n",
       "      <td>Mahindra</td>\n",
       "      <td>2015</td>\n",
       "      <td>25000</td>\n",
       "      <td>Delhi</td>\n",
       "      <td>26</td>\n",
       "    </tr>\n",
       "    <tr>\n",
       "      <th>4</th>\n",
       "      <td>Maruti</td>\n",
       "      <td>2012</td>\n",
       "      <td>10000</td>\n",
       "      <td>Mumbai</td>\n",
       "      <td>22</td>\n",
       "    </tr>\n",
       "    <tr>\n",
       "      <th>5</th>\n",
       "      <td>Hyundai</td>\n",
       "      <td>2016</td>\n",
       "      <td>46000</td>\n",
       "      <td>Delhi</td>\n",
       "      <td>29</td>\n",
       "    </tr>\n",
       "    <tr>\n",
       "      <th>6</th>\n",
       "      <td>Renault</td>\n",
       "      <td>2014</td>\n",
       "      <td>31000</td>\n",
       "      <td>Mumbai</td>\n",
       "      <td>22</td>\n",
       "    </tr>\n",
       "    <tr>\n",
       "      <th>7</th>\n",
       "      <td>Tata</td>\n",
       "      <td>2018</td>\n",
       "      <td>15000</td>\n",
       "      <td>Chennai</td>\n",
       "      <td>21</td>\n",
       "    </tr>\n",
       "    <tr>\n",
       "      <th>8</th>\n",
       "      <td>Maruti</td>\n",
       "      <td>2019</td>\n",
       "      <td>12000</td>\n",
       "      <td>Ghaziabad</td>\n",
       "      <td>24</td>\n",
       "    </tr>\n",
       "  </tbody>\n",
       "</table>\n",
       "</div>"
      ],
      "text/plain": [
       "      Brand  Year  Kms Driven       City  Mileage\n",
       "0    Maruti  2012       50000    Gurgaon       22\n",
       "1   Hyundai  2014       30000      Delhi       22\n",
       "2      Tata  2011       60000     Mumbai       22\n",
       "3  Mahindra  2015       25000      Delhi       26\n",
       "4    Maruti  2012       10000     Mumbai       22\n",
       "5   Hyundai  2016       46000      Delhi       29\n",
       "6   Renault  2014       31000     Mumbai       22\n",
       "7      Tata  2018       15000    Chennai       21\n",
       "8    Maruti  2019       12000  Ghaziabad       24"
      ]
     },
     "metadata": {},
     "output_type": "display_data"
    }
   ],
   "source": [
    "data.loc[(data.Year < 2015), ['Mileage']] = 22\n",
    "display(data)"
   ]
  },
  {
   "cell_type": "markdown",
   "id": "e7743723",
   "metadata": {},
   "source": [
    "#### iloc()\n",
    "\n",
    "The iloc() function is an indexed-based selecting method which means that we have to pass an integer index in the method to select a specific row/column. This method does not include the last element of the range passed in it unlike loc(). iloc() does not accept the boolean data unlike loc(). Operations performed using iloc() are:"
   ]
  },
  {
   "cell_type": "markdown",
   "id": "5fa5f751",
   "metadata": {},
   "source": [
    "Selecting rows using integer indices"
   ]
  },
  {
   "cell_type": "code",
   "execution_count": 26,
   "id": "8830190e",
   "metadata": {},
   "outputs": [
    {
     "data": {
      "text/html": [
       "<div>\n",
       "<style scoped>\n",
       "    .dataframe tbody tr th:only-of-type {\n",
       "        vertical-align: middle;\n",
       "    }\n",
       "\n",
       "    .dataframe tbody tr th {\n",
       "        vertical-align: top;\n",
       "    }\n",
       "\n",
       "    .dataframe thead th {\n",
       "        text-align: right;\n",
       "    }\n",
       "</style>\n",
       "<table border=\"1\" class=\"dataframe\">\n",
       "  <thead>\n",
       "    <tr style=\"text-align: right;\">\n",
       "      <th></th>\n",
       "      <th>Brand</th>\n",
       "      <th>Year</th>\n",
       "      <th>Kms Driven</th>\n",
       "      <th>City</th>\n",
       "      <th>Mileage</th>\n",
       "    </tr>\n",
       "  </thead>\n",
       "  <tbody>\n",
       "    <tr>\n",
       "      <th>0</th>\n",
       "      <td>Maruti</td>\n",
       "      <td>2012</td>\n",
       "      <td>50000</td>\n",
       "      <td>Gurgaon</td>\n",
       "      <td>22</td>\n",
       "    </tr>\n",
       "    <tr>\n",
       "      <th>2</th>\n",
       "      <td>Tata</td>\n",
       "      <td>2011</td>\n",
       "      <td>60000</td>\n",
       "      <td>Mumbai</td>\n",
       "      <td>22</td>\n",
       "    </tr>\n",
       "    <tr>\n",
       "      <th>4</th>\n",
       "      <td>Maruti</td>\n",
       "      <td>2012</td>\n",
       "      <td>10000</td>\n",
       "      <td>Mumbai</td>\n",
       "      <td>22</td>\n",
       "    </tr>\n",
       "    <tr>\n",
       "      <th>7</th>\n",
       "      <td>Tata</td>\n",
       "      <td>2018</td>\n",
       "      <td>15000</td>\n",
       "      <td>Chennai</td>\n",
       "      <td>21</td>\n",
       "    </tr>\n",
       "  </tbody>\n",
       "</table>\n",
       "</div>"
      ],
      "text/plain": [
       "    Brand  Year  Kms Driven     City  Mileage\n",
       "0  Maruti  2012       50000  Gurgaon       22\n",
       "2    Tata  2011       60000   Mumbai       22\n",
       "4  Maruti  2012       10000   Mumbai       22\n",
       "7    Tata  2018       15000  Chennai       21"
      ]
     },
     "metadata": {},
     "output_type": "display_data"
    }
   ],
   "source": [
    "display(data.iloc[[0, 2, 4, 7]])"
   ]
  },
  {
   "cell_type": "markdown",
   "id": "9826925a",
   "metadata": {},
   "source": [
    "Selecting a range of columns and rows simultaneously"
   ]
  },
  {
   "cell_type": "code",
   "execution_count": 29,
   "id": "2365105e",
   "metadata": {},
   "outputs": [
    {
     "data": {
      "text/html": [
       "<div>\n",
       "<style scoped>\n",
       "    .dataframe tbody tr th:only-of-type {\n",
       "        vertical-align: middle;\n",
       "    }\n",
       "\n",
       "    .dataframe tbody tr th {\n",
       "        vertical-align: top;\n",
       "    }\n",
       "\n",
       "    .dataframe thead th {\n",
       "        text-align: right;\n",
       "    }\n",
       "</style>\n",
       "<table border=\"1\" class=\"dataframe\">\n",
       "  <thead>\n",
       "    <tr style=\"text-align: right;\">\n",
       "      <th></th>\n",
       "      <th>Kms Driven</th>\n",
       "      <th>City</th>\n",
       "      <th>Mileage</th>\n",
       "    </tr>\n",
       "  </thead>\n",
       "  <tbody>\n",
       "    <tr>\n",
       "      <th>1</th>\n",
       "      <td>30000</td>\n",
       "      <td>Delhi</td>\n",
       "      <td>22</td>\n",
       "    </tr>\n",
       "    <tr>\n",
       "      <th>2</th>\n",
       "      <td>60000</td>\n",
       "      <td>Mumbai</td>\n",
       "      <td>22</td>\n",
       "    </tr>\n",
       "    <tr>\n",
       "      <th>3</th>\n",
       "      <td>25000</td>\n",
       "      <td>Delhi</td>\n",
       "      <td>26</td>\n",
       "    </tr>\n",
       "    <tr>\n",
       "      <th>4</th>\n",
       "      <td>10000</td>\n",
       "      <td>Mumbai</td>\n",
       "      <td>22</td>\n",
       "    </tr>\n",
       "  </tbody>\n",
       "</table>\n",
       "</div>"
      ],
      "text/plain": [
       "   Kms Driven    City  Mileage\n",
       "1       30000   Delhi       22\n",
       "2       60000  Mumbai       22\n",
       "3       25000   Delhi       26\n",
       "4       10000  Mumbai       22"
      ]
     },
     "metadata": {},
     "output_type": "display_data"
    }
   ],
   "source": [
    "display(data.iloc[1: 5, 2: 5])"
   ]
  },
  {
   "cell_type": "code",
   "execution_count": 31,
   "id": "a3c86386",
   "metadata": {},
   "outputs": [
    {
     "data": {
      "text/html": [
       "<div>\n",
       "<style scoped>\n",
       "    .dataframe tbody tr th:only-of-type {\n",
       "        vertical-align: middle;\n",
       "    }\n",
       "\n",
       "    .dataframe tbody tr th {\n",
       "        vertical-align: top;\n",
       "    }\n",
       "\n",
       "    .dataframe thead th {\n",
       "        text-align: right;\n",
       "    }\n",
       "</style>\n",
       "<table border=\"1\" class=\"dataframe\">\n",
       "  <thead>\n",
       "    <tr style=\"text-align: right;\">\n",
       "      <th></th>\n",
       "      <th>Brand</th>\n",
       "      <th>Year</th>\n",
       "      <th>Kms Driven</th>\n",
       "      <th>City</th>\n",
       "      <th>Mileage</th>\n",
       "    </tr>\n",
       "  </thead>\n",
       "  <tbody>\n",
       "    <tr>\n",
       "      <th>0</th>\n",
       "      <td>Maruti</td>\n",
       "      <td>2012</td>\n",
       "      <td>50000</td>\n",
       "      <td>Gurgaon</td>\n",
       "      <td>22</td>\n",
       "    </tr>\n",
       "    <tr>\n",
       "      <th>4</th>\n",
       "      <td>Maruti</td>\n",
       "      <td>2012</td>\n",
       "      <td>10000</td>\n",
       "      <td>Mumbai</td>\n",
       "      <td>22</td>\n",
       "    </tr>\n",
       "    <tr>\n",
       "      <th>8</th>\n",
       "      <td>Maruti</td>\n",
       "      <td>2019</td>\n",
       "      <td>12000</td>\n",
       "      <td>Ghaziabad</td>\n",
       "      <td>24</td>\n",
       "    </tr>\n",
       "  </tbody>\n",
       "</table>\n",
       "</div>"
      ],
      "text/plain": [
       "    Brand  Year  Kms Driven       City  Mileage\n",
       "0  Maruti  2012       50000    Gurgaon       22\n",
       "4  Maruti  2012       10000     Mumbai       22\n",
       "8  Maruti  2019       12000  Ghaziabad       24"
      ]
     },
     "metadata": {},
     "output_type": "display_data"
    }
   ],
   "source": [
    "display(data.loc[(data.Brand == 'Maruti')])"
   ]
  },
  {
   "cell_type": "markdown",
   "id": "da3212e4",
   "metadata": {},
   "source": [
    "Series.loc"
   ]
  },
  {
   "cell_type": "code",
   "execution_count": 32,
   "id": "d3db3e27",
   "metadata": {},
   "outputs": [
    {
     "data": {
      "text/plain": [
       "City 1    New York\n",
       "City 2     Chicago\n",
       "City 3     Toronto\n",
       "City 4      Lisbon\n",
       "dtype: object"
      ]
     },
     "execution_count": 32,
     "metadata": {},
     "output_type": "execute_result"
    }
   ],
   "source": [
    "# Creating the Series\n",
    "sr = pd.Series(['New York', 'Chicago', 'Toronto', 'Lisbon'])\n",
    "  \n",
    "# Creating the row axis labels\n",
    "sr.index = ['City 1', 'City 2', 'City 3', 'City 4'] \n",
    "sr"
   ]
  },
  {
   "cell_type": "markdown",
   "id": "b3ac21c4",
   "metadata": {},
   "source": [
    "selecting values based on index name"
   ]
  },
  {
   "cell_type": "code",
   "execution_count": 33,
   "id": "512a0b56",
   "metadata": {},
   "outputs": [
    {
     "data": {
      "text/plain": [
       "City 4      Lisbon\n",
       "City 3     Toronto\n",
       "City 1    New York\n",
       "dtype: object"
      ]
     },
     "execution_count": 33,
     "metadata": {},
     "output_type": "execute_result"
    }
   ],
   "source": [
    "sr.loc[['City 4', 'City 3', 'City 1']]"
   ]
  },
  {
   "cell_type": "markdown",
   "id": "f0c77dc4",
   "metadata": {},
   "source": [
    "selecting range of values in a series"
   ]
  },
  {
   "cell_type": "code",
   "execution_count": 34,
   "id": "ce39353a",
   "metadata": {},
   "outputs": [
    {
     "data": {
      "text/plain": [
       "City 1    New York\n",
       "City 2     Chicago\n",
       "City 3     Toronto\n",
       "dtype: object"
      ]
     },
     "execution_count": 34,
     "metadata": {},
     "output_type": "execute_result"
    }
   ],
   "source": [
    "sr.iloc[0:3]"
   ]
  },
  {
   "cell_type": "code",
   "execution_count": 35,
   "id": "24d8dbb0",
   "metadata": {},
   "outputs": [
    {
     "data": {
      "text/plain": [
       "City 1    New York\n",
       "City 2     Chicago\n",
       "City 3     Toronto\n",
       "dtype: object"
      ]
     },
     "execution_count": 35,
     "metadata": {},
     "output_type": "execute_result"
    }
   ],
   "source": [
    "sr.iloc[:3]"
   ]
  },
  {
   "cell_type": "markdown",
   "id": "e426ef06",
   "metadata": {},
   "source": [
    "use boolean mask the same length as the index"
   ]
  },
  {
   "cell_type": "code",
   "execution_count": 36,
   "id": "b3575fc1",
   "metadata": {},
   "outputs": [
    {
     "data": {
      "text/plain": [
       "City 1    New York\n",
       "City 3     Toronto\n",
       "dtype: object"
      ]
     },
     "execution_count": 36,
     "metadata": {},
     "output_type": "execute_result"
    }
   ],
   "source": [
    "sr.iloc[[True, False, True, False]]"
   ]
  },
  {
   "cell_type": "markdown",
   "id": "a0524e55",
   "metadata": {},
   "source": [
    "slice by the index of the row"
   ]
  },
  {
   "cell_type": "code",
   "execution_count": 37,
   "id": "b8088ff4",
   "metadata": {},
   "outputs": [
    {
     "data": {
      "text/plain": [
       "City 1    New York\n",
       "City 3     Toronto\n",
       "dtype: object"
      ]
     },
     "execution_count": 37,
     "metadata": {},
     "output_type": "execute_result"
    }
   ],
   "source": [
    "sr.iloc[[0, 2]]"
   ]
  },
  {
   "cell_type": "markdown",
   "id": "3ab78023",
   "metadata": {},
   "source": [
    "### Pandas Read and Write Files"
   ]
  },
  {
   "cell_type": "markdown",
   "id": "75210dcc",
   "metadata": {},
   "source": [
    "#### read_csv\n",
    "\n",
    "pandas.read_csv(filepath_or_buffer, *, sep=_NoDefault.no_default, delimiter=None, header='infer', names=_NoDefault.no_default, index_col=None, usecols=None, squeeze=None, prefix=_NoDefault.no_default, mangle_dupe_cols=True, dtype=None, engine=None, converters=None, true_values=None, false_values=None, skipinitialspace=False, skiprows=None, skipfooter=0, nrows=None, na_values=None, keep_default_na=True, na_filter=True, verbose=False, skip_blank_lines=True, parse_dates=None, infer_datetime_format=False, keep_date_col=False, date_parser=None, dayfirst=False, cache_dates=True, iterator=False, chunksize=None, compression='infer', thousands=None, decimal='.', lineterminator=None, quotechar='\"', quoting=0, doublequote=True, escapechar=None, comment=None, encoding=None, encoding_errors='strict', dialect=None, error_bad_lines=None, warn_bad_lines=None, on_bad_lines=None, delim_whitespace=False, low_memory=True, memory_map=False, float_precision=None, storage_options=None)[source]\n"
   ]
  },
  {
   "cell_type": "code",
   "execution_count": 41,
   "id": "4ec5c49b",
   "metadata": {},
   "outputs": [
    {
     "name": "stdout",
     "output_type": "stream",
     "text": [
      "<class 'pandas.core.frame.DataFrame'>\n"
     ]
    },
    {
     "data": {
      "text/html": [
       "<div>\n",
       "<style scoped>\n",
       "    .dataframe tbody tr th:only-of-type {\n",
       "        vertical-align: middle;\n",
       "    }\n",
       "\n",
       "    .dataframe tbody tr th {\n",
       "        vertical-align: top;\n",
       "    }\n",
       "\n",
       "    .dataframe thead th {\n",
       "        text-align: right;\n",
       "    }\n",
       "</style>\n",
       "<table border=\"1\" class=\"dataframe\">\n",
       "  <thead>\n",
       "    <tr style=\"text-align: right;\">\n",
       "      <th></th>\n",
       "      <th>calories</th>\n",
       "      <th>duration</th>\n",
       "    </tr>\n",
       "  </thead>\n",
       "  <tbody>\n",
       "    <tr>\n",
       "      <th>0</th>\n",
       "      <td>420</td>\n",
       "      <td>50</td>\n",
       "    </tr>\n",
       "    <tr>\n",
       "      <th>1</th>\n",
       "      <td>380</td>\n",
       "      <td>40</td>\n",
       "    </tr>\n",
       "    <tr>\n",
       "      <th>2</th>\n",
       "      <td>390</td>\n",
       "      <td>45</td>\n",
       "    </tr>\n",
       "    <tr>\n",
       "      <th>3</th>\n",
       "      <td>300</td>\n",
       "      <td>60</td>\n",
       "    </tr>\n",
       "    <tr>\n",
       "      <th>4</th>\n",
       "      <td>430</td>\n",
       "      <td>35</td>\n",
       "    </tr>\n",
       "    <tr>\n",
       "      <th>5</th>\n",
       "      <td>210</td>\n",
       "      <td>45</td>\n",
       "    </tr>\n",
       "  </tbody>\n",
       "</table>\n",
       "</div>"
      ],
      "text/plain": [
       "   calories  duration\n",
       "0       420        50\n",
       "1       380        40\n",
       "2       390        45\n",
       "3       300        60\n",
       "4       430        35\n",
       "5       210        45"
      ]
     },
     "execution_count": 41,
     "metadata": {},
     "output_type": "execute_result"
    }
   ],
   "source": [
    "df = pd.read_csv('data.csv')\n",
    "\n",
    "print(type(df)) \n",
    "df"
   ]
  },
  {
   "cell_type": "markdown",
   "id": "15c4488f",
   "metadata": {},
   "source": [
    "You cannot pass a string as a path. You need to tell Python that this is a path and not a string.\n",
    "3 ways of doing it.\n",
    "\n",
    "1. put r before the start of the string. This will make it a raw string\n",
    "2. replace \\ with /\n",
    "3. replace \\ with \\\\\\"
   ]
  },
  {
   "cell_type": "code",
   "execution_count": 42,
   "id": "1116e724",
   "metadata": {},
   "outputs": [],
   "source": [
    "dfDifferentPath = pd.read_csv(r'C:\\Users\\shesmeg\\OneDrive - Baker Hughes\\Personal\\Besant_Technologies\\DSTraining\\Research_and_development_survey_2021_CSV_notes.csv')"
   ]
  },
  {
   "cell_type": "code",
   "execution_count": 43,
   "id": "67963338",
   "metadata": {},
   "outputs": [
    {
     "data": {
      "text/html": [
       "<div>\n",
       "<style scoped>\n",
       "    .dataframe tbody tr th:only-of-type {\n",
       "        vertical-align: middle;\n",
       "    }\n",
       "\n",
       "    .dataframe tbody tr th {\n",
       "        vertical-align: top;\n",
       "    }\n",
       "\n",
       "    .dataframe thead th {\n",
       "        text-align: right;\n",
       "    }\n",
       "</style>\n",
       "<table border=\"1\" class=\"dataframe\">\n",
       "  <thead>\n",
       "    <tr style=\"text-align: right;\">\n",
       "      <th></th>\n",
       "      <th>Number</th>\n",
       "      <th>Footnote</th>\n",
       "    </tr>\n",
       "  </thead>\n",
       "  <tbody>\n",
       "    <tr>\n",
       "      <th>0</th>\n",
       "      <td>1</td>\n",
       "      <td>Sector and published industry breakdowns accor...</td>\n",
       "    </tr>\n",
       "    <tr>\n",
       "      <th>1</th>\n",
       "      <td>2</td>\n",
       "      <td>In 2019 the R&amp;D Survey was conducted only for ...</td>\n",
       "    </tr>\n",
       "    <tr>\n",
       "      <th>2</th>\n",
       "      <td>3</td>\n",
       "      <td>Results for this category should be treated wi...</td>\n",
       "    </tr>\n",
       "    <tr>\n",
       "      <th>3</th>\n",
       "      <td>4</td>\n",
       "      <td>Includes a wide range of ANZSIC industry codes...</td>\n",
       "    </tr>\n",
       "    <tr>\n",
       "      <th>4</th>\n",
       "      <td>5</td>\n",
       "      <td>Based on Rolling Mean employment. See Datainfo...</td>\n",
       "    </tr>\n",
       "    <tr>\n",
       "      <th>5</th>\n",
       "      <td>6</td>\n",
       "      <td>Only collected from the business sector. Not c...</td>\n",
       "    </tr>\n",
       "    <tr>\n",
       "      <th>6</th>\n",
       "      <td>7</td>\n",
       "      <td>Only collected from the business sector and go...</td>\n",
       "    </tr>\n",
       "    <tr>\n",
       "      <th>7</th>\n",
       "      <td>8</td>\n",
       "      <td>Only collected from the business sector and hi...</td>\n",
       "    </tr>\n",
       "    <tr>\n",
       "      <th>8</th>\n",
       "      <td>9</td>\n",
       "      <td>Only collected from the government and higher ...</td>\n",
       "    </tr>\n",
       "    <tr>\n",
       "      <th>9</th>\n",
       "      <td>10</td>\n",
       "      <td>Only collected from the  higher education sect...</td>\n",
       "    </tr>\n",
       "    <tr>\n",
       "      <th>10</th>\n",
       "      <td>11</td>\n",
       "      <td>Only collected from the the Crown Research Ins...</td>\n",
       "    </tr>\n",
       "    <tr>\n",
       "      <th>11</th>\n",
       "      <td>12</td>\n",
       "      <td>Dollar figures exclude GST and are rounded to ...</td>\n",
       "    </tr>\n",
       "    <tr>\n",
       "      <th>12</th>\n",
       "      <td>13</td>\n",
       "      <td>Underlying counts of businesses are random rou...</td>\n",
       "    </tr>\n",
       "    <tr>\n",
       "      <th>13</th>\n",
       "      <td>14</td>\n",
       "      <td>Underlying counts of employees are rounded usi...</td>\n",
       "    </tr>\n",
       "    <tr>\n",
       "      <th>14</th>\n",
       "      <td>15</td>\n",
       "      <td>Respondents are asked to allocate to each of t...</td>\n",
       "    </tr>\n",
       "    <tr>\n",
       "      <th>15</th>\n",
       "      <td>16</td>\n",
       "      <td>Includes 'defence' and 'other' research purposes.</td>\n",
       "    </tr>\n",
       "    <tr>\n",
       "      <th>16</th>\n",
       "      <td>17</td>\n",
       "      <td>Research intended to benefit the sectors of Pl...</td>\n",
       "    </tr>\n",
       "    <tr>\n",
       "      <th>17</th>\n",
       "      <td>18</td>\n",
       "      <td>Research intended to benefit the sectors of En...</td>\n",
       "    </tr>\n",
       "    <tr>\n",
       "      <th>18</th>\n",
       "      <td>19</td>\n",
       "      <td>Research intended to benefit the sectors of He...</td>\n",
       "    </tr>\n",
       "    <tr>\n",
       "      <th>19</th>\n",
       "      <td>20</td>\n",
       "      <td>Research intended to benefit the sectors of Ec...</td>\n",
       "    </tr>\n",
       "    <tr>\n",
       "      <th>20</th>\n",
       "      <td>21</td>\n",
       "      <td>Includes New Zealand local government agencies.</td>\n",
       "    </tr>\n",
       "    <tr>\n",
       "      <th>21</th>\n",
       "      <td>22</td>\n",
       "      <td>Basic research is carried out to advance knowl...</td>\n",
       "    </tr>\n",
       "    <tr>\n",
       "      <th>22</th>\n",
       "      <td>23</td>\n",
       "      <td>Pure basic research is research to pursue new ...</td>\n",
       "    </tr>\n",
       "    <tr>\n",
       "      <th>23</th>\n",
       "      <td>24</td>\n",
       "      <td>Targeted basic research is research to produce...</td>\n",
       "    </tr>\n",
       "    <tr>\n",
       "      <th>24</th>\n",
       "      <td>25</td>\n",
       "      <td>Applied research is investigation undertaken t...</td>\n",
       "    </tr>\n",
       "    <tr>\n",
       "      <th>25</th>\n",
       "      <td>26</td>\n",
       "      <td>Experimental research is systematic work under...</td>\n",
       "    </tr>\n",
       "    <tr>\n",
       "      <th>26</th>\n",
       "      <td>27</td>\n",
       "      <td>Businesses were asked to indicate one main rea...</td>\n",
       "    </tr>\n",
       "    <tr>\n",
       "      <th>27</th>\n",
       "      <td>28</td>\n",
       "      <td>Some categories or groups may not equal the to...</td>\n",
       "    </tr>\n",
       "    <tr>\n",
       "      <th>28</th>\n",
       "      <td>29</td>\n",
       "      <td>Excludes licensing of intellectual property.</td>\n",
       "    </tr>\n",
       "    <tr>\n",
       "      <th>29</th>\n",
       "      <td>30</td>\n",
       "      <td>Excludes subsidaries.</td>\n",
       "    </tr>\n",
       "    <tr>\n",
       "      <th>30</th>\n",
       "      <td>31</td>\n",
       "      <td>No longer collected after 2014.</td>\n",
       "    </tr>\n",
       "    <tr>\n",
       "      <th>31</th>\n",
       "      <td>32</td>\n",
       "      <td>GDP is based on Stats NZ's GDP current price e...</td>\n",
       "    </tr>\n",
       "    <tr>\n",
       "      <th>32</th>\n",
       "      <td>33</td>\n",
       "      <td>Sourced from Organisation for Economic Co-oper...</td>\n",
       "    </tr>\n",
       "    <tr>\n",
       "      <th>33</th>\n",
       "      <td>34</td>\n",
       "      <td>For more information on definitions and refere...</td>\n",
       "    </tr>\n",
       "    <tr>\n",
       "      <th>34</th>\n",
       "      <td>Notes:</td>\n",
       "      <td>NaN</td>\n",
       "    </tr>\n",
       "    <tr>\n",
       "      <th>35</th>\n",
       "      <td>Due to small changes in population and sample ...</td>\n",
       "      <td>NaN</td>\n",
       "    </tr>\n",
       "    <tr>\n",
       "      <th>36</th>\n",
       "      <td>Due to rounding, figures may not add to stated...</td>\n",
       "      <td>NaN</td>\n",
       "    </tr>\n",
       "    <tr>\n",
       "      <th>37</th>\n",
       "      <td>Symbols:</td>\n",
       "      <td>NaN</td>\n",
       "    </tr>\n",
       "    <tr>\n",
       "      <th>38</th>\n",
       "      <td>... Data not collected</td>\n",
       "      <td>NaN</td>\n",
       "    </tr>\n",
       "    <tr>\n",
       "      <th>39</th>\n",
       "      <td>.. Data not applicable or no data available</td>\n",
       "      <td>NaN</td>\n",
       "    </tr>\n",
       "    <tr>\n",
       "      <th>40</th>\n",
       "      <td>C Confidential</td>\n",
       "      <td>NaN</td>\n",
       "    </tr>\n",
       "    <tr>\n",
       "      <th>41</th>\n",
       "      <td>S Supressed for quality reasons</td>\n",
       "      <td>NaN</td>\n",
       "    </tr>\n",
       "    <tr>\n",
       "      <th>42</th>\n",
       "      <td>R Revised</td>\n",
       "      <td>NaN</td>\n",
       "    </tr>\n",
       "    <tr>\n",
       "      <th>43</th>\n",
       "      <td>P Provisional</td>\n",
       "      <td>NaN</td>\n",
       "    </tr>\n",
       "  </tbody>\n",
       "</table>\n",
       "</div>"
      ],
      "text/plain": [
       "                                               Number  \\\n",
       "0                                                   1   \n",
       "1                                                   2   \n",
       "2                                                   3   \n",
       "3                                                   4   \n",
       "4                                                   5   \n",
       "5                                                   6   \n",
       "6                                                   7   \n",
       "7                                                   8   \n",
       "8                                                   9   \n",
       "9                                                  10   \n",
       "10                                                 11   \n",
       "11                                                 12   \n",
       "12                                                 13   \n",
       "13                                                 14   \n",
       "14                                                 15   \n",
       "15                                                 16   \n",
       "16                                                 17   \n",
       "17                                                 18   \n",
       "18                                                 19   \n",
       "19                                                 20   \n",
       "20                                                 21   \n",
       "21                                                 22   \n",
       "22                                                 23   \n",
       "23                                                 24   \n",
       "24                                                 25   \n",
       "25                                                 26   \n",
       "26                                                 27   \n",
       "27                                                 28   \n",
       "28                                                 29   \n",
       "29                                                 30   \n",
       "30                                                 31   \n",
       "31                                                 32   \n",
       "32                                                 33   \n",
       "33                                                 34   \n",
       "34                                             Notes:   \n",
       "35  Due to small changes in population and sample ...   \n",
       "36  Due to rounding, figures may not add to stated...   \n",
       "37                                           Symbols:   \n",
       "38                             ... Data not collected   \n",
       "39        .. Data not applicable or no data available   \n",
       "40                                     C Confidential   \n",
       "41                    S Supressed for quality reasons   \n",
       "42                                          R Revised   \n",
       "43                                      P Provisional   \n",
       "\n",
       "                                             Footnote  \n",
       "0   Sector and published industry breakdowns accor...  \n",
       "1   In 2019 the R&D Survey was conducted only for ...  \n",
       "2   Results for this category should be treated wi...  \n",
       "3   Includes a wide range of ANZSIC industry codes...  \n",
       "4   Based on Rolling Mean employment. See Datainfo...  \n",
       "5   Only collected from the business sector. Not c...  \n",
       "6   Only collected from the business sector and go...  \n",
       "7   Only collected from the business sector and hi...  \n",
       "8   Only collected from the government and higher ...  \n",
       "9   Only collected from the  higher education sect...  \n",
       "10  Only collected from the the Crown Research Ins...  \n",
       "11  Dollar figures exclude GST and are rounded to ...  \n",
       "12  Underlying counts of businesses are random rou...  \n",
       "13  Underlying counts of employees are rounded usi...  \n",
       "14  Respondents are asked to allocate to each of t...  \n",
       "15  Includes 'defence' and 'other' research purposes.  \n",
       "16  Research intended to benefit the sectors of Pl...  \n",
       "17  Research intended to benefit the sectors of En...  \n",
       "18  Research intended to benefit the sectors of He...  \n",
       "19  Research intended to benefit the sectors of Ec...  \n",
       "20    Includes New Zealand local government agencies.  \n",
       "21  Basic research is carried out to advance knowl...  \n",
       "22  Pure basic research is research to pursue new ...  \n",
       "23  Targeted basic research is research to produce...  \n",
       "24  Applied research is investigation undertaken t...  \n",
       "25  Experimental research is systematic work under...  \n",
       "26  Businesses were asked to indicate one main rea...  \n",
       "27  Some categories or groups may not equal the to...  \n",
       "28       Excludes licensing of intellectual property.  \n",
       "29                              Excludes subsidaries.  \n",
       "30                    No longer collected after 2014.  \n",
       "31  GDP is based on Stats NZ's GDP current price e...  \n",
       "32  Sourced from Organisation for Economic Co-oper...  \n",
       "33  For more information on definitions and refere...  \n",
       "34                                                NaN  \n",
       "35                                                NaN  \n",
       "36                                                NaN  \n",
       "37                                                NaN  \n",
       "38                                                NaN  \n",
       "39                                                NaN  \n",
       "40                                                NaN  \n",
       "41                                                NaN  \n",
       "42                                                NaN  \n",
       "43                                                NaN  "
      ]
     },
     "execution_count": 43,
     "metadata": {},
     "output_type": "execute_result"
    }
   ],
   "source": [
    "dfDifferentPath"
   ]
  },
  {
   "cell_type": "markdown",
   "id": "1d1a261b",
   "metadata": {},
   "source": [
    "#### to_csv\n",
    "\n",
    "DataFrame.to_csv(path_or_buf=None, sep=',', na_rep='', float_format=None, columns=None, header=True, index=True, index_label=None, mode='w', encoding=None, compression='infer', quoting=None, quotechar='\"', lineterminator=None, chunksize=None, date_format=None, doublequote=True, escapechar=None, decimal='.', errors='strict', storage_options=None)[source]\n"
   ]
  },
  {
   "cell_type": "code",
   "execution_count": 44,
   "id": "9ae61e4f",
   "metadata": {},
   "outputs": [],
   "source": [
    "data.to_csv(r'C:\\Users\\shesmeg\\OneDrive - Baker Hughes\\Personal\\Besant_Technologies\\DSTraining\\Module_4\\car_data1.csv')"
   ]
  }
 ],
 "metadata": {
  "kernelspec": {
   "display_name": "Python 3 (ipykernel)",
   "language": "python",
   "name": "python3"
  },
  "language_info": {
   "codemirror_mode": {
    "name": "ipython",
    "version": 3
   },
   "file_extension": ".py",
   "mimetype": "text/x-python",
   "name": "python",
   "nbconvert_exporter": "python",
   "pygments_lexer": "ipython3",
   "version": "3.9.13"
  }
 },
 "nbformat": 4,
 "nbformat_minor": 5
}
