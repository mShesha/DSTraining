{
 "cells": [
  {
   "cell_type": "markdown",
   "id": "75caf601",
   "metadata": {},
   "source": [
    "## Dictionary\n",
    "\n",
    "A dictionary is an unordered collection of items. Each item stored in a dictionary has a key and value. You can use a key to retrieve the corresponding value from the dictionary.  Dictionaries have the type `dict`.\n",
    "\n",
    "Dictionaries are often used to store many pieces of information e.g. details about a person, in a single variable. Dictionaries are created by enclosing key-value pairs within braces or curly brackets `{` and `}`."
   ]
  },
  {
   "cell_type": "code",
   "execution_count": null,
   "id": "3f766a2b",
   "metadata": {},
   "outputs": [],
   "source": [
    "person1 = {\n",
    "    'name': 'Amar',\n",
    "    'gender': 'Male',\n",
    "    'age': 32,\n",
    "    'married': True\n",
    "}"
   ]
  },
  {
   "cell_type": "code",
   "execution_count": null,
   "id": "87a15461",
   "metadata": {},
   "outputs": [],
   "source": [
    "person1"
   ]
  },
  {
   "cell_type": "markdown",
   "id": "ba4cd223",
   "metadata": {},
   "source": [
    "Dictionaries can also be created using the `dict` function."
   ]
  },
  {
   "cell_type": "code",
   "execution_count": null,
   "id": "09314b12",
   "metadata": {},
   "outputs": [],
   "source": [
    "person2 = dict(name='Rani', gender='Female', age=28, married=False)"
   ]
  },
  {
   "cell_type": "code",
   "execution_count": null,
   "id": "73825a88",
   "metadata": {},
   "outputs": [],
   "source": [
    "person2"
   ]
  },
  {
   "cell_type": "code",
   "execution_count": null,
   "id": "7718bacd",
   "metadata": {},
   "outputs": [],
   "source": [
    "type(person1)"
   ]
  },
  {
   "cell_type": "markdown",
   "id": "2f2a254a",
   "metadata": {},
   "source": [
    "Keys can be used to access values using square brackets `[` and `]`."
   ]
  },
  {
   "cell_type": "code",
   "execution_count": null,
   "id": "063a66cf",
   "metadata": {},
   "outputs": [],
   "source": [
    "person1['name']"
   ]
  },
  {
   "cell_type": "code",
   "execution_count": null,
   "id": "308bb61c",
   "metadata": {},
   "outputs": [],
   "source": [
    "person2['name']"
   ]
  },
  {
   "cell_type": "markdown",
   "id": "1322280d",
   "metadata": {},
   "source": [
    "If a key isn't present in the dictionary, then a `KeyError` is thrown."
   ]
  },
  {
   "cell_type": "code",
   "execution_count": null,
   "id": "f4774543",
   "metadata": {},
   "outputs": [],
   "source": [
    "person1['address']"
   ]
  },
  {
   "cell_type": "markdown",
   "id": "af2a2c6b",
   "metadata": {},
   "source": [
    "You can also use the `get` method to access the value associated with a key."
   ]
  },
  {
   "cell_type": "code",
   "execution_count": null,
   "id": "8a040e37",
   "metadata": {},
   "outputs": [],
   "source": [
    "person2.get(\"name\")"
   ]
  },
  {
   "cell_type": "markdown",
   "id": "7b30367f",
   "metadata": {},
   "source": [
    "The `get` method also accepts a default value, returned if the key is not present in the dictionary."
   ]
  },
  {
   "cell_type": "code",
   "execution_count": null,
   "id": "b3031898",
   "metadata": {},
   "outputs": [],
   "source": [
    "person2.get(\"address\", \"Unknown\")"
   ]
  },
  {
   "cell_type": "markdown",
   "id": "cd19030c",
   "metadata": {},
   "source": [
    "You can check whether a key is present in a dictionary using the `in` operator."
   ]
  },
  {
   "cell_type": "code",
   "execution_count": null,
   "id": "673ecc8d",
   "metadata": {},
   "outputs": [],
   "source": [
    "'name' in person1"
   ]
  },
  {
   "cell_type": "code",
   "execution_count": null,
   "id": "7e197ee7",
   "metadata": {},
   "outputs": [],
   "source": [
    "'address' in person1"
   ]
  },
  {
   "cell_type": "markdown",
   "id": "f226184e",
   "metadata": {},
   "source": [
    "You can change the value associated with a key using the assignment operator."
   ]
  },
  {
   "cell_type": "code",
   "execution_count": null,
   "id": "44a3a776",
   "metadata": {},
   "outputs": [],
   "source": [
    "person2['married']"
   ]
  },
  {
   "cell_type": "code",
   "execution_count": null,
   "id": "cab0c4f9",
   "metadata": {},
   "outputs": [],
   "source": [
    "person2['married'] = True"
   ]
  },
  {
   "cell_type": "code",
   "execution_count": null,
   "id": "393c86fa",
   "metadata": {},
   "outputs": [],
   "source": [
    "person2['married']"
   ]
  },
  {
   "cell_type": "markdown",
   "id": "40f1fd5e",
   "metadata": {},
   "source": [
    "The assignment operator can also be used to add new key-value pairs to the dictionary."
   ]
  },
  {
   "cell_type": "code",
   "execution_count": null,
   "id": "246cc80f",
   "metadata": {},
   "outputs": [],
   "source": [
    "person1"
   ]
  },
  {
   "cell_type": "code",
   "execution_count": null,
   "id": "627d4e53",
   "metadata": {},
   "outputs": [],
   "source": [
    "person1['address'] = '10, Bangalore'"
   ]
  },
  {
   "cell_type": "code",
   "execution_count": null,
   "id": "546c89df",
   "metadata": {},
   "outputs": [],
   "source": [
    "person1"
   ]
  },
  {
   "cell_type": "markdown",
   "id": "8fbdefd7",
   "metadata": {},
   "source": [
    "To remove a key and the associated value from a dictionary, use the `pop` method."
   ]
  },
  {
   "cell_type": "code",
   "execution_count": null,
   "id": "f64123a7",
   "metadata": {},
   "outputs": [],
   "source": [
    "person1.pop('address')"
   ]
  },
  {
   "cell_type": "code",
   "execution_count": null,
   "id": "ba1e092e",
   "metadata": {},
   "outputs": [],
   "source": [
    "person1"
   ]
  },
  {
   "cell_type": "markdown",
   "id": "5df741d6",
   "metadata": {},
   "source": [
    "Dictionaries also provide methods to view the list of keys, values, or key-value pairs inside it."
   ]
  },
  {
   "cell_type": "code",
   "execution_count": null,
   "id": "4500eb6f",
   "metadata": {},
   "outputs": [],
   "source": [
    "person1.keys()"
   ]
  },
  {
   "cell_type": "code",
   "execution_count": null,
   "id": "d4714dcb",
   "metadata": {},
   "outputs": [],
   "source": [
    "person1.values()"
   ]
  },
  {
   "cell_type": "code",
   "execution_count": null,
   "id": "65317a4c",
   "metadata": {},
   "outputs": [],
   "source": [
    "person1.items()"
   ]
  },
  {
   "cell_type": "code",
   "execution_count": null,
   "id": "2b57e257",
   "metadata": {},
   "outputs": [],
   "source": [
    "person1.items()[1]"
   ]
  },
  {
   "cell_type": "markdown",
   "id": "f2b3dc18",
   "metadata": {},
   "source": [
    "The results of `keys`, `values`, and `items` look like lists. However, they don't support the indexing operator `[]` for retrieving elements. "
   ]
  },
  {
   "cell_type": "code",
   "execution_count": null,
   "id": "b7177827",
   "metadata": {},
   "outputs": [],
   "source": [
    "list(person1.items())[1]"
   ]
  },
  {
   "cell_type": "code",
   "execution_count": null,
   "id": "b018ec5e",
   "metadata": {},
   "outputs": [],
   "source": [
    "dir(person1)"
   ]
  },
  {
   "cell_type": "markdown",
   "id": "e03803bc",
   "metadata": {},
   "source": [
    "## Exercise:\n",
    "    \n",
    "What happens if you use the same key multiple times while creating a dictionary?\n",
    "\n",
    "How can you create a copy of a dictionary (modifying the copy should not change the original)?\n",
    "\n",
    "Can the value associated with a key itself be a dictionary?\n",
    "\n",
    "How can you add the key-value pairs from one dictionary into another dictionary? Hint: See the update method.\n",
    "    \n",
    "Can the dictionary's keys be something other than a string, e.g., a number, boolean, list, etc.?\n"
   ]
  },
  {
   "cell_type": "code",
   "execution_count": null,
   "id": "3bcc41ae",
   "metadata": {},
   "outputs": [],
   "source": [
    "person2.update({'name':'Raj'})"
   ]
  },
  {
   "cell_type": "code",
   "execution_count": null,
   "id": "99ea37e6",
   "metadata": {},
   "outputs": [],
   "source": [
    "person2"
   ]
  }
 ],
 "metadata": {
  "kernelspec": {
   "display_name": "Python 3 (ipykernel)",
   "language": "python",
   "name": "python3"
  },
  "language_info": {
   "codemirror_mode": {
    "name": "ipython",
    "version": 3
   },
   "file_extension": ".py",
   "mimetype": "text/x-python",
   "name": "python",
   "nbconvert_exporter": "python",
   "pygments_lexer": "ipython3",
   "version": "3.9.13"
  }
 },
 "nbformat": 4,
 "nbformat_minor": 5
}
