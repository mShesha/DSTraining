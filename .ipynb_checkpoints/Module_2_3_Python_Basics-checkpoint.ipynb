{
 "cells": [
  {
   "cell_type": "markdown",
   "id": "f27a3a95",
   "metadata": {},
   "source": [
    "Python Data Types"
   ]
  },
  {
   "cell_type": "markdown",
   "id": "9763355a",
   "metadata": {},
   "source": [
    "Numeric"
   ]
  },
  {
   "cell_type": "code",
   "execution_count": null,
   "id": "23b86e0a",
   "metadata": {},
   "outputs": [],
   "source": [
    "a = 2\n",
    "print(\"Type of a: \", type(a))"
   ]
  },
  {
   "cell_type": "code",
   "execution_count": null,
   "id": "5097bbd4",
   "metadata": {},
   "outputs": [],
   "source": [
    "dir(a)"
   ]
  },
  {
   "cell_type": "code",
   "execution_count": null,
   "id": "ac1aff44",
   "metadata": {},
   "outputs": [],
   "source": [
    "b = 2.0\n",
    "print(\"\\nType of b: \", type(b))"
   ]
  },
  {
   "cell_type": "markdown",
   "id": "0a1d8950",
   "metadata": {},
   "source": [
    "c = 2 + 7j\n",
    "print(\"\\nType of c: \", type(c))"
   ]
  },
  {
   "cell_type": "markdown",
   "id": "b66985f1",
   "metadata": {},
   "source": [
    "Arithmetic operators"
   ]
  },
  {
   "cell_type": "code",
   "execution_count": null,
   "id": "76e10494",
   "metadata": {},
   "outputs": [],
   "source": [
    "sum_value = a+b\n",
    "print(sum_value)"
   ]
  },
  {
   "cell_type": "code",
   "execution_count": null,
   "id": "0bd46729",
   "metadata": {},
   "outputs": [],
   "source": [
    "multiply = a*a\n",
    "print(multiply)"
   ]
  },
  {
   "cell_type": "code",
   "execution_count": null,
   "id": "81005052",
   "metadata": {},
   "outputs": [],
   "source": [
    "divide = b/2\n",
    "print(divide)"
   ]
  },
  {
   "cell_type": "markdown",
   "id": "44147d7c",
   "metadata": {},
   "source": [
    "Sequence"
   ]
  },
  {
   "cell_type": "code",
   "execution_count": null,
   "id": "04f92e93",
   "metadata": {},
   "outputs": [],
   "source": [
    "string1 = 'hello world'\n",
    "string2 = \"hello world\"\n",
    "string3 = '''hello world'''\n",
    "print(str(type(string1)) + \" \" + str(type(string2)) + \" \" + str(type(string3)))"
   ]
  },
  {
   "cell_type": "markdown",
   "id": "6d6c3a6d",
   "metadata": {},
   "source": [
    "Accessing elements of string"
   ]
  },
  {
   "cell_type": "code",
   "execution_count": null,
   "id": "2433c3a0",
   "metadata": {},
   "outputs": [],
   "source": [
    "print(string1[0])"
   ]
  },
  {
   "cell_type": "markdown",
   "id": "4e5efa93",
   "metadata": {},
   "source": [
    "String Concatination and repetition"
   ]
  },
  {
   "cell_type": "code",
   "execution_count": null,
   "id": "87b65970",
   "metadata": {},
   "outputs": [],
   "source": [
    "s = \"hello\"\n",
    "print(s+\"world\")\n",
    "print(s*4)\n",
    "print((s+\" world! \") *4)\n"
   ]
  },
  {
   "cell_type": "markdown",
   "id": "9dbb3e97",
   "metadata": {},
   "source": [
    "Lists"
   ]
  },
  {
   "cell_type": "code",
   "execution_count": null,
   "id": "35cb2198",
   "metadata": {},
   "outputs": [],
   "source": [
    "list1 = []\n",
    "list2 = [1,'hi',4.0]\n",
    "list3 = [[\"this\",\"is\",'a'],[\"multidimentional\",\"list\"]]"
   ]
  },
  {
   "cell_type": "code",
   "execution_count": null,
   "id": "234e2953",
   "metadata": {},
   "outputs": [],
   "source": [
    "print(list1)\n",
    "print(list2)\n",
    "print(list3)"
   ]
  },
  {
   "cell_type": "code",
   "execution_count": null,
   "id": "b4c36b59",
   "metadata": {},
   "outputs": [],
   "source": [
    "list4 = list('hello')\n",
    "list4"
   ]
  },
  {
   "cell_type": "code",
   "execution_count": null,
   "id": "4a66a215",
   "metadata": {},
   "outputs": [],
   "source": [
    "list4[3]"
   ]
  },
  {
   "cell_type": "code",
   "execution_count": null,
   "id": "0346dd3f",
   "metadata": {},
   "outputs": [],
   "source": [
    "list4[3]='L'"
   ]
  },
  {
   "cell_type": "code",
   "execution_count": null,
   "id": "e7e7f5d2",
   "metadata": {},
   "outputs": [],
   "source": [
    "list4"
   ]
  },
  {
   "cell_type": "markdown",
   "id": "e276a3bd",
   "metadata": {},
   "source": [
    "Accessing elements of List"
   ]
  },
  {
   "cell_type": "code",
   "execution_count": null,
   "id": "959ff1d7",
   "metadata": {},
   "outputs": [],
   "source": [
    "print(list2[1])\n",
    "print(list3[1][0])\n",
    "print(list2[-1])"
   ]
  },
  {
   "cell_type": "markdown",
   "id": "bbad39b6",
   "metadata": {},
   "source": [
    "Tuple"
   ]
  },
  {
   "cell_type": "code",
   "execution_count": null,
   "id": "aeee5312",
   "metadata": {},
   "outputs": [],
   "source": [
    "tuple1 = ()\n",
    "tuple2 = ('hi',4.0,[1,'world'])"
   ]
  },
  {
   "cell_type": "code",
   "execution_count": null,
   "id": "63051087",
   "metadata": {},
   "outputs": [],
   "source": [
    "tuple3 = (tuple1,tuple2)"
   ]
  },
  {
   "cell_type": "code",
   "execution_count": null,
   "id": "2151ddf9",
   "metadata": {},
   "outputs": [],
   "source": [
    "print(tuple1)\n",
    "print(tuple2)\n",
    "print(tuple3)"
   ]
  },
  {
   "cell_type": "markdown",
   "id": "aa0785a5",
   "metadata": {},
   "source": [
    "Accessing Tuples"
   ]
  },
  {
   "cell_type": "code",
   "execution_count": null,
   "id": "086e8c12",
   "metadata": {},
   "outputs": [],
   "source": [
    "print(tuple2[-1])\n",
    "print(tuple2[-1][1])"
   ]
  },
  {
   "cell_type": "code",
   "execution_count": null,
   "id": "acfbb815",
   "metadata": {},
   "outputs": [],
   "source": [
    "print(tuple3[1])\n",
    "print(tuple3[1][2])\n",
    "print(tuple3[1][2][1])"
   ]
  },
  {
   "cell_type": "code",
   "execution_count": null,
   "id": "838ec33b",
   "metadata": {},
   "outputs": [],
   "source": [
    "tuple3[1][2] = 1"
   ]
  },
  {
   "cell_type": "code",
   "execution_count": null,
   "id": "b5c10c56",
   "metadata": {},
   "outputs": [],
   "source": [
    "tuple3[0] = 1"
   ]
  },
  {
   "cell_type": "code",
   "execution_count": null,
   "id": "f36b46e4",
   "metadata": {},
   "outputs": [],
   "source": [
    "tuple3[1][2][1] = \"WORLD\""
   ]
  },
  {
   "cell_type": "code",
   "execution_count": null,
   "id": "c05b66ec",
   "metadata": {},
   "outputs": [],
   "source": [
    "print(tuple3[1][2][1])"
   ]
  },
  {
   "cell_type": "code",
   "execution_count": null,
   "id": "b2a0ae77",
   "metadata": {},
   "outputs": [],
   "source": [
    "print(type(tuple3))\n",
    "print(type(tuple3[1][2]))"
   ]
  },
  {
   "cell_type": "markdown",
   "id": "6363998a",
   "metadata": {},
   "source": [
    "Boolean"
   ]
  },
  {
   "cell_type": "code",
   "execution_count": null,
   "id": "3e15f1cc",
   "metadata": {},
   "outputs": [],
   "source": [
    "val1 = True\n",
    "val2 = False"
   ]
  },
  {
   "cell_type": "code",
   "execution_count": null,
   "id": "69e1803b",
   "metadata": {},
   "outputs": [],
   "source": [
    "print(type(val2))"
   ]
  },
  {
   "cell_type": "code",
   "execution_count": null,
   "id": "bd19a2e5",
   "metadata": {},
   "outputs": [],
   "source": [
    "val2 = True"
   ]
  },
  {
   "cell_type": "code",
   "execution_count": null,
   "id": "d4165d65",
   "metadata": {},
   "outputs": [],
   "source": [
    "val3 = true"
   ]
  },
  {
   "cell_type": "markdown",
   "id": "272450bc",
   "metadata": {},
   "source": [
    "Set"
   ]
  },
  {
   "cell_type": "code",
   "execution_count": null,
   "id": "d177c38e",
   "metadata": {},
   "outputs": [],
   "source": [
    "set1 = set()\n",
    "set2 = set(\"sequence\")"
   ]
  },
  {
   "cell_type": "code",
   "execution_count": null,
   "id": "f0ba68c9",
   "metadata": {},
   "outputs": [],
   "source": [
    "print(set1)\n",
    "print(set2)"
   ]
  },
  {
   "cell_type": "code",
   "execution_count": null,
   "id": "f53d81ed",
   "metadata": {},
   "outputs": [],
   "source": [
    "print(set2[1])"
   ]
  },
  {
   "cell_type": "code",
   "execution_count": null,
   "id": "dfcbc5d6",
   "metadata": {},
   "outputs": [],
   "source": [
    "for element in set2:\n",
    "    print(element, end=\" \")"
   ]
  },
  {
   "cell_type": "markdown",
   "id": "bc61d7d0",
   "metadata": {},
   "source": [
    "Dictionary"
   ]
  },
  {
   "cell_type": "code",
   "execution_count": null,
   "id": "31be83c1",
   "metadata": {},
   "outputs": [],
   "source": [
    "dict1 = {}\n",
    "dict2 = {1:\"one\", 2:\"two\", 3:\"three\", 2.0: \"two\"}\n",
    "dict3 = {\"name\" : \"Besant Techonologies\", \"course\" : \"Data Science & AI\", \"students_name\" : [\"abc\",\"xyz\"], 1: \"one\" }\n",
    "dict4 = dict({1: 'one', 2: 'two', 3:'three'}) \n",
    "dict5 = dict([(1, 'one'), (2, 'two')]) "
   ]
  },
  {
   "cell_type": "code",
   "execution_count": null,
   "id": "f403e2e4",
   "metadata": {},
   "outputs": [],
   "source": [
    "print(dict1)\n",
    "print(dict2)\n",
    "print(dict3)\n",
    "print(dict4)\n",
    "print(dict5)"
   ]
  },
  {
   "cell_type": "markdown",
   "id": "27ffbb0f",
   "metadata": {},
   "source": [
    "Accessing elements of a dictionary"
   ]
  },
  {
   "cell_type": "code",
   "execution_count": null,
   "id": "ccb2e596",
   "metadata": {},
   "outputs": [],
   "source": [
    "print(dict2[3])\n",
    "print(dict3[\"students_name\"])\n",
    "print(dict3[\"students_name\"][1])"
   ]
  },
  {
   "cell_type": "code",
   "execution_count": null,
   "id": "57ddcf8b",
   "metadata": {},
   "outputs": [],
   "source": [
    "print(dict2.values())\n",
    "print(dict3.keys())\n",
    "print(dict3.items())\n",
    "print(dict4.get(2))"
   ]
  },
  {
   "cell_type": "markdown",
   "id": "ebc70f76",
   "metadata": {},
   "source": [
    "None"
   ]
  },
  {
   "cell_type": "code",
   "execution_count": null,
   "id": "641d57dc",
   "metadata": {},
   "outputs": [],
   "source": [
    "nothing = None\n",
    "print(type(nothing))"
   ]
  },
  {
   "cell_type": "markdown",
   "id": "92e7db8d",
   "metadata": {},
   "source": [
    "len()\n",
    "str()\n",
    "bool()"
   ]
  }
 ],
 "metadata": {
  "kernelspec": {
   "display_name": "Python 3 (ipykernel)",
   "language": "python",
   "name": "python3"
  },
  "language_info": {
   "codemirror_mode": {
    "name": "ipython",
    "version": 3
   },
   "file_extension": ".py",
   "mimetype": "text/x-python",
   "name": "python",
   "nbconvert_exporter": "python",
   "pygments_lexer": "ipython3",
   "version": "3.9.13"
  }
 },
 "nbformat": 4,
 "nbformat_minor": 5
}
