{
 "cells": [
  {
   "cell_type": "markdown",
   "id": "c5bcb3fb",
   "metadata": {},
   "source": [
    "## Tuple\n",
    "\n",
    "A tuple is an ordered collection of values, similar to a list. However, it is not possible to add, remove, or modify values in a tuple. A tuple is created by enclosing values within parentheses ( and ), separated by commas.\n",
    "\n",
    "Any data structure that cannot be modified after creation is called immutable. You can think of tuples as immutable lists."
   ]
  },
  {
   "cell_type": "code",
   "execution_count": null,
   "id": "36b6113f",
   "metadata": {},
   "outputs": [],
   "source": [
    "fruits = ('apple', 'cherry', 'dates')"
   ]
  },
  {
   "cell_type": "code",
   "execution_count": null,
   "id": "2d5cbe78",
   "metadata": {},
   "outputs": [],
   "source": [
    "# check no. of elements\n",
    "len(fruits)"
   ]
  },
  {
   "cell_type": "code",
   "execution_count": null,
   "id": "4dfeffd6",
   "metadata": {},
   "outputs": [],
   "source": [
    "# get an element (positive index)\n",
    "fruits[0]"
   ]
  },
  {
   "cell_type": "code",
   "execution_count": null,
   "id": "6fcc0522",
   "metadata": {},
   "outputs": [],
   "source": [
    "# get an element (negative index)\n",
    "fruits[-2]"
   ]
  },
  {
   "cell_type": "code",
   "execution_count": null,
   "id": "0a2c0c1f",
   "metadata": {},
   "outputs": [],
   "source": [
    "# check if it contains an element\n",
    "'dates' in fruits"
   ]
  },
  {
   "cell_type": "code",
   "execution_count": null,
   "id": "f03b159a",
   "metadata": {},
   "outputs": [],
   "source": [
    "# try to change an element\n",
    "fruits[0] = 'avocado'"
   ]
  },
  {
   "cell_type": "code",
   "execution_count": null,
   "id": "06809676",
   "metadata": {},
   "outputs": [],
   "source": [
    "# try to append an element\n",
    "fruits.append('blueberry')"
   ]
  },
  {
   "cell_type": "code",
   "execution_count": null,
   "id": "f9b33532",
   "metadata": {},
   "outputs": [],
   "source": [
    "# try to remove an element\n",
    "fruits.remove('apple')"
   ]
  },
  {
   "cell_type": "markdown",
   "id": "e8a9a78f",
   "metadata": {},
   "source": [
    "You can also skip the parantheses ( and ) while creating a tuple. Python automatically converts comma-separated values into a tuple."
   ]
  },
  {
   "cell_type": "code",
   "execution_count": null,
   "id": "b3bff038",
   "metadata": {},
   "outputs": [],
   "source": [
    "the_3_friends = 'Amar', 'Akbar', 'Anthony'"
   ]
  },
  {
   "cell_type": "code",
   "execution_count": null,
   "id": "e978c974",
   "metadata": {},
   "outputs": [],
   "source": [
    "the_3_friends"
   ]
  },
  {
   "cell_type": "markdown",
   "id": "07aeab47",
   "metadata": {},
   "source": [
    "You can also create a tuple with just one element by typing a comma after it. Just wrapping it with parentheses `(` and `)` won't make it a tuple."
   ]
  },
  {
   "cell_type": "code",
   "execution_count": null,
   "id": "0bbb284d",
   "metadata": {},
   "outputs": [],
   "source": [
    "single_element_tuple = 4,"
   ]
  },
  {
   "cell_type": "code",
   "execution_count": null,
   "id": "7b8c6242",
   "metadata": {},
   "outputs": [],
   "source": [
    "single_element_tuple"
   ]
  },
  {
   "cell_type": "code",
   "execution_count": null,
   "id": "c0ee3d7d",
   "metadata": {},
   "outputs": [],
   "source": [
    "another_single_element_tuple = (4,)"
   ]
  },
  {
   "cell_type": "code",
   "execution_count": null,
   "id": "2f639467",
   "metadata": {},
   "outputs": [],
   "source": [
    "another_single_element_tuple"
   ]
  },
  {
   "cell_type": "code",
   "execution_count": null,
   "id": "f73b4256",
   "metadata": {},
   "outputs": [],
   "source": [
    "not_a_tuple = (4)"
   ]
  },
  {
   "cell_type": "code",
   "execution_count": null,
   "id": "92aa3399",
   "metadata": {},
   "outputs": [],
   "source": [
    "print(type(not_a_tuple))"
   ]
  },
  {
   "cell_type": "markdown",
   "id": "ef829793",
   "metadata": {},
   "source": [
    "Tuples are often used to create multiple variables with a single statement."
   ]
  },
  {
   "cell_type": "code",
   "execution_count": null,
   "id": "2de7de6b",
   "metadata": {},
   "outputs": [],
   "source": [
    "point = (3, 4)"
   ]
  },
  {
   "cell_type": "code",
   "execution_count": null,
   "id": "2b0d9532",
   "metadata": {},
   "outputs": [],
   "source": [
    "point_x, point_y = point"
   ]
  },
  {
   "cell_type": "code",
   "execution_count": null,
   "id": "6a41d0f7",
   "metadata": {},
   "outputs": [],
   "source": [
    "point_x"
   ]
  },
  {
   "cell_type": "code",
   "execution_count": null,
   "id": "8b3082b5",
   "metadata": {},
   "outputs": [],
   "source": [
    "point_y"
   ]
  },
  {
   "cell_type": "markdown",
   "id": "53350683",
   "metadata": {},
   "source": [
    "You can convert a list into a tuple using the `tuple` function, and vice versa using the `list` function"
   ]
  },
  {
   "cell_type": "code",
   "execution_count": null,
   "id": "1df13a72",
   "metadata": {},
   "outputs": [],
   "source": [
    "tuple(['one', 'two', 'three'])"
   ]
  },
  {
   "cell_type": "code",
   "execution_count": null,
   "id": "10c6faf5",
   "metadata": {},
   "outputs": [],
   "source": [
    "list(('Amar', 'Akbar', 'Anthony'))"
   ]
  },
  {
   "cell_type": "markdown",
   "id": "9c9357fa",
   "metadata": {},
   "source": [
    "Tuples have just two built-in methods: `count` and `index`.\n",
    "\n",
    "You could look for documentation, there's an easier way to check a method's documentation, using the `help` function."
   ]
  },
  {
   "cell_type": "code",
   "execution_count": null,
   "id": "bebab450",
   "metadata": {},
   "outputs": [],
   "source": [
    "a_tuple = 23, \"hello\", False, None, 23, 37, \"hello\""
   ]
  },
  {
   "cell_type": "code",
   "execution_count": null,
   "id": "dad2e829",
   "metadata": {},
   "outputs": [],
   "source": [
    "help(a_tuple.count)"
   ]
  },
  {
   "cell_type": "code",
   "execution_count": null,
   "id": "8fa2e3c4",
   "metadata": {},
   "outputs": [],
   "source": [
    "a_tuple.count(23)"
   ]
  },
  {
   "cell_type": "code",
   "execution_count": null,
   "id": "0f487a51",
   "metadata": {},
   "outputs": [],
   "source": [
    "a_tuple.index(37)"
   ]
  },
  {
   "cell_type": "code",
   "execution_count": null,
   "id": "3a8064cd",
   "metadata": {},
   "outputs": [],
   "source": [
    "a_tuple.index(\"hello\")"
   ]
  }
 ],
 "metadata": {
  "kernelspec": {
   "display_name": "Python 3 (ipykernel)",
   "language": "python",
   "name": "python3"
  },
  "language_info": {
   "codemirror_mode": {
    "name": "ipython",
    "version": 3
   },
   "file_extension": ".py",
   "mimetype": "text/x-python",
   "name": "python",
   "nbconvert_exporter": "python",
   "pygments_lexer": "ipython3",
   "version": "3.9.13"
  }
 },
 "nbformat": 4,
 "nbformat_minor": 5
}
