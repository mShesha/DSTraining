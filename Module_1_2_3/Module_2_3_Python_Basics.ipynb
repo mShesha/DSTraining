{
 "cells": [
  {
   "cell_type": "markdown",
   "id": "c3e8d350",
   "metadata": {},
   "source": [
    "Python Data Types"
   ]
  },
  {
   "cell_type": "markdown",
   "id": "8af4ae83",
   "metadata": {},
   "source": [
    "Numeric"
   ]
  },
  {
   "cell_type": "code",
   "execution_count": 1,
   "id": "0a6e8f14",
   "metadata": {},
   "outputs": [
    {
     "name": "stdout",
     "output_type": "stream",
     "text": [
      "Type of a:  <class 'int'>\n"
     ]
    }
   ],
   "source": [
    "a = 4\n",
    "print(\"Type of a: \", type(a))"
   ]
  },
  {
   "cell_type": "code",
   "execution_count": 5,
   "id": "1f42ff53",
   "metadata": {},
   "outputs": [],
   "source": [
    "lst1 = [1,2,3]"
   ]
  },
  {
   "cell_type": "code",
   "execution_count": 6,
   "id": "a1637138",
   "metadata": {},
   "outputs": [
    {
     "data": {
      "text/plain": [
       "['__add__',\n",
       " '__class__',\n",
       " '__class_getitem__',\n",
       " '__contains__',\n",
       " '__delattr__',\n",
       " '__delitem__',\n",
       " '__dir__',\n",
       " '__doc__',\n",
       " '__eq__',\n",
       " '__format__',\n",
       " '__ge__',\n",
       " '__getattribute__',\n",
       " '__getitem__',\n",
       " '__gt__',\n",
       " '__hash__',\n",
       " '__iadd__',\n",
       " '__imul__',\n",
       " '__init__',\n",
       " '__init_subclass__',\n",
       " '__iter__',\n",
       " '__le__',\n",
       " '__len__',\n",
       " '__lt__',\n",
       " '__mul__',\n",
       " '__ne__',\n",
       " '__new__',\n",
       " '__reduce__',\n",
       " '__reduce_ex__',\n",
       " '__repr__',\n",
       " '__reversed__',\n",
       " '__rmul__',\n",
       " '__setattr__',\n",
       " '__setitem__',\n",
       " '__sizeof__',\n",
       " '__str__',\n",
       " '__subclasshook__',\n",
       " 'append',\n",
       " 'clear',\n",
       " 'copy',\n",
       " 'count',\n",
       " 'extend',\n",
       " 'index',\n",
       " 'insert',\n",
       " 'pop',\n",
       " 'remove',\n",
       " 'reverse',\n",
       " 'sort']"
      ]
     },
     "execution_count": 6,
     "metadata": {},
     "output_type": "execute_result"
    }
   ],
   "source": [
    "dir(lst1)"
   ]
  },
  {
   "cell_type": "code",
   "execution_count": 2,
   "id": "28cb1fe1",
   "metadata": {},
   "outputs": [
    {
     "data": {
      "text/plain": [
       "['__abs__',\n",
       " '__add__',\n",
       " '__and__',\n",
       " '__bool__',\n",
       " '__ceil__',\n",
       " '__class__',\n",
       " '__delattr__',\n",
       " '__dir__',\n",
       " '__divmod__',\n",
       " '__doc__',\n",
       " '__eq__',\n",
       " '__float__',\n",
       " '__floor__',\n",
       " '__floordiv__',\n",
       " '__format__',\n",
       " '__ge__',\n",
       " '__getattribute__',\n",
       " '__getnewargs__',\n",
       " '__gt__',\n",
       " '__hash__',\n",
       " '__index__',\n",
       " '__init__',\n",
       " '__init_subclass__',\n",
       " '__int__',\n",
       " '__invert__',\n",
       " '__le__',\n",
       " '__lshift__',\n",
       " '__lt__',\n",
       " '__mod__',\n",
       " '__mul__',\n",
       " '__ne__',\n",
       " '__neg__',\n",
       " '__new__',\n",
       " '__or__',\n",
       " '__pos__',\n",
       " '__pow__',\n",
       " '__radd__',\n",
       " '__rand__',\n",
       " '__rdivmod__',\n",
       " '__reduce__',\n",
       " '__reduce_ex__',\n",
       " '__repr__',\n",
       " '__rfloordiv__',\n",
       " '__rlshift__',\n",
       " '__rmod__',\n",
       " '__rmul__',\n",
       " '__ror__',\n",
       " '__round__',\n",
       " '__rpow__',\n",
       " '__rrshift__',\n",
       " '__rshift__',\n",
       " '__rsub__',\n",
       " '__rtruediv__',\n",
       " '__rxor__',\n",
       " '__setattr__',\n",
       " '__sizeof__',\n",
       " '__str__',\n",
       " '__sub__',\n",
       " '__subclasshook__',\n",
       " '__truediv__',\n",
       " '__trunc__',\n",
       " '__xor__',\n",
       " 'as_integer_ratio',\n",
       " 'bit_length',\n",
       " 'conjugate',\n",
       " 'denominator',\n",
       " 'from_bytes',\n",
       " 'imag',\n",
       " 'numerator',\n",
       " 'real',\n",
       " 'to_bytes']"
      ]
     },
     "execution_count": 2,
     "metadata": {},
     "output_type": "execute_result"
    }
   ],
   "source": [
    "dir(a)"
   ]
  },
  {
   "cell_type": "code",
   "execution_count": 4,
   "id": "3fb43204",
   "metadata": {},
   "outputs": [
    {
     "name": "stdout",
     "output_type": "stream",
     "text": [
      "<built-in method to_bytes of int object at 0x0000015BE4666990>\n"
     ]
    }
   ],
   "source": [
    "print(a.to_bytes)"
   ]
  },
  {
   "cell_type": "code",
   "execution_count": 7,
   "id": "7bea7b74",
   "metadata": {},
   "outputs": [
    {
     "name": "stdout",
     "output_type": "stream",
     "text": [
      "\n",
      "Type of b:  <class 'float'>\n"
     ]
    }
   ],
   "source": [
    "b = 2.0\n",
    "print(\"\\nType of b: \", type(b))"
   ]
  },
  {
   "cell_type": "markdown",
   "id": "a08db30a",
   "metadata": {},
   "source": [
    "c = 2 + 7j\n",
    "print(\"\\nType of c: \", type(c))"
   ]
  },
  {
   "cell_type": "markdown",
   "id": "7d3028cc",
   "metadata": {},
   "source": [
    "Arithmetic operators"
   ]
  },
  {
   "cell_type": "code",
   "execution_count": 26,
   "id": "8c283706",
   "metadata": {},
   "outputs": [
    {
     "name": "stdout",
     "output_type": "stream",
     "text": [
      "6.0\n"
     ]
    }
   ],
   "source": [
    "sum_value = a+b\n",
    "print(sum_value)"
   ]
  },
  {
   "cell_type": "code",
   "execution_count": 11,
   "id": "29174e59",
   "metadata": {},
   "outputs": [
    {
     "name": "stdout",
     "output_type": "stream",
     "text": [
      "16\n"
     ]
    }
   ],
   "source": [
    "multiply = a*a\n",
    "print(multiply)"
   ]
  },
  {
   "cell_type": "code",
   "execution_count": null,
   "id": "6998e3ea",
   "metadata": {},
   "outputs": [],
   "source": [
    "divide = b/2\n",
    "print(divide)"
   ]
  },
  {
   "cell_type": "markdown",
   "id": "88962465",
   "metadata": {},
   "source": [
    "Sequence"
   ]
  },
  {
   "cell_type": "code",
   "execution_count": 12,
   "id": "ae68b0ab",
   "metadata": {},
   "outputs": [
    {
     "name": "stdout",
     "output_type": "stream",
     "text": [
      "<class 'str'> <class 'str'> <class 'str'>\n"
     ]
    }
   ],
   "source": [
    "string1 = 'hello world'\n",
    "string2 = \"hello world\"\n",
    "string3 = '''hello world'''\n",
    "print(str(type(string1)) + \" \" + str(type(string2)) + \" \" + str(type(string3)))"
   ]
  },
  {
   "cell_type": "markdown",
   "id": "32dffbad",
   "metadata": {},
   "source": [
    "Accessing elements of string"
   ]
  },
  {
   "cell_type": "code",
   "execution_count": 13,
   "id": "a3db11a6",
   "metadata": {},
   "outputs": [
    {
     "name": "stdout",
     "output_type": "stream",
     "text": [
      "h\n"
     ]
    }
   ],
   "source": [
    "print(string1[0])"
   ]
  },
  {
   "cell_type": "markdown",
   "id": "b4958bdb",
   "metadata": {},
   "source": [
    "String Concatination and repetition"
   ]
  },
  {
   "cell_type": "code",
   "execution_count": 16,
   "id": "d53e1168",
   "metadata": {},
   "outputs": [
    {
     "name": "stdout",
     "output_type": "stream",
     "text": [
      "helloworld\n",
      "hellohellohellohello\n",
      "hello world! hello world! hello world! hello world! \n"
     ]
    }
   ],
   "source": [
    "str1 = \"hello\"\n",
    "str2 = \"world\"\n",
    "print(str1+str2)\n",
    "print(str1*4)\n",
    "print((str1+\" world! \") *4)\n"
   ]
  },
  {
   "cell_type": "code",
   "execution_count": 21,
   "id": "63e48d3b",
   "metadata": {},
   "outputs": [
    {
     "name": "stdout",
     "output_type": "stream",
     "text": [
      "hi world, hello world\n"
     ]
    }
   ],
   "source": [
    "print(f\"hi world, {str1} {str2}\")"
   ]
  },
  {
   "cell_type": "code",
   "execution_count": 24,
   "id": "f5e89953",
   "metadata": {},
   "outputs": [
    {
     "name": "stdout",
     "output_type": "stream",
     "text": [
      "My name is john, I'm 36\n"
     ]
    }
   ],
   "source": [
    "fname = \"John\" \n",
    "age = 36\n",
    "txt1 = \"My name is {fname}, I'm {age}\".format(fname =\"john\",age=36)\n",
    "print(txt1)"
   ]
  },
  {
   "cell_type": "markdown",
   "id": "54193b4a",
   "metadata": {},
   "source": [
    "Lists"
   ]
  },
  {
   "cell_type": "code",
   "execution_count": 31,
   "id": "a64537de",
   "metadata": {},
   "outputs": [],
   "source": [
    "list1 = []\n",
    "list2 = [1,'hi',4.0]\n",
    "list3 = [[\"this\",\"is\",'a'],[\"multidimentional\",\"list\",4.0]]"
   ]
  },
  {
   "cell_type": "code",
   "execution_count": 32,
   "id": "ab885239",
   "metadata": {},
   "outputs": [
    {
     "name": "stdout",
     "output_type": "stream",
     "text": [
      "[]\n",
      "[1, 'hi', 4.0]\n",
      "[['this', 'is', 'a'], ['multidimentional', 'list', 4.0]]\n"
     ]
    }
   ],
   "source": [
    "print(list1)\n",
    "print(list2)\n",
    "print(list3)"
   ]
  },
  {
   "cell_type": "code",
   "execution_count": 48,
   "id": "c43e5090",
   "metadata": {},
   "outputs": [
    {
     "name": "stdout",
     "output_type": "stream",
     "text": [
      "['multidimentional', 'list']\n"
     ]
    }
   ],
   "source": [
    "print(list3[1][0:2])"
   ]
  },
  {
   "cell_type": "code",
   "execution_count": 36,
   "id": "025ff2cc",
   "metadata": {},
   "outputs": [
    {
     "data": {
      "text/plain": [
       "['1', '2', '3', '4', '5', '6', '7', '8', '9']"
      ]
     },
     "execution_count": 36,
     "metadata": {},
     "output_type": "execute_result"
    }
   ],
   "source": [
    "list4 = list('123456789')\n",
    "list4"
   ]
  },
  {
   "cell_type": "code",
   "execution_count": 38,
   "id": "e187838b",
   "metadata": {},
   "outputs": [
    {
     "data": {
      "text/plain": [
       "'4'"
      ]
     },
     "execution_count": 38,
     "metadata": {},
     "output_type": "execute_result"
    }
   ],
   "source": [
    "list4[3]"
   ]
  },
  {
   "cell_type": "code",
   "execution_count": 41,
   "id": "64e6e051",
   "metadata": {},
   "outputs": [],
   "source": [
    "list4[3]='100'"
   ]
  },
  {
   "cell_type": "code",
   "execution_count": 43,
   "id": "d3d1a73b",
   "metadata": {},
   "outputs": [
    {
     "name": "stdout",
     "output_type": "stream",
     "text": [
      "no\n"
     ]
    }
   ],
   "source": [
    "if list4[3] ==99:\n",
    "    print(\"yes\")\n",
    "else:\n",
    "    print(\"no\")"
   ]
  },
  {
   "cell_type": "code",
   "execution_count": 40,
   "id": "1c0b1f84",
   "metadata": {},
   "outputs": [
    {
     "data": {
      "text/plain": [
       "['1', '2', '3', 'L', '5', '6', '7', '8', '9']"
      ]
     },
     "execution_count": 40,
     "metadata": {},
     "output_type": "execute_result"
    }
   ],
   "source": [
    "list4"
   ]
  },
  {
   "cell_type": "code",
   "execution_count": null,
   "id": "2b50de15",
   "metadata": {},
   "outputs": [],
   "source": [
    "lst10 = []"
   ]
  },
  {
   "cell_type": "code",
   "execution_count": 45,
   "id": "c567b2a4",
   "metadata": {},
   "outputs": [
    {
     "data": {
      "text/plain": [
       "'9'"
      ]
     },
     "execution_count": 45,
     "metadata": {},
     "output_type": "execute_result"
    }
   ],
   "source": [
    "list4[len(list4)-1]"
   ]
  },
  {
   "cell_type": "markdown",
   "id": "fd4e537c",
   "metadata": {},
   "source": [
    "Accessing elements of List"
   ]
  },
  {
   "cell_type": "code",
   "execution_count": 47,
   "id": "fc922ab5",
   "metadata": {},
   "outputs": [
    {
     "name": "stdout",
     "output_type": "stream",
     "text": [
      "hi\n",
      "multidimentional\n",
      "7\n"
     ]
    }
   ],
   "source": [
    "print(list2[1])\n",
    "print(list3[1][0])\n",
    "print(list4[-3])"
   ]
  },
  {
   "cell_type": "markdown",
   "id": "e41f3afa",
   "metadata": {},
   "source": [
    "Tuple"
   ]
  },
  {
   "cell_type": "code",
   "execution_count": null,
   "id": "6d4fa19e",
   "metadata": {},
   "outputs": [],
   "source": [
    "tuple1 = ()\n",
    "tuple2 = ('hi',4.0,[1,'world'])"
   ]
  },
  {
   "cell_type": "code",
   "execution_count": null,
   "id": "79621313",
   "metadata": {},
   "outputs": [],
   "source": [
    "tuple3 = (tuple1,tuple2)"
   ]
  },
  {
   "cell_type": "code",
   "execution_count": null,
   "id": "783dffe0",
   "metadata": {},
   "outputs": [],
   "source": [
    "print(tuple1)\n",
    "print(tuple2)\n",
    "print(tuple3)"
   ]
  },
  {
   "cell_type": "markdown",
   "id": "d84cb8c8",
   "metadata": {},
   "source": [
    "Accessing Tuples"
   ]
  },
  {
   "cell_type": "code",
   "execution_count": null,
   "id": "ff7fafa8",
   "metadata": {},
   "outputs": [],
   "source": [
    "print(tuple2[-1])\n",
    "print(tuple2[-1][1])"
   ]
  },
  {
   "cell_type": "code",
   "execution_count": null,
   "id": "25745293",
   "metadata": {},
   "outputs": [],
   "source": [
    "print(tuple3[1])\n",
    "print(tuple3[1][2])\n",
    "print(tuple3[1][2][1])"
   ]
  },
  {
   "cell_type": "code",
   "execution_count": null,
   "id": "36d3ab98",
   "metadata": {},
   "outputs": [],
   "source": [
    "tuple3[1][2] = 1"
   ]
  },
  {
   "cell_type": "code",
   "execution_count": null,
   "id": "dc2323cb",
   "metadata": {},
   "outputs": [],
   "source": [
    "tuple3[0] = 1"
   ]
  },
  {
   "cell_type": "code",
   "execution_count": null,
   "id": "5d517831",
   "metadata": {},
   "outputs": [],
   "source": [
    "tuple3[1][2][1] = \"WORLD\""
   ]
  },
  {
   "cell_type": "code",
   "execution_count": null,
   "id": "191d8043",
   "metadata": {},
   "outputs": [],
   "source": [
    "print(tuple3[1][2][1])"
   ]
  },
  {
   "cell_type": "code",
   "execution_count": null,
   "id": "90a4b22b",
   "metadata": {},
   "outputs": [],
   "source": [
    "print(type(tuple3))\n",
    "print(type(tuple3[1][2]))"
   ]
  },
  {
   "cell_type": "markdown",
   "id": "d479b57f",
   "metadata": {},
   "source": [
    "Boolean"
   ]
  },
  {
   "cell_type": "code",
   "execution_count": null,
   "id": "cd2a2c5c",
   "metadata": {},
   "outputs": [],
   "source": [
    "val1 = True\n",
    "val2 = False"
   ]
  },
  {
   "cell_type": "code",
   "execution_count": null,
   "id": "20e62766",
   "metadata": {},
   "outputs": [],
   "source": [
    "print(type(val2))"
   ]
  },
  {
   "cell_type": "code",
   "execution_count": null,
   "id": "fedb14d0",
   "metadata": {},
   "outputs": [],
   "source": [
    "val2 = True"
   ]
  },
  {
   "cell_type": "code",
   "execution_count": null,
   "id": "54b46b46",
   "metadata": {},
   "outputs": [],
   "source": [
    "val3 = true"
   ]
  },
  {
   "cell_type": "markdown",
   "id": "0936aebe",
   "metadata": {},
   "source": [
    "Set"
   ]
  },
  {
   "cell_type": "code",
   "execution_count": null,
   "id": "96055c5a",
   "metadata": {},
   "outputs": [],
   "source": [
    "set1 = set()\n",
    "set2 = set(\"sequence\")"
   ]
  },
  {
   "cell_type": "code",
   "execution_count": null,
   "id": "6f622888",
   "metadata": {},
   "outputs": [],
   "source": [
    "print(set1)\n",
    "print(set2)"
   ]
  },
  {
   "cell_type": "code",
   "execution_count": null,
   "id": "e4fc081e",
   "metadata": {},
   "outputs": [],
   "source": [
    "print(set2[1])"
   ]
  },
  {
   "cell_type": "code",
   "execution_count": null,
   "id": "181ad08a",
   "metadata": {},
   "outputs": [],
   "source": [
    "for element in set2:\n",
    "    print(element, end=\" \")"
   ]
  },
  {
   "cell_type": "markdown",
   "id": "339db0ee",
   "metadata": {},
   "source": [
    "Dictionary"
   ]
  },
  {
   "cell_type": "code",
   "execution_count": null,
   "id": "d9c4297f",
   "metadata": {},
   "outputs": [],
   "source": [
    "dict1 = {}\n",
    "dict2 = {1:\"one\", 2:\"two\", 3:\"three\", 2.0: \"two\"}\n",
    "dict3 = {\"name\" : \"Besant Techonologies\", \"course\" : \"Data Science & AI\", \"students_name\" : [\"abc\",\"xyz\"], 1: \"one\" }\n",
    "dict4 = dict({1: 'one', 2: 'two', 3:'three'}) \n",
    "dict5 = dict([(1, 'one'), (2, 'two')]) "
   ]
  },
  {
   "cell_type": "code",
   "execution_count": null,
   "id": "4f795799",
   "metadata": {},
   "outputs": [],
   "source": [
    "print(dict1)\n",
    "print(dict2)\n",
    "print(dict3)\n",
    "print(dict4)\n",
    "print(dict5)"
   ]
  },
  {
   "cell_type": "markdown",
   "id": "9f8fca95",
   "metadata": {},
   "source": [
    "Accessing elements of a dictionary"
   ]
  },
  {
   "cell_type": "code",
   "execution_count": null,
   "id": "bca4bc8a",
   "metadata": {},
   "outputs": [],
   "source": [
    "print(dict2[3])\n",
    "print(dict3[\"students_name\"])\n",
    "print(dict3[\"students_name\"][1])"
   ]
  },
  {
   "cell_type": "code",
   "execution_count": null,
   "id": "3e3b9fb7",
   "metadata": {},
   "outputs": [],
   "source": [
    "print(dict2.values())\n",
    "print(dict3.keys())\n",
    "print(dict3.items())\n",
    "print(dict4.get(2))"
   ]
  },
  {
   "cell_type": "markdown",
   "id": "ae0ccdcd",
   "metadata": {},
   "source": [
    "None"
   ]
  },
  {
   "cell_type": "code",
   "execution_count": null,
   "id": "37c54c9d",
   "metadata": {},
   "outputs": [],
   "source": [
    "nothing = None\n",
    "print(type(nothing))"
   ]
  },
  {
   "cell_type": "markdown",
   "id": "0893f97a",
   "metadata": {},
   "source": [
    "len()\n",
    "str()\n",
    "bool()"
   ]
  }
 ],
 "metadata": {
  "kernelspec": {
   "display_name": "Python 3 (ipykernel)",
   "language": "python",
   "name": "python3"
  },
  "language_info": {
   "codemirror_mode": {
    "name": "ipython",
    "version": 3
   },
   "file_extension": ".py",
   "mimetype": "text/x-python",
   "name": "python",
   "nbconvert_exporter": "python",
   "pygments_lexer": "ipython3",
   "version": "3.9.13"
  }
 },
 "nbformat": 4,
 "nbformat_minor": 5
}
