{
 "cells": [
  {
   "cell_type": "code",
   "execution_count": null,
   "id": "9e28744b",
   "metadata": {},
   "outputs": [],
   "source": [
    "fruits = ['apple', 'banana', 'cherry']"
   ]
  },
  {
   "cell_type": "code",
   "execution_count": null,
   "id": "d7581af6",
   "metadata": {},
   "outputs": [],
   "source": [
    "fruits"
   ]
  },
  {
   "cell_type": "code",
   "execution_count": null,
   "id": "96515252",
   "metadata": {},
   "outputs": [],
   "source": [
    "type(fruits)"
   ]
  },
  {
   "cell_type": "markdown",
   "id": "2464ec89",
   "metadata": {},
   "source": [
    "Let's try creating a list containing values of different data types, including another list."
   ]
  },
  {
   "cell_type": "code",
   "execution_count": null,
   "id": "6ecd4b71",
   "metadata": {},
   "outputs": [],
   "source": [
    "a_list = [23, 'hello', None, 3.14, fruits, 3 <= 5]"
   ]
  },
  {
   "cell_type": "code",
   "execution_count": null,
   "id": "d4e374a0",
   "metadata": {},
   "outputs": [],
   "source": [
    "a_list"
   ]
  },
  {
   "cell_type": "code",
   "execution_count": null,
   "id": "9a178fdd",
   "metadata": {},
   "outputs": [],
   "source": [
    "empty_list = []"
   ]
  },
  {
   "cell_type": "code",
   "execution_count": null,
   "id": "4261e0c7",
   "metadata": {},
   "outputs": [],
   "source": [
    "empty_list"
   ]
  },
  {
   "cell_type": "markdown",
   "id": "6dfdb92f",
   "metadata": {},
   "source": [
    "To determine the number of values in a list, use the len function. You can use len to determine the number of values in several other data types."
   ]
  },
  {
   "cell_type": "code",
   "execution_count": null,
   "id": "6fdf4af9",
   "metadata": {},
   "outputs": [],
   "source": [
    "len(fruits)"
   ]
  },
  {
   "cell_type": "code",
   "execution_count": null,
   "id": "176f5f4f",
   "metadata": {},
   "outputs": [],
   "source": [
    "print(\"Number of fruits:\", len(fruits))"
   ]
  },
  {
   "cell_type": "code",
   "execution_count": null,
   "id": "e91acaff",
   "metadata": {},
   "outputs": [],
   "source": [
    "len(a_list)"
   ]
  },
  {
   "cell_type": "markdown",
   "id": "38248d59",
   "metadata": {},
   "source": [
    "You can access an element from the list using its index, e.g., fruits[2] returns the element at index 2 within the list fruits. The starting index of a list is 0."
   ]
  },
  {
   "cell_type": "code",
   "execution_count": null,
   "id": "8168cc3d",
   "metadata": {},
   "outputs": [],
   "source": [
    "fruits[2]"
   ]
  },
  {
   "cell_type": "markdown",
   "id": "9994a973",
   "metadata": {},
   "source": [
    "If you try to access an index equal to or higher than the length of the list, Python returns an IndexError."
   ]
  },
  {
   "cell_type": "code",
   "execution_count": null,
   "id": "9398a619",
   "metadata": {},
   "outputs": [],
   "source": [
    "fruits[3]"
   ]
  },
  {
   "cell_type": "markdown",
   "id": "af9fbda3",
   "metadata": {},
   "source": [
    "You can use negative indices to access elements from the end of a list, e.g., fruits[-1] returns the last element, fruits[-2] returns the second last element, and so on."
   ]
  },
  {
   "cell_type": "code",
   "execution_count": null,
   "id": "dcf0a0ee",
   "metadata": {},
   "outputs": [],
   "source": [
    "fruits[-1]"
   ]
  },
  {
   "cell_type": "code",
   "execution_count": null,
   "id": "135f11b6",
   "metadata": {},
   "outputs": [],
   "source": [
    "fruits[-3]"
   ]
  },
  {
   "cell_type": "markdown",
   "id": "7b325bda",
   "metadata": {},
   "source": [
    "You can also access a range of values from the list. The result is itself a list. Let us look at some examples."
   ]
  },
  {
   "cell_type": "code",
   "execution_count": null,
   "id": "5ef710cb",
   "metadata": {},
   "outputs": [],
   "source": [
    "a_list = [23, 'hello', None, 3.14, fruits, 3 <= 5]"
   ]
  },
  {
   "cell_type": "code",
   "execution_count": null,
   "id": "53c2e177",
   "metadata": {},
   "outputs": [],
   "source": [
    "a_list"
   ]
  },
  {
   "cell_type": "code",
   "execution_count": null,
   "id": "62d9163a",
   "metadata": {},
   "outputs": [],
   "source": [
    "len(a_list)"
   ]
  },
  {
   "cell_type": "code",
   "execution_count": null,
   "id": "c6609aef",
   "metadata": {},
   "outputs": [],
   "source": [
    "a_list[2:5]"
   ]
  },
  {
   "cell_type": "markdown",
   "id": "55ecaca9",
   "metadata": {},
   "source": [
    "Note that the range 2:5 includes the element at the start index 2 but does not include the element at the end index 5. So, the result has 3 values (index 2, 3, and 4)."
   ]
  },
  {
   "cell_type": "markdown",
   "id": "7f7e8584",
   "metadata": {},
   "source": [
    "## Exercise"
   ]
  },
  {
   "cell_type": "code",
   "execution_count": null,
   "id": "c87bb089",
   "metadata": {},
   "outputs": [],
   "source": [
    "a_list[2:10]"
   ]
  },
  {
   "cell_type": "code",
   "execution_count": null,
   "id": "0e2b797e",
   "metadata": {},
   "outputs": [],
   "source": [
    "a_list[12:10]"
   ]
  },
  {
   "cell_type": "code",
   "execution_count": null,
   "id": "7c0b2259",
   "metadata": {},
   "outputs": [],
   "source": [
    "a_list[2:]"
   ]
  },
  {
   "cell_type": "code",
   "execution_count": null,
   "id": "292b4f18",
   "metadata": {},
   "outputs": [],
   "source": [
    "a_list[:5]"
   ]
  },
  {
   "cell_type": "code",
   "execution_count": null,
   "id": "5d74d9dd",
   "metadata": {},
   "outputs": [],
   "source": [
    "a_list[-2:-5]"
   ]
  },
  {
   "cell_type": "code",
   "execution_count": null,
   "id": "28a64e64",
   "metadata": {},
   "outputs": [],
   "source": [
    "a_list[-5:-2]"
   ]
  },
  {
   "cell_type": "markdown",
   "id": "2e56369b",
   "metadata": {},
   "source": [
    "You can also change the value at a specific index within a list using the assignment operation."
   ]
  },
  {
   "cell_type": "code",
   "execution_count": null,
   "id": "f3609aad",
   "metadata": {},
   "outputs": [],
   "source": [
    "fruits"
   ]
  },
  {
   "cell_type": "code",
   "execution_count": null,
   "id": "fff8e69d",
   "metadata": {},
   "outputs": [],
   "source": [
    "fruits[1] = 'blueberry'"
   ]
  },
  {
   "cell_type": "code",
   "execution_count": null,
   "id": "0b452125",
   "metadata": {},
   "outputs": [],
   "source": [
    "fruits"
   ]
  },
  {
   "cell_type": "markdown",
   "id": "cf591316",
   "metadata": {},
   "source": [
    "A new value can be added to the end of a list using the append method."
   ]
  },
  {
   "cell_type": "code",
   "execution_count": null,
   "id": "6ef77ae5",
   "metadata": {},
   "outputs": [],
   "source": [
    "fruits.append('dates')"
   ]
  },
  {
   "cell_type": "code",
   "execution_count": null,
   "id": "1009c791",
   "metadata": {},
   "outputs": [],
   "source": [
    "fruits"
   ]
  },
  {
   "cell_type": "markdown",
   "id": "3aaa22de",
   "metadata": {},
   "source": [
    "A new value can also be inserted at a specific index using the insert method."
   ]
  },
  {
   "cell_type": "code",
   "execution_count": null,
   "id": "c06c7996",
   "metadata": {},
   "outputs": [],
   "source": [
    "fruits.insert(1, 'banana')"
   ]
  },
  {
   "cell_type": "code",
   "execution_count": null,
   "id": "2ff501d9",
   "metadata": {},
   "outputs": [],
   "source": [
    "fruits"
   ]
  },
  {
   "cell_type": "markdown",
   "id": "2017949c",
   "metadata": {},
   "source": [
    "You can remove a value from a list using the remove method."
   ]
  },
  {
   "cell_type": "code",
   "execution_count": null,
   "id": "17017759",
   "metadata": {},
   "outputs": [],
   "source": [
    "fruits.remove('blueberry')"
   ]
  },
  {
   "cell_type": "code",
   "execution_count": null,
   "id": "750c222a",
   "metadata": {},
   "outputs": [],
   "source": [
    "fruits"
   ]
  },
  {
   "cell_type": "markdown",
   "id": "9ffd6e94",
   "metadata": {},
   "source": [
    "What happens if a list has multiple instances of the value passed to `.remove`?"
   ]
  },
  {
   "cell_type": "code",
   "execution_count": null,
   "id": "50877c9b",
   "metadata": {},
   "outputs": [],
   "source": [
    "fruits.remove('apple','cherry')"
   ]
  },
  {
   "cell_type": "markdown",
   "id": "18c54427",
   "metadata": {},
   "source": [
    "To remove an element from a specific index, use the `pop` method. The method also returns the removed element."
   ]
  },
  {
   "cell_type": "code",
   "execution_count": null,
   "id": "e0d2a1e0",
   "metadata": {},
   "outputs": [],
   "source": [
    "fruits"
   ]
  },
  {
   "cell_type": "code",
   "execution_count": null,
   "id": "602ca9b6",
   "metadata": {},
   "outputs": [],
   "source": [
    "fruits.pop(1)"
   ]
  },
  {
   "cell_type": "code",
   "execution_count": null,
   "id": "f954c41e",
   "metadata": {},
   "outputs": [],
   "source": [
    "fruits"
   ]
  },
  {
   "cell_type": "code",
   "execution_count": null,
   "id": "533d71f5",
   "metadata": {},
   "outputs": [],
   "source": [
    "fruits.pop()"
   ]
  },
  {
   "cell_type": "code",
   "execution_count": null,
   "id": "14a7ad85",
   "metadata": {},
   "outputs": [],
   "source": [
    "fruits"
   ]
  },
  {
   "cell_type": "markdown",
   "id": "9fcd3d64",
   "metadata": {},
   "source": [
    "You can test whether a list contains a value using the `in` operator."
   ]
  },
  {
   "cell_type": "code",
   "execution_count": null,
   "id": "c431298a",
   "metadata": {},
   "outputs": [],
   "source": [
    "'pineapple' in fruits"
   ]
  },
  {
   "cell_type": "code",
   "execution_count": null,
   "id": "a190005b",
   "metadata": {},
   "outputs": [],
   "source": [
    "'cherry' in fruits"
   ]
  },
  {
   "cell_type": "markdown",
   "id": "154366fd",
   "metadata": {},
   "source": [
    "To combine two or more lists, use the `+` operator. This operation is also called *concatenation*."
   ]
  },
  {
   "cell_type": "code",
   "execution_count": null,
   "id": "e6be9d86",
   "metadata": {},
   "outputs": [],
   "source": [
    "fruits"
   ]
  },
  {
   "cell_type": "code",
   "execution_count": null,
   "id": "1986d009",
   "metadata": {},
   "outputs": [],
   "source": [
    "more_fruits = fruits + ['pineapple', 'tomato', 'guava'] + ['dates', 'banana']"
   ]
  },
  {
   "cell_type": "code",
   "execution_count": null,
   "id": "69ef1278",
   "metadata": {},
   "outputs": [],
   "source": [
    "more_fruits"
   ]
  },
  {
   "cell_type": "markdown",
   "id": "19675dc5",
   "metadata": {},
   "source": [
    "To create a copy of a list, use the `copy` method. Modifying the copied list does not affect the original."
   ]
  },
  {
   "cell_type": "code",
   "execution_count": null,
   "id": "edd6ed06",
   "metadata": {},
   "outputs": [],
   "source": [
    "more_fruits_copy = more_fruits.copy()"
   ]
  },
  {
   "cell_type": "code",
   "execution_count": null,
   "id": "eb87f13e",
   "metadata": {},
   "outputs": [],
   "source": [
    "more_fruits_copy"
   ]
  },
  {
   "cell_type": "code",
   "execution_count": null,
   "id": "23d66836",
   "metadata": {},
   "outputs": [],
   "source": [
    "# Modify the copy\n",
    "more_fruits_copy.remove('pineapple')\n",
    "more_fruits_copy.pop()\n",
    "more_fruits_copy"
   ]
  },
  {
   "cell_type": "code",
   "execution_count": null,
   "id": "217ac027",
   "metadata": {},
   "outputs": [],
   "source": [
    "# Original list remains unchanged\n",
    "more_fruits"
   ]
  },
  {
   "cell_type": "markdown",
   "id": "eeeca96b",
   "metadata": {},
   "source": [
    "Note that you cannot create a copy of a list by simply creating a new variable using the assignment operator `=`. The new variable will point to the same list, and any modifications performed using either variable will affect the other."
   ]
  },
  {
   "cell_type": "code",
   "execution_count": null,
   "id": "890ed77b",
   "metadata": {},
   "outputs": [],
   "source": [
    "more_fruits"
   ]
  },
  {
   "cell_type": "code",
   "execution_count": null,
   "id": "228952f6",
   "metadata": {},
   "outputs": [],
   "source": [
    "more_fruits_not_a_copy = more_fruits"
   ]
  },
  {
   "cell_type": "code",
   "execution_count": null,
   "id": "f4e3d394",
   "metadata": {},
   "outputs": [],
   "source": [
    "more_fruits_not_a_copy.remove('pineapple')\n",
    "more_fruits_not_a_copy.pop()"
   ]
  },
  {
   "cell_type": "code",
   "execution_count": null,
   "id": "ff0344c6",
   "metadata": {},
   "outputs": [],
   "source": [
    "more_fruits_not_a_copy"
   ]
  },
  {
   "cell_type": "code",
   "execution_count": null,
   "id": "cafd11b0",
   "metadata": {},
   "outputs": [],
   "source": [
    "more_fruits"
   ]
  },
  {
   "cell_type": "code",
   "execution_count": null,
   "id": "571c68de",
   "metadata": {},
   "outputs": [],
   "source": [
    "dir(more_fruits)"
   ]
  },
  {
   "cell_type": "markdown",
   "id": "ad1965f3",
   "metadata": {},
   "source": [
    "## Exercise:\n",
    "    \n",
    "\n",
    "Reverse the order of elements in a list\n",
    "\n",
    "Add the elements of one list at the end of another list\n",
    "\n",
    "Sort a list of strings in alphabetical order\n",
    "\n",
    "Sort a list of numbers in decreasing order\n"
   ]
  },
  {
   "cell_type": "markdown",
   "id": "a0b687dc",
   "metadata": {},
   "source": [
    "# Slicing\n",
    "\n",
    "What Is an Index?\n",
    "\n",
    "What Is Slicing?\n",
    "\n",
    "Slice with Negative Indices\n",
    "\n",
    "Specify Step of the Slicing\n",
    "\n",
    "Reversing Elements of Data Structure"
   ]
  },
  {
   "cell_type": "markdown",
   "id": "9e677bc6",
   "metadata": {},
   "source": [
    "## What Is an Index?\n",
    "\n",
    "An index is a position of an individual character or element in a list, tuple, or string. The index value always starts at zero and ends at one less than the number of items.\n",
    "\n",
    "Negative indexes enable users to index a list, tuple, or other indexable containers from the end of the container, rather than the start.\n",
    "\n",
    "## What Is Slicing?\n",
    "\n",
    "Slicing is the extraction of a part of a string, list, or tuple. It enables users to access the specific range of elements by mentioning their indices. \n",
    "\n",
    "Syntax: Object [start:stop:step]\n",
    "\n",
    "“Start” specifies the starting index of a slice \n",
    "“Stop” specifies the ending element of a slice\n",
    "You can use one of these if you want to skip certain items\n",
    "\n",
    "## Reversing Elements of Data Structure\n",
    "\n",
    "We can use a negative step to reverse the elements of a data structure."
   ]
  },
  {
   "cell_type": "code",
   "execution_count": 6,
   "id": "6da859dc",
   "metadata": {},
   "outputs": [],
   "source": [
    "b_list = [\"slicing\", \"python\", \"tutorial\"]"
   ]
  },
  {
   "cell_type": "code",
   "execution_count": 7,
   "id": "5449d3c1",
   "metadata": {},
   "outputs": [
    {
     "name": "stdout",
     "output_type": "stream",
     "text": [
      "['tutorial', 'python', 'slicing']\n"
     ]
    }
   ],
   "source": [
    "print(b_list[::-1])"
   ]
  },
  {
   "cell_type": "markdown",
   "id": "15bcd182",
   "metadata": {},
   "source": [
    "## Slice() Function in Python\n",
    "\n",
    "The slice() method extracts a section of data and returns it as new data, without modifying it. This means users can take a specific range of elements without changing it.\n",
    "\n",
    "Syntax: slice(start,stop,step)"
   ]
  },
  {
   "cell_type": "code",
   "execution_count": 9,
   "id": "0a986464",
   "metadata": {},
   "outputs": [
    {
     "name": "stdout",
     "output_type": "stream",
     "text": [
      "sli\n"
     ]
    }
   ],
   "source": [
    "topic = \"slicing\"\n",
    "Slice = slice(0,3)\n",
    "print(topic[Slice])"
   ]
  }
 ],
 "metadata": {
  "kernelspec": {
   "display_name": "Python 3 (ipykernel)",
   "language": "python",
   "name": "python3"
  },
  "language_info": {
   "codemirror_mode": {
    "name": "ipython",
    "version": 3
   },
   "file_extension": ".py",
   "mimetype": "text/x-python",
   "name": "python",
   "nbconvert_exporter": "python",
   "pygments_lexer": "ipython3",
   "version": "3.9.13"
  }
 },
 "nbformat": 4,
 "nbformat_minor": 5
}
