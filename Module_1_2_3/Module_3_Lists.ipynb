{
 "cells": [
  {
   "cell_type": "code",
   "execution_count": 2,
   "id": "fee8acff",
   "metadata": {},
   "outputs": [],
   "source": [
    "fruits = ['apple', 'banana', 'cherry']"
   ]
  },
  {
   "cell_type": "code",
   "execution_count": 3,
   "id": "68fd15dd",
   "metadata": {},
   "outputs": [
    {
     "data": {
      "text/plain": [
       "['apple', 'banana', 'cherry']"
      ]
     },
     "execution_count": 3,
     "metadata": {},
     "output_type": "execute_result"
    }
   ],
   "source": [
    "fruits"
   ]
  },
  {
   "cell_type": "code",
   "execution_count": 4,
   "id": "5d92bc7e",
   "metadata": {},
   "outputs": [
    {
     "data": {
      "text/plain": [
       "list"
      ]
     },
     "execution_count": 4,
     "metadata": {},
     "output_type": "execute_result"
    }
   ],
   "source": [
    "type(fruits)"
   ]
  },
  {
   "cell_type": "markdown",
   "id": "af58a398",
   "metadata": {},
   "source": [
    "Let's try creating a list containing values of different data types, including another list."
   ]
  },
  {
   "cell_type": "code",
   "execution_count": 5,
   "id": "b08ae6dc",
   "metadata": {},
   "outputs": [],
   "source": [
    "a_list = [23, 'hello', None, 3.14, fruits, 3 <= 5]"
   ]
  },
  {
   "cell_type": "code",
   "execution_count": 6,
   "id": "597b3901",
   "metadata": {},
   "outputs": [
    {
     "data": {
      "text/plain": [
       "[23, 'hello', None, 3.14, ['apple', 'banana', 'cherry'], True]"
      ]
     },
     "execution_count": 6,
     "metadata": {},
     "output_type": "execute_result"
    }
   ],
   "source": [
    "a_list"
   ]
  },
  {
   "cell_type": "code",
   "execution_count": 7,
   "id": "94110f13",
   "metadata": {},
   "outputs": [],
   "source": [
    "empty_list = []"
   ]
  },
  {
   "cell_type": "code",
   "execution_count": 8,
   "id": "980e18b5",
   "metadata": {},
   "outputs": [
    {
     "data": {
      "text/plain": [
       "[]"
      ]
     },
     "execution_count": 8,
     "metadata": {},
     "output_type": "execute_result"
    }
   ],
   "source": [
    "empty_list"
   ]
  },
  {
   "cell_type": "markdown",
   "id": "768490e0",
   "metadata": {},
   "source": [
    "To determine the number of values in a list, use the len function. You can use len to determine the number of values in several other data types."
   ]
  },
  {
   "cell_type": "code",
   "execution_count": 9,
   "id": "b354e71f",
   "metadata": {},
   "outputs": [
    {
     "data": {
      "text/plain": [
       "3"
      ]
     },
     "execution_count": 9,
     "metadata": {},
     "output_type": "execute_result"
    }
   ],
   "source": [
    "len(fruits)"
   ]
  },
  {
   "cell_type": "code",
   "execution_count": 10,
   "id": "02e38ab8",
   "metadata": {},
   "outputs": [
    {
     "name": "stdout",
     "output_type": "stream",
     "text": [
      "Number of fruits: 3\n"
     ]
    }
   ],
   "source": [
    "print(\"Number of fruits:\", len(fruits))"
   ]
  },
  {
   "cell_type": "code",
   "execution_count": 11,
   "id": "f3e4568b",
   "metadata": {},
   "outputs": [
    {
     "data": {
      "text/plain": [
       "6"
      ]
     },
     "execution_count": 11,
     "metadata": {},
     "output_type": "execute_result"
    }
   ],
   "source": [
    "len(a_list)"
   ]
  },
  {
   "cell_type": "markdown",
   "id": "ef1e0b2f",
   "metadata": {},
   "source": [
    "You can access an element from the list using its index, e.g., fruits[2] returns the element at index 2 within the list fruits. The starting index of a list is 0."
   ]
  },
  {
   "cell_type": "code",
   "execution_count": 12,
   "id": "d2adb991",
   "metadata": {},
   "outputs": [
    {
     "data": {
      "text/plain": [
       "'cherry'"
      ]
     },
     "execution_count": 12,
     "metadata": {},
     "output_type": "execute_result"
    }
   ],
   "source": [
    "fruits[2]"
   ]
  },
  {
   "cell_type": "markdown",
   "id": "58e61fc7",
   "metadata": {},
   "source": [
    "If you try to access an index equal to or higher than the length of the list, Python returns an IndexError."
   ]
  },
  {
   "cell_type": "code",
   "execution_count": 13,
   "id": "7be6f4b3",
   "metadata": {},
   "outputs": [
    {
     "ename": "IndexError",
     "evalue": "list index out of range",
     "output_type": "error",
     "traceback": [
      "\u001b[1;31m---------------------------------------------------------------------------\u001b[0m",
      "\u001b[1;31mIndexError\u001b[0m                                Traceback (most recent call last)",
      "\u001b[1;32m~\\AppData\\Local\\Temp\\ipykernel_22588\\1511222973.py\u001b[0m in \u001b[0;36m<module>\u001b[1;34m\u001b[0m\n\u001b[1;32m----> 1\u001b[1;33m \u001b[0mfruits\u001b[0m\u001b[1;33m[\u001b[0m\u001b[1;36m3\u001b[0m\u001b[1;33m]\u001b[0m\u001b[1;33m\u001b[0m\u001b[1;33m\u001b[0m\u001b[0m\n\u001b[0m",
      "\u001b[1;31mIndexError\u001b[0m: list index out of range"
     ]
    }
   ],
   "source": [
    "fruits[3]"
   ]
  },
  {
   "cell_type": "markdown",
   "id": "81906210",
   "metadata": {},
   "source": [
    "You can use negative indices to access elements from the end of a list, e.g., fruits[-1] returns the last element, fruits[-2] returns the second last element, and so on."
   ]
  },
  {
   "cell_type": "code",
   "execution_count": 14,
   "id": "d1620509",
   "metadata": {},
   "outputs": [
    {
     "data": {
      "text/plain": [
       "'cherry'"
      ]
     },
     "execution_count": 14,
     "metadata": {},
     "output_type": "execute_result"
    }
   ],
   "source": [
    "fruits[-1]"
   ]
  },
  {
   "cell_type": "code",
   "execution_count": 15,
   "id": "1eae9ed3",
   "metadata": {},
   "outputs": [
    {
     "data": {
      "text/plain": [
       "'apple'"
      ]
     },
     "execution_count": 15,
     "metadata": {},
     "output_type": "execute_result"
    }
   ],
   "source": [
    "fruits[-3]"
   ]
  },
  {
   "cell_type": "markdown",
   "id": "d15a44d1",
   "metadata": {},
   "source": [
    "You can also access a range of values from the list. The result is itself a list. Let us look at some examples."
   ]
  },
  {
   "cell_type": "code",
   "execution_count": 16,
   "id": "306ca5bb",
   "metadata": {},
   "outputs": [],
   "source": [
    "a_list = [23, 'hello', None, 3.14, fruits, 3 <= 5]"
   ]
  },
  {
   "cell_type": "code",
   "execution_count": 17,
   "id": "c40fe09b",
   "metadata": {},
   "outputs": [
    {
     "data": {
      "text/plain": [
       "[23, 'hello', None, 3.14, ['apple', 'banana', 'cherry'], True]"
      ]
     },
     "execution_count": 17,
     "metadata": {},
     "output_type": "execute_result"
    }
   ],
   "source": [
    "a_list"
   ]
  },
  {
   "cell_type": "code",
   "execution_count": 18,
   "id": "816e5610",
   "metadata": {},
   "outputs": [
    {
     "data": {
      "text/plain": [
       "6"
      ]
     },
     "execution_count": 18,
     "metadata": {},
     "output_type": "execute_result"
    }
   ],
   "source": [
    "len(a_list)"
   ]
  },
  {
   "cell_type": "code",
   "execution_count": 19,
   "id": "63f82dde",
   "metadata": {},
   "outputs": [
    {
     "data": {
      "text/plain": [
       "[None, 3.14, ['apple', 'banana', 'cherry']]"
      ]
     },
     "execution_count": 19,
     "metadata": {},
     "output_type": "execute_result"
    }
   ],
   "source": [
    "a_list[2:5]"
   ]
  },
  {
   "cell_type": "markdown",
   "id": "f9049eb7",
   "metadata": {},
   "source": [
    "Note that the range 2:5 includes the element at the start index 2 but does not include the element at the end index 5. So, the result has 3 values (index 2, 3, and 4)."
   ]
  },
  {
   "cell_type": "markdown",
   "id": "7c5dd8fa",
   "metadata": {},
   "source": [
    "## Exercise"
   ]
  },
  {
   "cell_type": "code",
   "execution_count": null,
   "id": "56354772",
   "metadata": {},
   "outputs": [],
   "source": [
    "a_list[2:10]"
   ]
  },
  {
   "cell_type": "code",
   "execution_count": null,
   "id": "505cb743",
   "metadata": {},
   "outputs": [],
   "source": [
    "a_list[12:10]"
   ]
  },
  {
   "cell_type": "code",
   "execution_count": null,
   "id": "67236ce7",
   "metadata": {},
   "outputs": [],
   "source": [
    "a_list[2:]"
   ]
  },
  {
   "cell_type": "code",
   "execution_count": null,
   "id": "eac2df40",
   "metadata": {},
   "outputs": [],
   "source": [
    "a_list[:5]"
   ]
  },
  {
   "cell_type": "code",
   "execution_count": null,
   "id": "c3634a83",
   "metadata": {},
   "outputs": [],
   "source": [
    "a_list[-2:-5]"
   ]
  },
  {
   "cell_type": "code",
   "execution_count": null,
   "id": "8080a5b4",
   "metadata": {},
   "outputs": [],
   "source": [
    "a_list[-5:-2]"
   ]
  },
  {
   "cell_type": "markdown",
   "id": "74eb4fde",
   "metadata": {},
   "source": [
    "You can also change the value at a specific index within a list using the assignment operation."
   ]
  },
  {
   "cell_type": "code",
   "execution_count": null,
   "id": "ed75bb14",
   "metadata": {},
   "outputs": [],
   "source": [
    "fruits"
   ]
  },
  {
   "cell_type": "code",
   "execution_count": null,
   "id": "770e8d99",
   "metadata": {},
   "outputs": [],
   "source": [
    "fruits[1] = 'blueberry'"
   ]
  },
  {
   "cell_type": "code",
   "execution_count": null,
   "id": "cfb7cf2a",
   "metadata": {},
   "outputs": [],
   "source": [
    "fruits"
   ]
  },
  {
   "cell_type": "markdown",
   "id": "be37a8ac",
   "metadata": {},
   "source": [
    "A new value can be added to the end of a list using the append method."
   ]
  },
  {
   "cell_type": "code",
   "execution_count": null,
   "id": "144c6e2f",
   "metadata": {},
   "outputs": [],
   "source": [
    "fruits.append('dates')"
   ]
  },
  {
   "cell_type": "code",
   "execution_count": null,
   "id": "f1feea9b",
   "metadata": {},
   "outputs": [],
   "source": [
    "fruits"
   ]
  },
  {
   "cell_type": "markdown",
   "id": "db999b83",
   "metadata": {},
   "source": [
    "A new value can also be inserted at a specific index using the insert method."
   ]
  },
  {
   "cell_type": "code",
   "execution_count": null,
   "id": "500edbcd",
   "metadata": {},
   "outputs": [],
   "source": [
    "fruits.insert(1, 'banana')"
   ]
  },
  {
   "cell_type": "code",
   "execution_count": null,
   "id": "dd0353de",
   "metadata": {},
   "outputs": [],
   "source": [
    "fruits"
   ]
  },
  {
   "cell_type": "markdown",
   "id": "3ae8dfe5",
   "metadata": {},
   "source": [
    "You can remove a value from a list using the remove method."
   ]
  },
  {
   "cell_type": "code",
   "execution_count": null,
   "id": "a5048711",
   "metadata": {},
   "outputs": [],
   "source": [
    "fruits.remove('blueberry')"
   ]
  },
  {
   "cell_type": "code",
   "execution_count": null,
   "id": "768d94a6",
   "metadata": {},
   "outputs": [],
   "source": [
    "fruits"
   ]
  },
  {
   "cell_type": "markdown",
   "id": "f62f966b",
   "metadata": {},
   "source": [
    "What happens if a list has multiple instances of the value passed to `.remove`?"
   ]
  },
  {
   "cell_type": "code",
   "execution_count": null,
   "id": "c7a4fc8c",
   "metadata": {},
   "outputs": [],
   "source": [
    "fruits.remove('apple','cherry')"
   ]
  },
  {
   "cell_type": "markdown",
   "id": "334809e9",
   "metadata": {},
   "source": [
    "To remove an element from a specific index, use the `pop` method. The method also returns the removed element."
   ]
  },
  {
   "cell_type": "code",
   "execution_count": null,
   "id": "325cfd04",
   "metadata": {},
   "outputs": [],
   "source": [
    "fruits"
   ]
  },
  {
   "cell_type": "code",
   "execution_count": null,
   "id": "9f588680",
   "metadata": {},
   "outputs": [],
   "source": [
    "fruits.pop(1)"
   ]
  },
  {
   "cell_type": "code",
   "execution_count": null,
   "id": "e1f392f8",
   "metadata": {},
   "outputs": [],
   "source": [
    "fruits"
   ]
  },
  {
   "cell_type": "code",
   "execution_count": null,
   "id": "4ba41c2e",
   "metadata": {},
   "outputs": [],
   "source": [
    "fruits.pop()"
   ]
  },
  {
   "cell_type": "code",
   "execution_count": null,
   "id": "2062442a",
   "metadata": {},
   "outputs": [],
   "source": [
    "fruits"
   ]
  },
  {
   "cell_type": "markdown",
   "id": "753fc5b8",
   "metadata": {},
   "source": [
    "You can test whether a list contains a value using the `in` operator."
   ]
  },
  {
   "cell_type": "code",
   "execution_count": null,
   "id": "5857033c",
   "metadata": {},
   "outputs": [],
   "source": [
    "'pineapple' in fruits"
   ]
  },
  {
   "cell_type": "code",
   "execution_count": null,
   "id": "70be21aa",
   "metadata": {},
   "outputs": [],
   "source": [
    "'cherry' in fruits"
   ]
  },
  {
   "cell_type": "markdown",
   "id": "ee4bbaac",
   "metadata": {},
   "source": [
    "To combine two or more lists, use the `+` operator. This operation is also called *concatenation*."
   ]
  },
  {
   "cell_type": "code",
   "execution_count": null,
   "id": "9a456065",
   "metadata": {},
   "outputs": [],
   "source": [
    "fruits"
   ]
  },
  {
   "cell_type": "code",
   "execution_count": null,
   "id": "4d7bb012",
   "metadata": {},
   "outputs": [],
   "source": [
    "more_fruits = fruits + ['pineapple', 'tomato', 'guava'] + ['dates', 'banana']"
   ]
  },
  {
   "cell_type": "code",
   "execution_count": null,
   "id": "c86c08f6",
   "metadata": {},
   "outputs": [],
   "source": [
    "more_fruits"
   ]
  },
  {
   "cell_type": "markdown",
   "id": "c7a16c5e",
   "metadata": {},
   "source": [
    "To create a copy of a list, use the `copy` method. Modifying the copied list does not affect the original."
   ]
  },
  {
   "cell_type": "code",
   "execution_count": null,
   "id": "313550b6",
   "metadata": {},
   "outputs": [],
   "source": [
    "more_fruits_copy = more_fruits.copy()"
   ]
  },
  {
   "cell_type": "code",
   "execution_count": null,
   "id": "4e4909e8",
   "metadata": {},
   "outputs": [],
   "source": [
    "more_fruits_copy"
   ]
  },
  {
   "cell_type": "code",
   "execution_count": null,
   "id": "145c6314",
   "metadata": {},
   "outputs": [],
   "source": [
    "# Modify the copy\n",
    "more_fruits_copy.remove('pineapple')\n",
    "more_fruits_copy.pop()\n",
    "more_fruits_copy"
   ]
  },
  {
   "cell_type": "code",
   "execution_count": null,
   "id": "5c650af1",
   "metadata": {},
   "outputs": [],
   "source": [
    "# Original list remains unchanged\n",
    "more_fruits"
   ]
  },
  {
   "cell_type": "markdown",
   "id": "e3783a6c",
   "metadata": {},
   "source": [
    "Note that you cannot create a copy of a list by simply creating a new variable using the assignment operator `=`. The new variable will point to the same list, and any modifications performed using either variable will affect the other."
   ]
  },
  {
   "cell_type": "code",
   "execution_count": null,
   "id": "f8300bb6",
   "metadata": {},
   "outputs": [],
   "source": [
    "more_fruits"
   ]
  },
  {
   "cell_type": "code",
   "execution_count": null,
   "id": "f0e565f4",
   "metadata": {},
   "outputs": [],
   "source": [
    "more_fruits_not_a_copy = more_fruits"
   ]
  },
  {
   "cell_type": "code",
   "execution_count": null,
   "id": "72d3c6b9",
   "metadata": {},
   "outputs": [],
   "source": [
    "more_fruits_not_a_copy.remove('pineapple')\n",
    "more_fruits_not_a_copy.pop()"
   ]
  },
  {
   "cell_type": "code",
   "execution_count": null,
   "id": "487bbc33",
   "metadata": {},
   "outputs": [],
   "source": [
    "more_fruits_not_a_copy"
   ]
  },
  {
   "cell_type": "code",
   "execution_count": null,
   "id": "2f16b319",
   "metadata": {},
   "outputs": [],
   "source": [
    "more_fruits"
   ]
  },
  {
   "cell_type": "code",
   "execution_count": null,
   "id": "d10b1496",
   "metadata": {},
   "outputs": [],
   "source": [
    "dir(more_fruits)"
   ]
  },
  {
   "cell_type": "markdown",
   "id": "8a9594ee",
   "metadata": {},
   "source": [
    "## Exercise:\n",
    "    \n",
    "\n",
    "Reverse the order of elements in a list\n",
    "\n",
    "Add the elements of one list at the end of another list\n",
    "\n",
    "Sort a list of strings in alphabetical order\n",
    "\n",
    "Sort a list of numbers in decreasing order\n"
   ]
  },
  {
   "cell_type": "markdown",
   "id": "2b7f13d1",
   "metadata": {},
   "source": [
    "# Slicing\n",
    "\n",
    "What Is an Index?\n",
    "\n",
    "What Is Slicing?\n",
    "\n",
    "Slice with Negative Indices\n",
    "\n",
    "Specify Step of the Slicing\n",
    "\n",
    "Reversing Elements of Data Structure"
   ]
  },
  {
   "cell_type": "markdown",
   "id": "a8744c85",
   "metadata": {},
   "source": [
    "## What Is an Index?\n",
    "\n",
    "An index is a position of an individual character or element in a list, tuple, or string. The index value always starts at zero and ends at one less than the number of items.\n",
    "\n",
    "Negative indexes enable users to index a list, tuple, or other indexable containers from the end of the container, rather than the start.\n",
    "\n",
    "## What Is Slicing?\n",
    "\n",
    "Slicing is the extraction of a part of a string, list, or tuple. It enables users to access the specific range of elements by mentioning their indices. \n",
    "\n",
    "Syntax: Object [start:stop:step]\n",
    "\n",
    "“Start” specifies the starting index of a slice \n",
    "“Stop” specifies the ending element of a slice\n",
    "You can use one of these if you want to skip certain items\n",
    "\n",
    "## Reversing Elements of Data Structure\n",
    "\n",
    "We can use a negative step to reverse the elements of a data structure."
   ]
  },
  {
   "cell_type": "code",
   "execution_count": null,
   "id": "d94b1379",
   "metadata": {},
   "outputs": [],
   "source": [
    "b_list = [\"slicing\", \"python\", \"tutorial\"]"
   ]
  },
  {
   "cell_type": "code",
   "execution_count": null,
   "id": "1ee819fe",
   "metadata": {},
   "outputs": [],
   "source": [
    "print(b_list[::-1])"
   ]
  },
  {
   "cell_type": "markdown",
   "id": "d8e9c2be",
   "metadata": {},
   "source": [
    "## Slice() Function in Python\n",
    "\n",
    "The slice() method extracts a section of data and returns it as new data, without modifying it. This means users can take a specific range of elements without changing it.\n",
    "\n",
    "Syntax: slice(start,stop,step)"
   ]
  },
  {
   "cell_type": "code",
   "execution_count": null,
   "id": "22c74449",
   "metadata": {},
   "outputs": [],
   "source": [
    "topic = \"slicing\"\n",
    "Slice = slice(0,3)\n",
    "print(topic[Slice])"
   ]
  }
 ],
 "metadata": {
  "kernelspec": {
   "display_name": "Python 3 (ipykernel)",
   "language": "python",
   "name": "python3"
  },
  "language_info": {
   "codemirror_mode": {
    "name": "ipython",
    "version": 3
   },
   "file_extension": ".py",
   "mimetype": "text/x-python",
   "name": "python",
   "nbconvert_exporter": "python",
   "pygments_lexer": "ipython3",
   "version": "3.9.13"
  }
 },
 "nbformat": 4,
 "nbformat_minor": 5
}
