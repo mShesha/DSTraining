{
 "cells": [
  {
   "cell_type": "markdown",
   "id": "325d5462",
   "metadata": {},
   "source": [
    "### What is a function?\n",
    "\n",
    "A block of reusable code which only runs when it is called."
   ]
  },
  {
   "cell_type": "markdown",
   "id": "50559aee",
   "metadata": {},
   "source": [
    "### Creating and using functions\n",
    "\n",
    "A function is a reusable set of instructions that takes one or more inputs, performs some operations, and often returns an output. Python contains many in-built functions like `print`, `len`, etc., and provides the ability to define new ones."
   ]
  },
  {
   "cell_type": "code",
   "execution_count": 1,
   "id": "34c0d8da",
   "metadata": {},
   "outputs": [
    {
     "name": "stdout",
     "output_type": "stream",
     "text": [
      "Today is Saturday\n"
     ]
    }
   ],
   "source": [
    "today = \"Saturday\"\n",
    "print(\"Today is\", today)"
   ]
  },
  {
   "cell_type": "markdown",
   "id": "c9270213",
   "metadata": {},
   "source": [
    "You can define a new function using the `def` keyword."
   ]
  },
  {
   "cell_type": "code",
   "execution_count": 6,
   "id": "76aa8730",
   "metadata": {},
   "outputs": [],
   "source": [
    "# creating a function\n",
    "def say_hello():\n",
    "    print('Hello there!')\n",
    "    print('How are you?')"
   ]
  },
  {
   "cell_type": "markdown",
   "id": "6e043557",
   "metadata": {},
   "source": [
    "Note the round brackets or parentheses `()` and colon `:` after the function's name. Both are essential parts of the syntax. The function's *body* contains an indented block of statements. The statements inside a function's body are not executed when the function is defined. To execute the statements, we need to *call* or *invoke* the function."
   ]
  },
  {
   "cell_type": "code",
   "execution_count": 7,
   "id": "42ba7e5f",
   "metadata": {},
   "outputs": [
    {
     "name": "stdout",
     "output_type": "stream",
     "text": [
      "Hello there!\n",
      "How are you?\n"
     ]
    }
   ],
   "source": [
    "#calling a function\n",
    "say_hello()"
   ]
  },
  {
   "cell_type": "markdown",
   "id": "79f3145f",
   "metadata": {},
   "source": [
    "### Function arguments\n",
    "\n",
    "Functions can accept zero or more values as *inputs* (also knows as *arguments* or *parameters*). Arguments help us write flexible functions that can perform the same operations on different values. Further, functions can return a result that can be stored in a variable or used in other expressions.\n",
    "\n",
    "Here's a function that filters out the even numbers from a list and returns a new list using the `return` keyword."
   ]
  },
  {
   "cell_type": "code",
   "execution_count": 11,
   "id": "346b5a39",
   "metadata": {},
   "outputs": [],
   "source": [
    "def filterEven(numberList):\n",
    "    result_list = []\n",
    "    for number in numberList:\n",
    "        if number % 2 == 0:\n",
    "            result_list.append(number)\n",
    "    return result_list"
   ]
  },
  {
   "cell_type": "code",
   "execution_count": 12,
   "id": "9c6d53b3",
   "metadata": {},
   "outputs": [],
   "source": [
    "evenList = filterEven([1, 2, 3, 4, 5, 6, 7])"
   ]
  },
  {
   "cell_type": "code",
   "execution_count": 13,
   "id": "c79805ad",
   "metadata": {},
   "outputs": [
    {
     "data": {
      "text/plain": [
       "[2, 4, 6]"
      ]
     },
     "execution_count": 13,
     "metadata": {},
     "output_type": "execute_result"
    }
   ],
   "source": [
    "evenList"
   ]
  },
  {
   "cell_type": "markdown",
   "id": "b842b104",
   "metadata": {},
   "source": [
    "### Parameters or Arguments?\n",
    "\n",
    "The terms parameter and argument can be used for the same thing; information that are passed into a function.\n",
    "\n",
    "From a function's perspective:\n",
    "\n",
    "A parameter is the variable listed inside the parentheses in the function definition.\n",
    "\n",
    "An argument is the value that is sent to the function when it is called."
   ]
  }
 ],
 "metadata": {
  "kernelspec": {
   "display_name": "Python 3 (ipykernel)",
   "language": "python",
   "name": "python3"
  },
  "language_info": {
   "codemirror_mode": {
    "name": "ipython",
    "version": 3
   },
   "file_extension": ".py",
   "mimetype": "text/x-python",
   "name": "python",
   "nbconvert_exporter": "python",
   "pygments_lexer": "ipython3",
   "version": "3.9.13"
  }
 },
 "nbformat": 4,
 "nbformat_minor": 5
}
