{
 "cells": [
  {
   "cell_type": "markdown",
   "id": "975cd064",
   "metadata": {},
   "source": [
    "1. Assign your name to the variable name.\n",
    "2. Assign your age (real or fake) to the variable age\n",
    "3. Assign a boolean value to the variable has_android_phone.\n",
    "4. Print the above 3 variables\n",
    "5. Create a dictionary person with keys \"Name\", \"Age\", \"HasAndroidPhone\" and values using the variables defined above.\n",
    "6. Use a for loop to display the type of each value stored against each key in the dictionary person\n",
    "7. Create a list (myList) containing the following 3 elements:\n",
    "\n",
    "    * your favorite color\n",
    "    \n",
    "    * the number of pets you have\n",
    "    \n",
    "    * a boolean value describing whether you have previous programming experience\n",
    "    \n",
    "\n",
    "8. Print the list created above\n",
    "9. Complete the following print and if statements by accessing the appropriate elements from myList.\n",
    "\n",
    "    Hint: Use the list indexing notation [].\n",
    "    \n",
    "    * print('My favorite color is', << fill this blank >>)\n",
    "    \n",
    "    * print(f'I have {<< fill this blank >>} pet(s).')\n",
    "    \n",
    "    * if << fill this blank >>:\n",
    "    \n",
    "          print(\"I have previous programming experience\")\n",
    "        \n",
    "      else:\n",
    "      \n",
    "          print(\"I do not have previous programming experience\")\n",
    "\n",
    "10. Append your favourite book to the end of the list using the appropriate list method.\n",
    "11. Print the list\n",
    "12. Remove the first element of the list, using the appropriate list method\n",
    "13. Complete the print statement below to display the number of elements in myList\n",
    "\n",
    "    print(f\"The list has { << fill this blank >>} elements.\")\n",
    "    \n",
    "    \n",
    "14. Calculate and display the sum of all the numbers divisible by 7 between 18 and 100 i.e. 21+28+35...+91+98\n",
    "15. Print the sum of all the numbers divisible by 7 between 18 and 100   \n"
   ]
  }
 ],
 "metadata": {
  "kernelspec": {
   "display_name": "Python 3 (ipykernel)",
   "language": "python",
   "name": "python3"
  },
  "language_info": {
   "codemirror_mode": {
    "name": "ipython",
    "version": 3
   },
   "file_extension": ".py",
   "mimetype": "text/x-python",
   "name": "python",
   "nbconvert_exporter": "python",
   "pygments_lexer": "ipython3",
   "version": "3.9.13"
  }
 },
 "nbformat": 4,
 "nbformat_minor": 5
}
