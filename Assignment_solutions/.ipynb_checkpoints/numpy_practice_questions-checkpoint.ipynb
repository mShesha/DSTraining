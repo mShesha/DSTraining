{
 "cells": [
  {
   "cell_type": "markdown",
   "id": "6eb5f85b",
   "metadata": {},
   "source": [
    "Write a NumPy program to create a 3x3 matrix with values ranging from 2 to 10"
   ]
  },
  {
   "cell_type": "code",
   "execution_count": 57,
   "id": "89d1b240",
   "metadata": {},
   "outputs": [
    {
     "name": "stdout",
     "output_type": "stream",
     "text": [
      "[[ 2  3  4]\n",
      " [ 5  6  7]\n",
      " [ 8  9 10]]\n"
     ]
    }
   ],
   "source": [
    "arr = np.arange(2, 11).reshape(3,3)\n",
    "print(arr)"
   ]
  },
  {
   "cell_type": "markdown",
   "id": "2449b70e",
   "metadata": {},
   "source": [
    "Write a NumPy program to append values to the end of an array\n",
    "\n",
    "Original array:\\\n",
    "[10, 20, 30]\\\n",
    "append values to the end of the array:\\\n",
    "[40, 50, 60], [70, 80, 90]"
   ]
  },
  {
   "cell_type": "code",
   "execution_count": 58,
   "id": "92aaa1a5",
   "metadata": {},
   "outputs": [
    {
     "name": "stdout",
     "output_type": "stream",
     "text": [
      "Original array:\n",
      "[10, 20, 30]\n",
      "After append values to the end of the array:\n",
      "[10 20 30 40 50 60 70 80 90]\n"
     ]
    }
   ],
   "source": [
    "x = [10, 20, 30]\n",
    "print(\"Original array:\")\n",
    "print(x)\n",
    "x = np.append(x, [[40, 50, 60], [70, 80, 90]])\n",
    "print(\"After append values to the end of the array:\")\n",
    "print(x)"
   ]
  },
  {
   "cell_type": "markdown",
   "id": "cc3c79dc",
   "metadata": {},
   "source": [
    "Create an empty and a full NumPy array"
   ]
  },
  {
   "cell_type": "code",
   "execution_count": 4,
   "id": "22d57d8e",
   "metadata": {},
   "outputs": [
    {
     "name": "stdout",
     "output_type": "stream",
     "text": [
      "Empty Array\n",
      "[[0 0 0 0]\n",
      " [0 0 0 0]\n",
      " [0 0 0 0]]\n",
      "\n",
      " Full Array\n",
      "[[55 55 55]\n",
      " [55 55 55]\n",
      " [55 55 55]]\n"
     ]
    }
   ],
   "source": [
    "import numpy as np\n",
    "  \n",
    "  \n",
    "# Create an empty array\n",
    "empa = np.empty((3, 4), dtype=int)\n",
    "print(\"Empty Array\")\n",
    "print(empa)\n",
    "  \n",
    "# Create a full array\n",
    "flla = np.full([3, 3], 55, dtype=int)\n",
    "print(\"\\n Full Array\")\n",
    "print(flla)"
   ]
  },
  {
   "cell_type": "markdown",
   "id": "34c2a3ae",
   "metadata": {},
   "source": [
    "Check whether a Numpy array contains a specified row or a value\n",
    "\n",
    "Arr = [[1,2,3,4,5], [6,7,8,9,10], [11,12,13,14,15], [16,17,18,19,20]]"
   ]
  },
  {
   "cell_type": "code",
   "execution_count": 8,
   "id": "5e43d3db",
   "metadata": {},
   "outputs": [
    {
     "name": "stdout",
     "output_type": "stream",
     "text": [
      "True\n",
      "False\n"
     ]
    }
   ],
   "source": [
    "# create numpy array\n",
    "arr = np.array([[1, 2, 3, 4, 5],\n",
    "                   [6, 7, 8, 9, 10],\n",
    "                   [11, 12, 13, 14, 15],\n",
    "                   [16, 17, 18, 19, 20]\n",
    "                   ])\n",
    "\n",
    "#checking if numpy contains a specified row\n",
    "\n",
    "print([1, 2, 3, 4, 5] in arr.tolist())\n",
    "print([3, 2, 5, -4, 5] in arr.tolist())\n"
   ]
  },
  {
   "cell_type": "code",
   "execution_count": 9,
   "id": "59545960",
   "metadata": {},
   "outputs": [],
   "source": [
    "# to check if numpy contains a specified value\n",
    "\n",
    "def checkValue(numpyArray, value):\n",
    "    for lst in arr.tolist():\n",
    "        if value in lst:\n",
    "            print(f\"value {value} is present in the given numpy array\")\n",
    "            return\n",
    "    print(f\"Value {value} doesn't exist in the given numpy array\")"
   ]
  },
  {
   "cell_type": "code",
   "execution_count": 10,
   "id": "d6a21c48",
   "metadata": {},
   "outputs": [
    {
     "name": "stdout",
     "output_type": "stream",
     "text": [
      "value 12 is present in the given numpy array\n"
     ]
    }
   ],
   "source": [
    "checkValue(arr,12)"
   ]
  },
  {
   "cell_type": "code",
   "execution_count": 11,
   "id": "ae826307",
   "metadata": {},
   "outputs": [
    {
     "name": "stdout",
     "output_type": "stream",
     "text": [
      "Value 35 doesn't exist in the given numpy array\n"
     ]
    }
   ],
   "source": [
    "checkValue(arr,35)"
   ]
  },
  {
   "cell_type": "markdown",
   "id": "d3ed3d6d",
   "metadata": {},
   "source": [
    "Remove rows in Numpy array that contains non-numeric values"
   ]
  },
  {
   "cell_type": "code",
   "execution_count": 21,
   "id": "11008d9b",
   "metadata": {},
   "outputs": [
    {
     "name": "stdout",
     "output_type": "stream",
     "text": [
      "[[10.5 22.5  3.8]\n",
      " [41.   nan  nan]]\n",
      "removed non-numeric rows [[10.5 22.5  3.8]]\n"
     ]
    }
   ],
   "source": [
    "nArr = np.array([[10.5, 22.5, 3.8],\n",
    "                  [41, np.nan, np.nan]])\n",
    "\n",
    "print(nArr)\n",
    "\n",
    "arr = nArr[~np.isnan(nArr).any(axis=1)]\n",
    "print(f\"removed non-numeric rows {arr}\")"
   ]
  },
  {
   "cell_type": "markdown",
   "id": "a597ef7d",
   "metadata": {},
   "source": [
    "Find the number of occurrences of a sequence in a NumPy array\n",
    "\n",
    "count the number of occurance of (9,4) in a given array.\n",
    "\n",
    "arr = np.array([[2, 8, 9, 4], \n",
    "                   [9, 4, 9, 4],\n",
    "                   [4, 5, 9, 7],\n",
    "                   [2, 9, 4, 3]])"
   ]
  },
  {
   "cell_type": "code",
   "execution_count": 27,
   "id": "7bed93e1",
   "metadata": {},
   "outputs": [
    {
     "name": "stdout",
     "output_type": "stream",
     "text": [
      "4\n"
     ]
    }
   ],
   "source": [
    "arr = np.array([[2, 8, 9, 4], \n",
    "                   [9, 4, 9, 4],\n",
    "                   [4, 5, 9, 7],\n",
    "                   [2, 9, 4, 3]])\n",
    "\n",
    "# Counting sequence\n",
    "output = repr(arr).count(\"9, 4\")\n",
    "  \n",
    "# view output\n",
    "print(output)"
   ]
  },
  {
   "cell_type": "markdown",
   "id": "f4256ea4",
   "metadata": {},
   "source": [
    "Find the most frequent value in a NumPy array"
   ]
  },
  {
   "cell_type": "code",
   "execution_count": 29,
   "id": "71e7c57f",
   "metadata": {},
   "outputs": [
    {
     "name": "stdout",
     "output_type": "stream",
     "text": [
      "Original array:\n",
      "[1 2 3 4 5 1 2 1 1 1]\n",
      "Most frequent value in the above array:\n",
      "1\n"
     ]
    }
   ],
   "source": [
    "x = np.array([1,2,3,4,5,1,2,1,1,1])\n",
    "\n",
    "print(\"Original array:\")\n",
    "print(x)\n",
    "  \n",
    "print(\"Most frequent value in the above array:\")\n",
    "y = np.bincount(x).argmax()\n",
    "print(y)"
   ]
  },
  {
   "cell_type": "markdown",
   "id": "2ddc3161",
   "metadata": {},
   "source": [
    "This code will generate a single output only, it will not work fine if the array contains more than one element having the maximum number of frequency"
   ]
  },
  {
   "cell_type": "code",
   "execution_count": 36,
   "id": "966ac9bb",
   "metadata": {},
   "outputs": [
    {
     "name": "stdout",
     "output_type": "stream",
     "text": [
      "Original array:\n",
      "[1 1 1 2 3 4 2 4 3 3]\n",
      "Most frequent value in above array\n",
      "1 3 "
     ]
    }
   ],
   "source": [
    "x = np.array([1, 1, 1, 2, 3, 4, 2, 4, 3, 3 ])\n",
    "print(\"Original array:\")\n",
    "print(x)\n",
    "  \n",
    "print(\"Most frequent value in above array\")\n",
    "y = np.bincount(x)\n",
    "maximum = max(y)\n",
    "  \n",
    "for i in range(len(y)):\n",
    "    if y[i] == maximum:\n",
    "        print(i, end=\" \")"
   ]
  },
  {
   "cell_type": "markdown",
   "id": "df0bd881",
   "metadata": {},
   "source": [
    "Flatten a multidimentional array using NumPy\n",
    "\n",
    "np.array([[6, 9, 12], [8, 5, 2], [18, 21, 24]])"
   ]
  },
  {
   "cell_type": "code",
   "execution_count": 53,
   "id": "064a24d4",
   "metadata": {},
   "outputs": [
    {
     "name": "stdout",
     "output_type": "stream",
     "text": [
      "original array : \n",
      " [[ 6  9 12]\n",
      " [ 8  5  2]\n",
      " [18 21 24]]\n",
      "flattened array : \n",
      "  [ 6  9 12  8  5  2 18 21 24]\n"
     ]
    }
   ],
   "source": [
    "arr = np.array([[6, 9, 12], [8, 5, 2], [18, 21, 24]])\n",
    "print(f\"original array : \\n {arr}\")\n",
    "print(f\"flattened array : \\n  {arr.flatten()}\")"
   ]
  },
  {
   "cell_type": "markdown",
   "id": "b1e734fb",
   "metadata": {},
   "source": [
    "Reverse a given numpy array\n",
    "\n",
    "np.array([1, 2, 3, 6, 4, 5])"
   ]
  },
  {
   "cell_type": "code",
   "execution_count": 54,
   "id": "0592bccd",
   "metadata": {},
   "outputs": [
    {
     "name": "stdout",
     "output_type": "stream",
     "text": [
      "original array \n",
      " [1 2 3 6 4 5]\n",
      "reversed array \n",
      " [5 4 6 3 2 1]\n"
     ]
    }
   ],
   "source": [
    "arr = np.array([1, 2, 3, 6, 4, 5])\n",
    "print(f\"original array \\n {arr}\")\n",
    "print(f\"reversed array \\n {np.flip(arr)}\")"
   ]
  },
  {
   "cell_type": "markdown",
   "id": "63662a49",
   "metadata": {},
   "source": [
    "Convert a given array to read-only\n",
    "\n",
    "`arr = np.zeros(11)`"
   ]
  },
  {
   "cell_type": "code",
   "execution_count": 56,
   "id": "88f132d3",
   "metadata": {},
   "outputs": [
    {
     "name": "stdout",
     "output_type": "stream",
     "text": [
      "original array : \n",
      " [0. 0. 0. 0. 0. 0. 0. 0. 0. 0. 0.]\n",
      "after updating the value at index 1: \n",
      " [ 0. 15.  0.  0.  0.  0.  0.  0.  0.  0.  0.]\n",
      "after making the array as read-only (immutable)\n"
     ]
    },
    {
     "ename": "ValueError",
     "evalue": "assignment destination is read-only",
     "output_type": "error",
     "traceback": [
      "\u001b[1;31m---------------------------------------------------------------------------\u001b[0m",
      "\u001b[1;31mValueError\u001b[0m                                Traceback (most recent call last)",
      "\u001b[1;32m~\\AppData\\Local\\Temp\\ipykernel_15604\\2691300451.py\u001b[0m in \u001b[0;36m<module>\u001b[1;34m\u001b[0m\n\u001b[0;32m      9\u001b[0m \u001b[1;33m\u001b[0m\u001b[0m\n\u001b[0;32m     10\u001b[0m \u001b[0mprint\u001b[0m\u001b[1;33m(\u001b[0m\u001b[1;34m\"after making the array as read-only (immutable)\"\u001b[0m\u001b[1;33m)\u001b[0m\u001b[1;33m\u001b[0m\u001b[1;33m\u001b[0m\u001b[0m\n\u001b[1;32m---> 11\u001b[1;33m \u001b[0marr\u001b[0m\u001b[1;33m[\u001b[0m\u001b[1;36m4\u001b[0m\u001b[1;33m]\u001b[0m\u001b[1;33m=\u001b[0m\u001b[1;36m13\u001b[0m\u001b[1;33m\u001b[0m\u001b[1;33m\u001b[0m\u001b[0m\n\u001b[0m",
      "\u001b[1;31mValueError\u001b[0m: assignment destination is read-only"
     ]
    }
   ],
   "source": [
    "arr = np.zeros(11)\n",
    "print(f\"original array : \\n {arr}\")\n",
    "\n",
    "arr[1] = 15\n",
    "print(f\"after updating the value at index 1: \\n {arr}\")\n",
    "\n",
    "# making the array to be read-only\n",
    "arr.setflags(write=False)\n",
    "\n",
    "print(\"after making the array as read-only (immutable)\")\n",
    "arr[4]=13"
   ]
  }
 ],
 "metadata": {
  "kernelspec": {
   "display_name": "Python 3 (ipykernel)",
   "language": "python",
   "name": "python3"
  },
  "language_info": {
   "codemirror_mode": {
    "name": "ipython",
    "version": 3
   },
   "file_extension": ".py",
   "mimetype": "text/x-python",
   "name": "python",
   "nbconvert_exporter": "python",
   "pygments_lexer": "ipython3",
   "version": "3.9.13"
  }
 },
 "nbformat": 4,
 "nbformat_minor": 5
}
