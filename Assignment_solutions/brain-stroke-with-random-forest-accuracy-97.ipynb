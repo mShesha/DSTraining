{
 "cells": [
  {
   "cell_type": "code",
   "execution_count": 1,
   "id": "dcf8cc38",
   "metadata": {
    "_cell_guid": "b1076dfc-b9ad-4769-8c92-a6c4dae69d19",
    "_uuid": "8f2839f25d086af736a60e9eeb907d3b93b6e0e5",
    "execution": {
     "iopub.execute_input": "2022-08-05T10:32:59.171947Z",
     "iopub.status.busy": "2022-08-05T10:32:59.170854Z",
     "iopub.status.idle": "2022-08-05T10:32:59.190396Z",
     "shell.execute_reply": "2022-08-05T10:32:59.189566Z"
    },
    "papermill": {
     "duration": 0.03217,
     "end_time": "2022-08-05T10:32:59.193591",
     "exception": false,
     "start_time": "2022-08-05T10:32:59.161421",
     "status": "completed"
    },
    "tags": []
   },
   "outputs": [
    {
     "name": "stdout",
     "output_type": "stream",
     "text": [
      "/kaggle/input/full-filled-brain-stroke-dataset/full_data.csv\n",
      "/kaggle/input/full-filled-brain-stroke-dataset/full_filled_stroke_data (1).csv\n"
     ]
    }
   ],
   "source": [
    "# This Python 3 environment comes with many helpful analytics libraries installed\n",
    "# It is defined by the kaggle/python Docker image: https://github.com/kaggle/docker-python\n",
    "# For example, here's several helpful packages to load\n",
    "\n",
    "import numpy as np # linear algebra\n",
    "import pandas as pd # data processing, CSV file I/O (e.g. pd.read_csv)\n",
    "\n",
    "# Input data files are available in the read-only \"../input/\" directory\n",
    "# For example, running this (by clicking run or pressing Shift+Enter) will list all files under the input directory\n",
    "\n",
    "import os\n",
    "for dirname, _, filenames in os.walk('/kaggle/input'):\n",
    "    for filename in filenames:\n",
    "        print(os.path.join(dirname, filename))\n",
    "\n",
    "# You can write up to 20GB to the current directory (/kaggle/working/) that gets preserved as output when you create a version using \"Save & Run All\" \n",
    "# You can also write temporary files to /kaggle/temp/, but they won't be saved outside of the current session"
   ]
  },
  {
   "cell_type": "code",
   "execution_count": 2,
   "id": "f932877d",
   "metadata": {
    "execution": {
     "iopub.execute_input": "2022-08-05T10:32:59.208878Z",
     "iopub.status.busy": "2022-08-05T10:32:59.208135Z",
     "iopub.status.idle": "2022-08-05T10:33:00.462230Z",
     "shell.execute_reply": "2022-08-05T10:33:00.461000Z"
    },
    "papermill": {
     "duration": 1.264626,
     "end_time": "2022-08-05T10:33:00.465008",
     "exception": false,
     "start_time": "2022-08-05T10:32:59.200382",
     "status": "completed"
    },
    "tags": []
   },
   "outputs": [],
   "source": [
    "import pandas as pd\n",
    "import numpy as np\n",
    "import matplotlib.pyplot as plt\n",
    "from sklearn.preprocessing import StandardScaler\n",
    "import seaborn as sns\n",
    "sns.set(style=\"darkgrid\")"
   ]
  },
  {
   "cell_type": "code",
   "execution_count": 3,
   "id": "2647fbce",
   "metadata": {
    "execution": {
     "iopub.execute_input": "2022-08-05T10:33:00.479707Z",
     "iopub.status.busy": "2022-08-05T10:33:00.478776Z",
     "iopub.status.idle": "2022-08-05T10:33:00.508688Z",
     "shell.execute_reply": "2022-08-05T10:33:00.507676Z"
    },
    "papermill": {
     "duration": 0.040078,
     "end_time": "2022-08-05T10:33:00.511382",
     "exception": false,
     "start_time": "2022-08-05T10:33:00.471304",
     "status": "completed"
    },
    "tags": []
   },
   "outputs": [],
   "source": [
    "all_data = pd.read_csv('/kaggle/input/full-filled-brain-stroke-dataset/full_data.csv')"
   ]
  },
  {
   "cell_type": "code",
   "execution_count": 4,
   "id": "97475908",
   "metadata": {
    "execution": {
     "iopub.execute_input": "2022-08-05T10:33:00.526229Z",
     "iopub.status.busy": "2022-08-05T10:33:00.525160Z",
     "iopub.status.idle": "2022-08-05T10:33:00.559808Z",
     "shell.execute_reply": "2022-08-05T10:33:00.558725Z"
    },
    "papermill": {
     "duration": 0.044671,
     "end_time": "2022-08-05T10:33:00.562438",
     "exception": false,
     "start_time": "2022-08-05T10:33:00.517767",
     "status": "completed"
    },
    "tags": []
   },
   "outputs": [
    {
     "data": {
      "text/html": [
       "<div>\n",
       "<style scoped>\n",
       "    .dataframe tbody tr th:only-of-type {\n",
       "        vertical-align: middle;\n",
       "    }\n",
       "\n",
       "    .dataframe tbody tr th {\n",
       "        vertical-align: top;\n",
       "    }\n",
       "\n",
       "    .dataframe thead th {\n",
       "        text-align: right;\n",
       "    }\n",
       "</style>\n",
       "<table border=\"1\" class=\"dataframe\">\n",
       "  <thead>\n",
       "    <tr style=\"text-align: right;\">\n",
       "      <th></th>\n",
       "      <th>gender</th>\n",
       "      <th>age</th>\n",
       "      <th>hypertension</th>\n",
       "      <th>heart_disease</th>\n",
       "      <th>ever_married</th>\n",
       "      <th>work_type</th>\n",
       "      <th>Residence_type</th>\n",
       "      <th>avg_glucose_level</th>\n",
       "      <th>bmi</th>\n",
       "      <th>smoking_status</th>\n",
       "      <th>stroke</th>\n",
       "    </tr>\n",
       "  </thead>\n",
       "  <tbody>\n",
       "    <tr>\n",
       "      <th>0</th>\n",
       "      <td>Male</td>\n",
       "      <td>67.0</td>\n",
       "      <td>0</td>\n",
       "      <td>1</td>\n",
       "      <td>Yes</td>\n",
       "      <td>Private</td>\n",
       "      <td>Urban</td>\n",
       "      <td>228.69</td>\n",
       "      <td>36.6</td>\n",
       "      <td>formerly smoked</td>\n",
       "      <td>1</td>\n",
       "    </tr>\n",
       "    <tr>\n",
       "      <th>1</th>\n",
       "      <td>Male</td>\n",
       "      <td>80.0</td>\n",
       "      <td>0</td>\n",
       "      <td>1</td>\n",
       "      <td>Yes</td>\n",
       "      <td>Private</td>\n",
       "      <td>Rural</td>\n",
       "      <td>105.92</td>\n",
       "      <td>32.5</td>\n",
       "      <td>never smoked</td>\n",
       "      <td>1</td>\n",
       "    </tr>\n",
       "    <tr>\n",
       "      <th>2</th>\n",
       "      <td>Female</td>\n",
       "      <td>49.0</td>\n",
       "      <td>0</td>\n",
       "      <td>0</td>\n",
       "      <td>Yes</td>\n",
       "      <td>Private</td>\n",
       "      <td>Urban</td>\n",
       "      <td>171.23</td>\n",
       "      <td>34.4</td>\n",
       "      <td>smokes</td>\n",
       "      <td>1</td>\n",
       "    </tr>\n",
       "    <tr>\n",
       "      <th>3</th>\n",
       "      <td>Female</td>\n",
       "      <td>79.0</td>\n",
       "      <td>1</td>\n",
       "      <td>0</td>\n",
       "      <td>Yes</td>\n",
       "      <td>Self-employed</td>\n",
       "      <td>Rural</td>\n",
       "      <td>174.12</td>\n",
       "      <td>24.0</td>\n",
       "      <td>never smoked</td>\n",
       "      <td>1</td>\n",
       "    </tr>\n",
       "    <tr>\n",
       "      <th>4</th>\n",
       "      <td>Male</td>\n",
       "      <td>81.0</td>\n",
       "      <td>0</td>\n",
       "      <td>0</td>\n",
       "      <td>Yes</td>\n",
       "      <td>Private</td>\n",
       "      <td>Urban</td>\n",
       "      <td>186.21</td>\n",
       "      <td>29.0</td>\n",
       "      <td>formerly smoked</td>\n",
       "      <td>1</td>\n",
       "    </tr>\n",
       "    <tr>\n",
       "      <th>...</th>\n",
       "      <td>...</td>\n",
       "      <td>...</td>\n",
       "      <td>...</td>\n",
       "      <td>...</td>\n",
       "      <td>...</td>\n",
       "      <td>...</td>\n",
       "      <td>...</td>\n",
       "      <td>...</td>\n",
       "      <td>...</td>\n",
       "      <td>...</td>\n",
       "      <td>...</td>\n",
       "    </tr>\n",
       "    <tr>\n",
       "      <th>4976</th>\n",
       "      <td>Male</td>\n",
       "      <td>41.0</td>\n",
       "      <td>0</td>\n",
       "      <td>0</td>\n",
       "      <td>No</td>\n",
       "      <td>Private</td>\n",
       "      <td>Rural</td>\n",
       "      <td>70.15</td>\n",
       "      <td>29.8</td>\n",
       "      <td>formerly smoked</td>\n",
       "      <td>0</td>\n",
       "    </tr>\n",
       "    <tr>\n",
       "      <th>4977</th>\n",
       "      <td>Male</td>\n",
       "      <td>40.0</td>\n",
       "      <td>0</td>\n",
       "      <td>0</td>\n",
       "      <td>Yes</td>\n",
       "      <td>Private</td>\n",
       "      <td>Urban</td>\n",
       "      <td>191.15</td>\n",
       "      <td>31.1</td>\n",
       "      <td>smokes</td>\n",
       "      <td>0</td>\n",
       "    </tr>\n",
       "    <tr>\n",
       "      <th>4978</th>\n",
       "      <td>Female</td>\n",
       "      <td>45.0</td>\n",
       "      <td>1</td>\n",
       "      <td>0</td>\n",
       "      <td>Yes</td>\n",
       "      <td>Govt_job</td>\n",
       "      <td>Rural</td>\n",
       "      <td>95.02</td>\n",
       "      <td>31.8</td>\n",
       "      <td>smokes</td>\n",
       "      <td>0</td>\n",
       "    </tr>\n",
       "    <tr>\n",
       "      <th>4979</th>\n",
       "      <td>Male</td>\n",
       "      <td>40.0</td>\n",
       "      <td>0</td>\n",
       "      <td>0</td>\n",
       "      <td>Yes</td>\n",
       "      <td>Private</td>\n",
       "      <td>Rural</td>\n",
       "      <td>83.94</td>\n",
       "      <td>30.0</td>\n",
       "      <td>smokes</td>\n",
       "      <td>0</td>\n",
       "    </tr>\n",
       "    <tr>\n",
       "      <th>4980</th>\n",
       "      <td>Female</td>\n",
       "      <td>80.0</td>\n",
       "      <td>1</td>\n",
       "      <td>0</td>\n",
       "      <td>Yes</td>\n",
       "      <td>Private</td>\n",
       "      <td>Urban</td>\n",
       "      <td>83.75</td>\n",
       "      <td>29.1</td>\n",
       "      <td>never smoked</td>\n",
       "      <td>0</td>\n",
       "    </tr>\n",
       "  </tbody>\n",
       "</table>\n",
       "<p>4981 rows × 11 columns</p>\n",
       "</div>"
      ],
      "text/plain": [
       "      gender   age  hypertension  heart_disease ever_married      work_type  \\\n",
       "0       Male  67.0             0              1          Yes        Private   \n",
       "1       Male  80.0             0              1          Yes        Private   \n",
       "2     Female  49.0             0              0          Yes        Private   \n",
       "3     Female  79.0             1              0          Yes  Self-employed   \n",
       "4       Male  81.0             0              0          Yes        Private   \n",
       "...      ...   ...           ...            ...          ...            ...   \n",
       "4976    Male  41.0             0              0           No        Private   \n",
       "4977    Male  40.0             0              0          Yes        Private   \n",
       "4978  Female  45.0             1              0          Yes       Govt_job   \n",
       "4979    Male  40.0             0              0          Yes        Private   \n",
       "4980  Female  80.0             1              0          Yes        Private   \n",
       "\n",
       "     Residence_type  avg_glucose_level   bmi   smoking_status  stroke  \n",
       "0             Urban             228.69  36.6  formerly smoked       1  \n",
       "1             Rural             105.92  32.5     never smoked       1  \n",
       "2             Urban             171.23  34.4           smokes       1  \n",
       "3             Rural             174.12  24.0     never smoked       1  \n",
       "4             Urban             186.21  29.0  formerly smoked       1  \n",
       "...             ...                ...   ...              ...     ...  \n",
       "4976          Rural              70.15  29.8  formerly smoked       0  \n",
       "4977          Urban             191.15  31.1           smokes       0  \n",
       "4978          Rural              95.02  31.8           smokes       0  \n",
       "4979          Rural              83.94  30.0           smokes       0  \n",
       "4980          Urban              83.75  29.1     never smoked       0  \n",
       "\n",
       "[4981 rows x 11 columns]"
      ]
     },
     "execution_count": 4,
     "metadata": {},
     "output_type": "execute_result"
    }
   ],
   "source": [
    "all_data"
   ]
  },
  {
   "cell_type": "code",
   "execution_count": 5,
   "id": "eef66c89",
   "metadata": {
    "execution": {
     "iopub.execute_input": "2022-08-05T10:33:00.577807Z",
     "iopub.status.busy": "2022-08-05T10:33:00.577382Z",
     "iopub.status.idle": "2022-08-05T10:33:00.584605Z",
     "shell.execute_reply": "2022-08-05T10:33:00.583664Z"
    },
    "papermill": {
     "duration": 0.017683,
     "end_time": "2022-08-05T10:33:00.586960",
     "exception": false,
     "start_time": "2022-08-05T10:33:00.569277",
     "status": "completed"
    },
    "tags": []
   },
   "outputs": [],
   "source": [
    "target = 'stroke'\n",
    "X = all_data.loc[:,all_data.columns!=target]\n",
    "y = all_data.loc[:,all_data.columns==target]"
   ]
  },
  {
   "cell_type": "code",
   "execution_count": 6,
   "id": "e97efbb8",
   "metadata": {
    "execution": {
     "iopub.execute_input": "2022-08-05T10:33:00.601875Z",
     "iopub.status.busy": "2022-08-05T10:33:00.601455Z",
     "iopub.status.idle": "2022-08-05T10:33:00.626798Z",
     "shell.execute_reply": "2022-08-05T10:33:00.625711Z"
    },
    "papermill": {
     "duration": 0.035904,
     "end_time": "2022-08-05T10:33:00.629458",
     "exception": false,
     "start_time": "2022-08-05T10:33:00.593554",
     "status": "completed"
    },
    "tags": []
   },
   "outputs": [],
   "source": [
    "columns = ['gender', 'age', 'hypertension', 'heart_disease', 'ever_married',\n",
    "       'work_type', 'Residence_type', 'avg_glucose_level', 'bmi',\n",
    "       'smoking_status']\n",
    "X = pd.get_dummies(X[columns])"
   ]
  },
  {
   "cell_type": "code",
   "execution_count": 7,
   "id": "78beb789",
   "metadata": {
    "execution": {
     "iopub.execute_input": "2022-08-05T10:33:00.644493Z",
     "iopub.status.busy": "2022-08-05T10:33:00.644118Z",
     "iopub.status.idle": "2022-08-05T10:33:00.832375Z",
     "shell.execute_reply": "2022-08-05T10:33:00.830787Z"
    },
    "papermill": {
     "duration": 0.199055,
     "end_time": "2022-08-05T10:33:00.835180",
     "exception": false,
     "start_time": "2022-08-05T10:33:00.636125",
     "status": "completed"
    },
    "tags": []
   },
   "outputs": [
    {
     "name": "stdout",
     "output_type": "stream",
     "text": [
      "0    4733\n",
      "1     248\n",
      "Name: stroke, dtype: int64\n"
     ]
    },
    {
     "data": {
      "image/png": "[encoded data removed]",
      "text/plain": [
       "<Figure size 432x288 with 1 Axes>"
      ]
     },
     "metadata": {},
     "output_type": "display_data"
    }
   ],
   "source": [
    "ax = sns.countplot(x=target,data=all_data)\n",
    "print(all_data[target].value_counts())"
   ]
  },
  {
   "cell_type": "markdown",
   "id": "0fe96c4b",
   "metadata": {
    "papermill": {
     "duration": 0.006626,
     "end_time": "2022-08-05T10:33:00.848769",
     "exception": false,
     "start_time": "2022-08-05T10:33:00.842143",
     "status": "completed"
    },
    "tags": []
   },
   "source": [
    "**There is an oversampling in the dataset. There is a big difference between those who do not have a stroke and those who do.**"
   ]
  },
  {
   "cell_type": "code",
   "execution_count": 8,
   "id": "ab7ddb52",
   "metadata": {
    "execution": {
     "iopub.execute_input": "2022-08-05T10:33:00.864535Z",
     "iopub.status.busy": "2022-08-05T10:33:00.863478Z",
     "iopub.status.idle": "2022-08-05T10:33:00.871239Z",
     "shell.execute_reply": "2022-08-05T10:33:00.870355Z"
    },
    "papermill": {
     "duration": 0.018,
     "end_time": "2022-08-05T10:33:00.873492",
     "exception": false,
     "start_time": "2022-08-05T10:33:00.855492",
     "status": "completed"
    },
    "tags": []
   },
   "outputs": [
    {
     "data": {
      "text/plain": [
       "95.0210801043967"
      ]
     },
     "execution_count": 8,
     "metadata": {},
     "output_type": "execute_result"
    }
   ],
   "source": [
    "percentage_no_stroke = 100*(4733/float(all_data.shape[0]))\n",
    "percentage_no_stroke"
   ]
  },
  {
   "cell_type": "code",
   "execution_count": 9,
   "id": "e37db336",
   "metadata": {
    "execution": {
     "iopub.execute_input": "2022-08-05T10:33:00.889049Z",
     "iopub.status.busy": "2022-08-05T10:33:00.888639Z",
     "iopub.status.idle": "2022-08-05T10:33:00.896312Z",
     "shell.execute_reply": "2022-08-05T10:33:00.895185Z"
    },
    "papermill": {
     "duration": 0.018145,
     "end_time": "2022-08-05T10:33:00.898574",
     "exception": false,
     "start_time": "2022-08-05T10:33:00.880429",
     "status": "completed"
    },
    "tags": []
   },
   "outputs": [
    {
     "data": {
      "text/plain": [
       "4.978919895603292"
      ]
     },
     "execution_count": 9,
     "metadata": {},
     "output_type": "execute_result"
    }
   ],
   "source": [
    "percentage_yes_stroke = 100*(248/float(all_data.shape[0]))\n",
    "percentage_yes_stroke"
   ]
  },
  {
   "cell_type": "code",
   "execution_count": 10,
   "id": "ee43ae24",
   "metadata": {
    "execution": {
     "iopub.execute_input": "2022-08-05T10:33:00.914551Z",
     "iopub.status.busy": "2022-08-05T10:33:00.914121Z",
     "iopub.status.idle": "2022-08-05T10:33:01.429866Z",
     "shell.execute_reply": "2022-08-05T10:33:01.428389Z"
    },
    "papermill": {
     "duration": 0.527843,
     "end_time": "2022-08-05T10:33:01.433335",
     "exception": false,
     "start_time": "2022-08-05T10:33:00.905492",
     "status": "completed"
    },
    "tags": []
   },
   "outputs": [],
   "source": [
    "import seaborn as sns\n",
    "from sklearn.datasets import make_classification\n",
    "from imblearn.over_sampling import SMOTE\n",
    "\n",
    "oversample = SMOTE()\n",
    "X, y = oversample.fit_resample(X, y)"
   ]
  },
  {
   "cell_type": "code",
   "execution_count": 11,
   "id": "ceed559b",
   "metadata": {
    "execution": {
     "iopub.execute_input": "2022-08-05T10:33:01.457413Z",
     "iopub.status.busy": "2022-08-05T10:33:01.456895Z",
     "iopub.status.idle": "2022-08-05T10:33:01.622572Z",
     "shell.execute_reply": "2022-08-05T10:33:01.621244Z"
    },
    "papermill": {
     "duration": 0.180827,
     "end_time": "2022-08-05T10:33:01.625371",
     "exception": false,
     "start_time": "2022-08-05T10:33:01.444544",
     "status": "completed"
    },
    "tags": []
   },
   "outputs": [
    {
     "name": "stdout",
     "output_type": "stream",
     "text": [
      "1    4733\n",
      "0    4733\n",
      "Name: stroke, dtype: int64\n"
     ]
    },
    {
     "data": {
      "image/png": "[encoded data removed]",
      "text/plain": [
       "<Figure size 432x288 with 1 Axes>"
      ]
     },
     "metadata": {},
     "output_type": "display_data"
    }
   ],
   "source": [
    "ax = sns.countplot(x=target,data=y)\n",
    "print(y[target].value_counts())"
   ]
  },
  {
   "cell_type": "markdown",
   "id": "5a35fe70",
   "metadata": {
    "papermill": {
     "duration": 0.007071,
     "end_time": "2022-08-05T10:33:01.639804",
     "exception": false,
     "start_time": "2022-08-05T10:33:01.632733",
     "status": "completed"
    },
    "tags": []
   },
   "source": [
    "# Now we have a balanced dataset"
   ]
  },
  {
   "cell_type": "code",
   "execution_count": 12,
   "id": "c4ff386f",
   "metadata": {
    "execution": {
     "iopub.execute_input": "2022-08-05T10:33:01.657301Z",
     "iopub.status.busy": "2022-08-05T10:33:01.656321Z",
     "iopub.status.idle": "2022-08-05T10:33:01.666295Z",
     "shell.execute_reply": "2022-08-05T10:33:01.665449Z"
    },
    "papermill": {
     "duration": 0.020818,
     "end_time": "2022-08-05T10:33:01.668683",
     "exception": false,
     "start_time": "2022-08-05T10:33:01.647865",
     "status": "completed"
    },
    "tags": []
   },
   "outputs": [],
   "source": [
    "from sklearn.model_selection import train_test_split\n",
    "\n",
    "X_train, X_test, Y_train, Y_test = train_test_split(X,y, test_size=0.20, shuffle=True)"
   ]
  },
  {
   "cell_type": "markdown",
   "id": "7d4fde5b",
   "metadata": {
    "papermill": {
     "duration": 0.006839,
     "end_time": "2022-08-05T10:33:01.682726",
     "exception": false,
     "start_time": "2022-08-05T10:33:01.675887",
     "status": "completed"
    },
    "tags": []
   },
   "source": [
    "# MODEL BUILDING"
   ]
  },
  {
   "cell_type": "markdown",
   "id": "c95a039c",
   "metadata": {
    "papermill": {
     "duration": 0.00678,
     "end_time": "2022-08-05T10:33:01.696689",
     "exception": false,
     "start_time": "2022-08-05T10:33:01.689909",
     "status": "completed"
    },
    "tags": []
   },
   "source": [
    "**RANDOM FOREST**"
   ]
  },
  {
   "cell_type": "code",
   "execution_count": 13,
   "id": "c3c28d77",
   "metadata": {
    "execution": {
     "iopub.execute_input": "2022-08-05T10:33:01.713673Z",
     "iopub.status.busy": "2022-08-05T10:33:01.712574Z",
     "iopub.status.idle": "2022-08-05T10:33:01.719913Z",
     "shell.execute_reply": "2022-08-05T10:33:01.718930Z"
    },
    "papermill": {
     "duration": 0.018216,
     "end_time": "2022-08-05T10:33:01.722255",
     "exception": false,
     "start_time": "2022-08-05T10:33:01.704039",
     "status": "completed"
    },
    "tags": []
   },
   "outputs": [],
   "source": [
    "from sklearn.ensemble import RandomForestClassifier\n",
    "\n",
    "def rf(X_train, Y_train, n_estimators=250):\n",
    " rndforest = RandomForestClassifier(n_estimators=n_estimators, n_jobs=-1)\n",
    " rndforest.fit(X_train, Y_train)\n",
    " return rndforest"
   ]
  },
  {
   "cell_type": "code",
   "execution_count": 14,
   "id": "5655ad5b",
   "metadata": {
    "execution": {
     "iopub.execute_input": "2022-08-05T10:33:01.739437Z",
     "iopub.status.busy": "2022-08-05T10:33:01.738320Z",
     "iopub.status.idle": "2022-08-05T10:33:02.862840Z",
     "shell.execute_reply": "2022-08-05T10:33:02.861798Z"
    },
    "papermill": {
     "duration": 1.135834,
     "end_time": "2022-08-05T10:33:02.865570",
     "exception": false,
     "start_time": "2022-08-05T10:33:01.729736",
     "status": "completed"
    },
    "tags": []
   },
   "outputs": [],
   "source": [
    "random_forest_en = rf(X_train,Y_train.values.ravel(), n_estimators=250)"
   ]
  },
  {
   "cell_type": "code",
   "execution_count": 15,
   "id": "9c6585a0",
   "metadata": {
    "execution": {
     "iopub.execute_input": "2022-08-05T10:33:02.882701Z",
     "iopub.status.busy": "2022-08-05T10:33:02.881397Z",
     "iopub.status.idle": "2022-08-05T10:33:03.199031Z",
     "shell.execute_reply": "2022-08-05T10:33:03.197985Z"
    },
    "papermill": {
     "duration": 0.329456,
     "end_time": "2022-08-05T10:33:03.202383",
     "exception": false,
     "start_time": "2022-08-05T10:33:02.872927",
     "status": "completed"
    },
    "tags": []
   },
   "outputs": [
    {
     "name": "stdout",
     "output_type": "stream",
     "text": [
      "TRAINING ACCURACY: 1.0\n",
      "VALIDATION ACCURACY 0.9730728616684267\n"
     ]
    }
   ],
   "source": [
    "print(\"TRAINING ACCURACY:\", random_forest_en.score(X_train, Y_train))\n",
    "print(\"VALIDATION ACCURACY\", random_forest_en.score(X_test, Y_test))"
   ]
  },
  {
   "cell_type": "code",
   "execution_count": 16,
   "id": "b5bda051",
   "metadata": {
    "execution": {
     "iopub.execute_input": "2022-08-05T10:33:03.219369Z",
     "iopub.status.busy": "2022-08-05T10:33:03.218593Z",
     "iopub.status.idle": "2022-08-05T10:33:03.223816Z",
     "shell.execute_reply": "2022-08-05T10:33:03.222690Z"
    },
    "papermill": {
     "duration": 0.015904,
     "end_time": "2022-08-05T10:33:03.226104",
     "exception": false,
     "start_time": "2022-08-05T10:33:03.210200",
     "status": "completed"
    },
    "tags": []
   },
   "outputs": [],
   "source": [
    "from matplotlib import pyplot as plt"
   ]
  },
  {
   "cell_type": "code",
   "execution_count": 17,
   "id": "18528c27",
   "metadata": {
    "execution": {
     "iopub.execute_input": "2022-08-05T10:33:03.242447Z",
     "iopub.status.busy": "2022-08-05T10:33:03.241993Z",
     "iopub.status.idle": "2022-08-05T10:33:03.253829Z",
     "shell.execute_reply": "2022-08-05T10:33:03.252774Z"
    },
    "papermill": {
     "duration": 0.022625,
     "end_time": "2022-08-05T10:33:03.255978",
     "exception": false,
     "start_time": "2022-08-05T10:33:03.233353",
     "status": "completed"
    },
    "tags": []
   },
   "outputs": [],
   "source": [
    "import itertools\n",
    "def plot_confusion_matrix(model, X, y, class_names, file_name,\n",
    "                          normalize=False,\n",
    "                          title='CONFUSION MATRIX',\n",
    "                          cmap=plt.cm.Greys):\n",
    "    y_pred = model.predict(X)\n",
    "    # Compute confusion matrix\n",
    "    cnf_matrix  = confusion_matrix(y, y_pred)\n",
    "    np.set_printoptions(precision=1)\n",
    "    plt.figure(figsize=(18, 16))\n",
    "\n",
    "    if normalize:\n",
    "        cnf_matrix = cnf_matrix.astype('float') / cnf_matrix.sum(axis=1)[:, np.newaxis]\n",
    "        print(\"CONFUSION MATRIX\")\n",
    "    else:\n",
    "        print('CONFUSION MATRIX')\n",
    "\n",
    "    plt.imshow(cnf_matrix, interpolation='nearest', cmap=cmap)\n",
    "    plt.title('CONFUSION MATRIX')\n",
    "    plt.colorbar()\n",
    "    tick_marks = np.arange(len(class_names))\n",
    "    plt.xticks(tick_marks, class_names, rotation=90)\n",
    "    plt.yticks(tick_marks, class_names)\n",
    "\n",
    "    fmt = '.2f' if normalize else 'd'\n",
    "    thresh = cnf_matrix.max() / 2.\n",
    "    for i, j in itertools.product(range(cnf_matrix.shape[0]), range(cnf_matrix.shape[1])):\n",
    "        plt.text(j, i, format(cnf_matrix[i, j], fmt),\n",
    "                 horizontalalignment=\"center\",\n",
    "                 color=\"white\" if cnf_matrix[i, j] > thresh else \"black\")\n",
    "\n",
    "    plt.ylabel('CLASS')\n",
    "    plt.xlabel('PREDICTED CLASS')\n",
    "    plt.tight_layout()\n",
    "    plt.savefig(file_name+'.png')\n",
    "    plt.show()"
   ]
  },
  {
   "cell_type": "markdown",
   "id": "318033c3",
   "metadata": {
    "papermill": {
     "duration": 0.007027,
     "end_time": "2022-08-05T10:33:03.270487",
     "exception": false,
     "start_time": "2022-08-05T10:33:03.263460",
     "status": "completed"
    },
    "tags": []
   },
   "source": [
    "# TRAIN CONFUSION MATRIX"
   ]
  },
  {
   "cell_type": "code",
   "execution_count": 18,
   "id": "10c7f58e",
   "metadata": {
    "execution": {
     "iopub.execute_input": "2022-08-05T10:33:03.286780Z",
     "iopub.status.busy": "2022-08-05T10:33:03.286186Z",
     "iopub.status.idle": "2022-08-05T10:33:04.206252Z",
     "shell.execute_reply": "2022-08-05T10:33:04.205128Z"
    },
    "papermill": {
     "duration": 0.931278,
     "end_time": "2022-08-05T10:33:04.209036",
     "exception": false,
     "start_time": "2022-08-05T10:33:03.277758",
     "status": "completed"
    },
    "tags": []
   },
   "outputs": [
    {
     "name": "stdout",
     "output_type": "stream",
     "text": [
      "CONFUSION MATRIX\n"
     ]
    },
    {
     "data": {
      "image/png": "[encoded data removed]",
      "text/plain": [
       "<Figure size 1296x1152 with 2 Axes>"
      ]
     },
     "metadata": {},
     "output_type": "display_data"
    }
   ],
   "source": [
    "from sklearn.metrics import confusion_matrix\n",
    "\n",
    "LABELS = ['STROKE', 'NO_STROKE']\n",
    "plot_confusion_matrix(random_forest_en, X_train, Y_train, class_names=LABELS, file_name='ConfussionMatrix', normalize=True)"
   ]
  },
  {
   "cell_type": "markdown",
   "id": "1cf47c1c",
   "metadata": {
    "papermill": {
     "duration": 0.007934,
     "end_time": "2022-08-05T10:33:04.225464",
     "exception": false,
     "start_time": "2022-08-05T10:33:04.217530",
     "status": "completed"
    },
    "tags": []
   },
   "source": [
    "# TTEST CONFUSION MATRIX"
   ]
  },
  {
   "cell_type": "code",
   "execution_count": 19,
   "id": "60f251d4",
   "metadata": {
    "execution": {
     "iopub.execute_input": "2022-08-05T10:33:04.243057Z",
     "iopub.status.busy": "2022-08-05T10:33:04.242653Z",
     "iopub.status.idle": "2022-08-05T10:33:05.134279Z",
     "shell.execute_reply": "2022-08-05T10:33:05.132957Z"
    },
    "papermill": {
     "duration": 0.903549,
     "end_time": "2022-08-05T10:33:05.136891",
     "exception": false,
     "start_time": "2022-08-05T10:33:04.233342",
     "status": "completed"
    },
    "tags": []
   },
   "outputs": [
    {
     "name": "stdout",
     "output_type": "stream",
     "text": [
      "CONFUSION MATRIX\n"
     ]
    },
    {
     "data": {
      "image/png": "[encoded data removed]",
      "text/plain": [
       "<Figure size 1296x1152 with 2 Axes>"
      ]
     },
     "metadata": {},
     "output_type": "display_data"
    }
   ],
   "source": [
    "plot_confusion_matrix(random_forest_en, X_test, Y_test, class_names=LABELS, file_name='ConfussionMatrix', normalize=True)"
   ]
  }
 ],
 "metadata": {
  "kernelspec": {
   "display_name": "Python 3",
   "language": "python",
   "name": "python3"
  },
  "language_info": {
   "codemirror_mode": {
    "name": "ipython",
    "version": 3
   },
   "file_extension": ".py",
   "mimetype": "text/x-python",
   "name": "python",
   "nbconvert_exporter": "python",
   "pygments_lexer": "ipython3",
   "version": "3.7.12"
  },
  "papermill": {
   "default_parameters": {},
   "duration": 16.515992,
   "end_time": "2022-08-05T10:33:05.969386",
   "environment_variables": {},
   "exception": null,
   "input_path": "__notebook__.ipynb",
   "output_path": "__notebook__.ipynb",
   "parameters": {},
   "start_time": "2022-08-05T10:32:49.453394",
   "version": "2.3.4"
  }
 },
 "nbformat": 4,
 "nbformat_minor": 5
}
