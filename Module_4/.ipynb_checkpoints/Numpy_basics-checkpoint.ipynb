{
 "cells": [
  {
   "cell_type": "markdown",
   "id": "5285cc23",
   "metadata": {},
   "source": [
    "### Numpy\n",
    "\n",
    "NumPy is the fundamental package for scientific computing in Python. It is a Python library that provides a multidimensional array object, various derived objects (such as masked arrays and matrices), and an assortment of routines for\n",
    "fast operations on arrays, including mathematical, logical, shape manipulation, sorting, selecting, I/O, discrete Fourier\n",
    "transforms, basic linear algebra, basic statistical operations, random simulation and much more\n",
    "\n",
    "At the core of the NumPy package, is the ndarray object. This encapsulates n-dimensional arrays of homogeneous data\n",
    "types, with many operations being performed in compiled code for performance. There are several important differences\n",
    "between NumPy arrays and the standard Python sequences:\n",
    "\n",
    "• NumPy arrays have a fixed size at creation, unlike Python lists (which can grow dynamically). Changing the size\n",
    "of an ndarray will create a new array and delete the original.\n",
    "\n",
    "• The elements in a NumPy array are all required to be of the same data type, and thus will be the same size in\n",
    "memory.\n",
    "\n",
    "• NumPy arrays facilitate advanced mathematical and other types of operations on large numbers of data. Typically,\n",
    "such operations are executed more efficiently and with less code than is possible using Python’s built-in sequences."
   ]
  },
  {
   "cell_type": "markdown",
   "id": "6404bae7",
   "metadata": {},
   "source": [
    "#### Objectives\n",
    "\n",
    "• Understand the difference between one-, two- and n-dimensional arrays in NumPy\n",
    "\n",
    "• Understand how to apply some linear algebra operations to n-dimensional arrays without using for-loops\n",
    "\n",
    "• Understand axis and shape properties for n-dimensional arrays\n",
    "\n"
   ]
  },
  {
   "cell_type": "markdown",
   "id": "b871011c",
   "metadata": {},
   "source": [
    "NumPy’s main object is the homogeneous multidimensional array. It is a table of elements (usually numbers), all of the\n",
    "same type, indexed by a tuple of non-negative integers. In NumPy dimensions are called axes."
   ]
  },
  {
   "cell_type": "markdown",
   "id": "5a49027e",
   "metadata": {},
   "source": [
    "NumPy’s array class is called ndarray. It is also known by the alias array. Note that numpy.array is not the\n",
    "same as the Standard Python Library class array.array, which only handles one-dimensional arrays and offers less\n",
    "functionality. "
   ]
  },
  {
   "cell_type": "markdown",
   "id": "5c2889b1",
   "metadata": {},
   "source": [
    "#### What are the attributes of an array?\n",
    "\n",
    "An array is usually a fixed-size container of items of the same type and size. The number of dimensions and items in\n",
    "an array is defined by its shape. The shape of an array is a tuple of non-negative integers that specify the sizes of each\n",
    "dimension.\n",
    "\n",
    "In NumPy, dimensions are called axes."
   ]
  },
  {
   "cell_type": "code",
   "execution_count": 1,
   "id": "b7a32f5e",
   "metadata": {},
   "outputs": [],
   "source": [
    "import numpy as np"
   ]
  },
  {
   "cell_type": "markdown",
   "id": "6116ab28",
   "metadata": {},
   "source": [
    "#### Array Creation\n",
    "\n",
    "There are several ways to create arrays. \n",
    "\n",
    "You can create an array from a regular Python list or tuple using the array function. The type of the\n",
    "resulting array is deduced from the type of the elements in the sequences."
   ]
  },
  {
   "cell_type": "code",
   "execution_count": 2,
   "id": "c7d29cdc",
   "metadata": {},
   "outputs": [
    {
     "data": {
      "text/plain": [
       "array([2, 3, 4])"
      ]
     },
     "execution_count": 2,
     "metadata": {},
     "output_type": "execute_result"
    }
   ],
   "source": [
    "a = np.array([2, 3, 4])\n",
    "a"
   ]
  },
  {
   "cell_type": "code",
   "execution_count": 3,
   "id": "a37ac1b6",
   "metadata": {},
   "outputs": [
    {
     "data": {
      "text/plain": [
       "dtype('int32')"
      ]
     },
     "execution_count": 3,
     "metadata": {},
     "output_type": "execute_result"
    }
   ],
   "source": [
    "a.dtype"
   ]
  },
  {
   "cell_type": "code",
   "execution_count": 5,
   "id": "b5d9984f",
   "metadata": {},
   "outputs": [
    {
     "data": {
      "text/plain": [
       "array([1.2, 3.5, 5.1])"
      ]
     },
     "execution_count": 5,
     "metadata": {},
     "output_type": "execute_result"
    }
   ],
   "source": [
    "b = np.array([1.2, 3.5, 5.1])\n",
    "b"
   ]
  },
  {
   "cell_type": "code",
   "execution_count": 6,
   "id": "0841ce48",
   "metadata": {},
   "outputs": [
    {
     "data": {
      "text/plain": [
       "dtype('float64')"
      ]
     },
     "execution_count": 6,
     "metadata": {},
     "output_type": "execute_result"
    }
   ],
   "source": [
    "b.dtype"
   ]
  },
  {
   "cell_type": "code",
   "execution_count": 7,
   "id": "040aefc7",
   "metadata": {},
   "outputs": [
    {
     "ename": "TypeError",
     "evalue": "array() takes from 1 to 2 positional arguments but 4 were given",
     "output_type": "error",
     "traceback": [
      "\u001b[1;31m---------------------------------------------------------------------------\u001b[0m",
      "\u001b[1;31mTypeError\u001b[0m                                 Traceback (most recent call last)",
      "\u001b[1;32m~\\AppData\\Local\\Temp\\ipykernel_18116\\2841087489.py\u001b[0m in \u001b[0;36m<module>\u001b[1;34m\u001b[0m\n\u001b[1;32m----> 1\u001b[1;33m \u001b[0ma\u001b[0m \u001b[1;33m=\u001b[0m \u001b[0mnp\u001b[0m\u001b[1;33m.\u001b[0m\u001b[0marray\u001b[0m\u001b[1;33m(\u001b[0m\u001b[1;36m1\u001b[0m\u001b[1;33m,\u001b[0m \u001b[1;36m2\u001b[0m\u001b[1;33m,\u001b[0m \u001b[1;36m3\u001b[0m\u001b[1;33m,\u001b[0m \u001b[1;36m4\u001b[0m\u001b[1;33m)\u001b[0m\u001b[1;33m\u001b[0m\u001b[1;33m\u001b[0m\u001b[0m\n\u001b[0m",
      "\u001b[1;31mTypeError\u001b[0m: array() takes from 1 to 2 positional arguments but 4 were given"
     ]
    }
   ],
   "source": [
    "a = np.array(1, 2, 3, 4)"
   ]
  },
  {
   "cell_type": "markdown",
   "id": "cede02dd",
   "metadata": {},
   "source": [
    "array transforms sequences of sequences into two-dimensional arrays, sequences of sequences of sequences into threedimensional arrays, and so on."
   ]
  },
  {
   "cell_type": "code",
   "execution_count": 16,
   "id": "ade465ff",
   "metadata": {},
   "outputs": [
    {
     "name": "stdout",
     "output_type": "stream",
     "text": [
      "[[1.5 2.  3. ]\n",
      " [4.  5.  6. ]]\n",
      "[1.5 2.  3. ]\n",
      "<class 'numpy.ndarray'>\n"
     ]
    }
   ],
   "source": [
    "b = np.array([(1.5, 2, 3), (4, 5, 6)])\n",
    "print(b)\n",
    "print(b[0])\n",
    "print(type(b[0]))"
   ]
  },
  {
   "cell_type": "markdown",
   "id": "10cbbdfc",
   "metadata": {},
   "source": [
    "The type of the array can also be explicitly specified at creation time:"
   ]
  },
  {
   "cell_type": "code",
   "execution_count": 9,
   "id": "3b2cdf61",
   "metadata": {},
   "outputs": [
    {
     "data": {
      "text/plain": [
       "array([[1.+0.j, 2.+0.j],\n",
       "       [3.+0.j, 4.+0.j]])"
      ]
     },
     "execution_count": 9,
     "metadata": {},
     "output_type": "execute_result"
    }
   ],
   "source": [
    "c = np.array([[1, 2], [3, 4]], dtype=complex)\n",
    "c"
   ]
  },
  {
   "cell_type": "markdown",
   "id": "731f8f5f",
   "metadata": {},
   "source": [
    "Often, the elements of an array are originally unknown, but its size is known. Hence, NumPy offers several functions to\n",
    "create arrays with initial placeholder content. These minimize the necessity of growing arrays, an expensive operation.\n",
    "\n",
    "The function zeros creates an array full of zeros, the function ones creates an array full of ones, and the function\n",
    "empty creates an array whose initial content is random and depends on the state of the memory. By default, the dtype\n",
    "of the created array is float64, but it can be specified via the key word argument dtype.\n"
   ]
  },
  {
   "cell_type": "code",
   "execution_count": 10,
   "id": "404fcd11",
   "metadata": {},
   "outputs": [
    {
     "data": {
      "text/plain": [
       "array([[0., 0., 0., 0.],\n",
       "       [0., 0., 0., 0.],\n",
       "       [0., 0., 0., 0.]])"
      ]
     },
     "execution_count": 10,
     "metadata": {},
     "output_type": "execute_result"
    }
   ],
   "source": [
    "np.zeros((3, 4))"
   ]
  },
  {
   "cell_type": "code",
   "execution_count": 11,
   "id": "569fbfe2",
   "metadata": {},
   "outputs": [
    {
     "data": {
      "text/plain": [
       "array([[[1, 1, 1, 1],\n",
       "        [1, 1, 1, 1],\n",
       "        [1, 1, 1, 1]],\n",
       "\n",
       "       [[1, 1, 1, 1],\n",
       "        [1, 1, 1, 1],\n",
       "        [1, 1, 1, 1]]], dtype=int16)"
      ]
     },
     "execution_count": 11,
     "metadata": {},
     "output_type": "execute_result"
    }
   ],
   "source": [
    "np.ones((2, 3, 4), dtype=np.int16)"
   ]
  },
  {
   "cell_type": "markdown",
   "id": "ef14fa7a",
   "metadata": {},
   "source": [
    "The function empty creates an array whose initial content is random and depends on the state\n",
    "of the memory. The reason to use empty over zeros (or something similar) is speed - just make sure to fill every\n",
    "element afterwards!"
   ]
  },
  {
   "cell_type": "code",
   "execution_count": 102,
   "id": "82f3aa86",
   "metadata": {},
   "outputs": [
    {
     "data": {
      "text/plain": [
       "array([[0.82770259, 0.40919914, 0.54959369],\n",
       "       [0.02755911, 0.75351311, 0.53814331]])"
      ]
     },
     "execution_count": 102,
     "metadata": {},
     "output_type": "execute_result"
    }
   ],
   "source": [
    "np.empty((2, 3))"
   ]
  },
  {
   "cell_type": "markdown",
   "id": "bd724756",
   "metadata": {},
   "source": [
    "To create sequences of numbers, NumPy provides the arange function which is analogous to the Python built-in range,\n",
    "but returns an array."
   ]
  },
  {
   "cell_type": "code",
   "execution_count": 13,
   "id": "04fc5adf",
   "metadata": {},
   "outputs": [
    {
     "data": {
      "text/plain": [
       "array([10, 15, 20, 25])"
      ]
     },
     "execution_count": 13,
     "metadata": {},
     "output_type": "execute_result"
    }
   ],
   "source": [
    "np.arange(10, 30, 5)"
   ]
  },
  {
   "cell_type": "code",
   "execution_count": 17,
   "id": "5ed597b5",
   "metadata": {},
   "outputs": [
    {
     "data": {
      "text/plain": [
       "array([0. , 0.3, 0.6, 0.9, 1.2, 1.5, 1.8])"
      ]
     },
     "execution_count": 17,
     "metadata": {},
     "output_type": "execute_result"
    }
   ],
   "source": [
    "np.arange(0, 2, 0.3) # it accepts float arguments"
   ]
  },
  {
   "cell_type": "markdown",
   "id": "5b107b6b",
   "metadata": {},
   "source": [
    "You can also use np.linspace() to create an array with values that are spaced linearly in a specified interval"
   ]
  },
  {
   "cell_type": "code",
   "execution_count": 106,
   "id": "6327ddc0",
   "metadata": {},
   "outputs": [
    {
     "data": {
      "text/plain": [
       "array([ 0.,  5., 10., 15., 20.])"
      ]
     },
     "execution_count": 106,
     "metadata": {},
     "output_type": "execute_result"
    }
   ],
   "source": [
    "np.linspace(0, 20, num=5)"
   ]
  },
  {
   "cell_type": "markdown",
   "id": "faecd3fa",
   "metadata": {},
   "source": [
    "#### Adding, removing, and sorting elements\n",
    "\n",
    "Sorting an element is simple with np.sort(). You can specify the axis, kind, and order when you call the function."
   ]
  },
  {
   "cell_type": "code",
   "execution_count": 107,
   "id": "c77d2deb",
   "metadata": {},
   "outputs": [],
   "source": [
    "arr = np.array([2, 1, 5, 3, 7, 4, 6, 8])"
   ]
  },
  {
   "cell_type": "code",
   "execution_count": 108,
   "id": "23dc9bfc",
   "metadata": {},
   "outputs": [
    {
     "data": {
      "text/plain": [
       "array([1, 2, 3, 4, 5, 6, 7, 8])"
      ]
     },
     "execution_count": 108,
     "metadata": {},
     "output_type": "execute_result"
    }
   ],
   "source": [
    "np.sort(arr)"
   ]
  },
  {
   "cell_type": "code",
   "execution_count": 110,
   "id": "94487f7f",
   "metadata": {},
   "outputs": [
    {
     "data": {
      "text/plain": [
       "array([1, 2, 3, 4, 5, 6, 7, 8])"
      ]
     },
     "execution_count": 110,
     "metadata": {},
     "output_type": "execute_result"
    }
   ],
   "source": [
    "a = np.array([1, 2, 3, 4])\n",
    "b = np.array([5, 6, 7, 8])\n",
    "np.concatenate((a, b))"
   ]
  },
  {
   "cell_type": "code",
   "execution_count": 111,
   "id": "741459e1",
   "metadata": {},
   "outputs": [
    {
     "data": {
      "text/plain": [
       "array([[1, 2],\n",
       "       [3, 4],\n",
       "       [5, 6]])"
      ]
     },
     "execution_count": 111,
     "metadata": {},
     "output_type": "execute_result"
    }
   ],
   "source": [
    "x = np.array([[1, 2], [3, 4]])\n",
    "y = np.array([[5, 6]])\n",
    "np.concatenate((x, y), axis=0)"
   ]
  },
  {
   "cell_type": "markdown",
   "id": "5a7b7dfc",
   "metadata": {},
   "source": [
    "### shape and size of an array"
   ]
  },
  {
   "cell_type": "code",
   "execution_count": 112,
   "id": "1e107de0",
   "metadata": {},
   "outputs": [],
   "source": [
    "array_example = np.array([[[0, 1, 2, 3],\n",
    "                           [4, 5, 6, 7]],\n",
    "                          [[0, 1, 2, 3],\n",
    "                           [4, 5, 6, 7]],\n",
    "                          [[0 ,1 ,2, 3],\n",
    "                           [4, 5, 6, 7]]])"
   ]
  },
  {
   "cell_type": "code",
   "execution_count": 113,
   "id": "5ebead27",
   "metadata": {},
   "outputs": [
    {
     "data": {
      "text/plain": [
       "3"
      ]
     },
     "execution_count": 113,
     "metadata": {},
     "output_type": "execute_result"
    }
   ],
   "source": [
    "array_example.ndim # number of dimensions of the array"
   ]
  },
  {
   "cell_type": "code",
   "execution_count": 114,
   "id": "fc6e9965",
   "metadata": {},
   "outputs": [
    {
     "data": {
      "text/plain": [
       "24"
      ]
     },
     "execution_count": 114,
     "metadata": {},
     "output_type": "execute_result"
    }
   ],
   "source": [
    "array_example.size # total number of elements in the array"
   ]
  },
  {
   "cell_type": "code",
   "execution_count": 115,
   "id": "aefc166e",
   "metadata": {},
   "outputs": [
    {
     "data": {
      "text/plain": [
       "(3, 2, 4)"
      ]
     },
     "execution_count": 115,
     "metadata": {},
     "output_type": "execute_result"
    }
   ],
   "source": [
    "array_example.shape # shape of an array"
   ]
  },
  {
   "cell_type": "markdown",
   "id": "92fa0f0e",
   "metadata": {},
   "source": [
    "#### Basic Operations\n",
    "\n",
    "Arithmetic operators on arrays apply elementwise. A new array is created and filled with the result."
   ]
  },
  {
   "cell_type": "code",
   "execution_count": 26,
   "id": "086fca71",
   "metadata": {},
   "outputs": [],
   "source": [
    "a = np.array([20, 30, 40, 50])"
   ]
  },
  {
   "cell_type": "code",
   "execution_count": 29,
   "id": "37f34bfb",
   "metadata": {},
   "outputs": [
    {
     "data": {
      "text/plain": [
       "array([0, 1, 2, 3])"
      ]
     },
     "execution_count": 29,
     "metadata": {},
     "output_type": "execute_result"
    }
   ],
   "source": [
    "b = np.arange(4)\n",
    "b"
   ]
  },
  {
   "cell_type": "code",
   "execution_count": 30,
   "id": "8989444a",
   "metadata": {},
   "outputs": [
    {
     "data": {
      "text/plain": [
       "array([20, 29, 38, 47])"
      ]
     },
     "execution_count": 30,
     "metadata": {},
     "output_type": "execute_result"
    }
   ],
   "source": [
    "c = a - b\n",
    "c"
   ]
  },
  {
   "cell_type": "code",
   "execution_count": 33,
   "id": "1bf8633d",
   "metadata": {},
   "outputs": [
    {
     "data": {
      "text/plain": [
       "array([0, 2, 4, 6])"
      ]
     },
     "execution_count": 33,
     "metadata": {},
     "output_type": "execute_result"
    }
   ],
   "source": [
    "b*2"
   ]
  },
  {
   "cell_type": "code",
   "execution_count": 35,
   "id": "f38a613c",
   "metadata": {},
   "outputs": [
    {
     "data": {
      "text/plain": [
       "array([0, 1, 4, 9], dtype=int32)"
      ]
     },
     "execution_count": 35,
     "metadata": {},
     "output_type": "execute_result"
    }
   ],
   "source": [
    "b**2 # b squared"
   ]
  },
  {
   "cell_type": "code",
   "execution_count": 36,
   "id": "0949aa1a",
   "metadata": {},
   "outputs": [
    {
     "data": {
      "text/plain": [
       "array([ True,  True, False, False])"
      ]
     },
     "execution_count": 36,
     "metadata": {},
     "output_type": "execute_result"
    }
   ],
   "source": [
    "a < 35"
   ]
  },
  {
   "cell_type": "code",
   "execution_count": 37,
   "id": "780f8242",
   "metadata": {},
   "outputs": [],
   "source": [
    "A = np.array([[1, 1],[0, 1]])"
   ]
  },
  {
   "cell_type": "code",
   "execution_count": 38,
   "id": "4e919efa",
   "metadata": {},
   "outputs": [],
   "source": [
    "B = np.array([[2, 0],[3, 4]])"
   ]
  },
  {
   "cell_type": "code",
   "execution_count": 39,
   "id": "d693b420",
   "metadata": {},
   "outputs": [
    {
     "data": {
      "text/plain": [
       "array([[2, 0],\n",
       "       [0, 4]])"
      ]
     },
     "execution_count": 39,
     "metadata": {},
     "output_type": "execute_result"
    }
   ],
   "source": [
    "A * B"
   ]
  },
  {
   "cell_type": "code",
   "execution_count": 41,
   "id": "7c2791cf",
   "metadata": {},
   "outputs": [
    {
     "data": {
      "text/plain": [
       "array([[5, 4],\n",
       "       [3, 4]])"
      ]
     },
     "execution_count": 41,
     "metadata": {},
     "output_type": "execute_result"
    }
   ],
   "source": [
    "A @ B #metrix product"
   ]
  },
  {
   "cell_type": "code",
   "execution_count": 42,
   "id": "9bfa2bcd",
   "metadata": {},
   "outputs": [
    {
     "data": {
      "text/plain": [
       "array([[5, 4],\n",
       "       [3, 4]])"
      ]
     },
     "execution_count": 42,
     "metadata": {},
     "output_type": "execute_result"
    }
   ],
   "source": [
    "A.dot(B)"
   ]
  },
  {
   "cell_type": "markdown",
   "id": "3dcf1d4a",
   "metadata": {},
   "source": [
    "Many unary operations, such as computing the sum of all the elements in the array, are implemented as methods of the\n",
    "ndarray class."
   ]
  },
  {
   "cell_type": "code",
   "execution_count": 50,
   "id": "993d0fb1",
   "metadata": {},
   "outputs": [
    {
     "data": {
      "text/plain": [
       "array([[2, 0],\n",
       "       [3, 4]])"
      ]
     },
     "execution_count": 50,
     "metadata": {},
     "output_type": "execute_result"
    }
   ],
   "source": [
    "B"
   ]
  },
  {
   "cell_type": "code",
   "execution_count": 51,
   "id": "5c6a7b1f",
   "metadata": {},
   "outputs": [
    {
     "data": {
      "text/plain": [
       "9"
      ]
     },
     "execution_count": 51,
     "metadata": {},
     "output_type": "execute_result"
    }
   ],
   "source": [
    "B.sum()"
   ]
  },
  {
   "cell_type": "code",
   "execution_count": 52,
   "id": "175064cd",
   "metadata": {},
   "outputs": [
    {
     "data": {
      "text/plain": [
       "0"
      ]
     },
     "execution_count": 52,
     "metadata": {},
     "output_type": "execute_result"
    }
   ],
   "source": [
    "B.min()"
   ]
  },
  {
   "cell_type": "code",
   "execution_count": 53,
   "id": "9c3d0e0b",
   "metadata": {},
   "outputs": [
    {
     "data": {
      "text/plain": [
       "4"
      ]
     },
     "execution_count": 53,
     "metadata": {},
     "output_type": "execute_result"
    }
   ],
   "source": [
    "B.max()"
   ]
  },
  {
   "cell_type": "markdown",
   "id": "a7bab6f3",
   "metadata": {},
   "source": [
    "By default, these operations apply to the array as though it were a list of numbers, regardless of its shape. However, by\n",
    "specifying the axis parameter you can apply an operation along the specified axis of an array:\n"
   ]
  },
  {
   "cell_type": "code",
   "execution_count": 55,
   "id": "9eb4343c",
   "metadata": {},
   "outputs": [
    {
     "data": {
      "text/plain": [
       "array([[ 0,  1,  2,  3],\n",
       "       [ 4,  5,  6,  7],\n",
       "       [ 8,  9, 10, 11]])"
      ]
     },
     "execution_count": 55,
     "metadata": {},
     "output_type": "execute_result"
    }
   ],
   "source": [
    "b = np.arange(12).reshape(3, 4)\n",
    "b"
   ]
  },
  {
   "cell_type": "code",
   "execution_count": 59,
   "id": "f76c5d37",
   "metadata": {},
   "outputs": [
    {
     "data": {
      "text/plain": [
       "array([12, 15, 18, 21])"
      ]
     },
     "execution_count": 59,
     "metadata": {},
     "output_type": "execute_result"
    }
   ],
   "source": [
    "b.sum(axis=0) # sum of each column"
   ]
  },
  {
   "cell_type": "code",
   "execution_count": 60,
   "id": "ec8933b3",
   "metadata": {},
   "outputs": [
    {
     "data": {
      "text/plain": [
       "array([0, 4, 8])"
      ]
     },
     "execution_count": 60,
     "metadata": {},
     "output_type": "execute_result"
    }
   ],
   "source": [
    "b.min(axis=1) # min of each row"
   ]
  },
  {
   "cell_type": "code",
   "execution_count": 61,
   "id": "21395d5c",
   "metadata": {},
   "outputs": [
    {
     "data": {
      "text/plain": [
       "array([[ 0,  1,  3,  6],\n",
       "       [ 4,  9, 15, 22],\n",
       "       [ 8, 17, 27, 38]], dtype=int32)"
      ]
     },
     "execution_count": 61,
     "metadata": {},
     "output_type": "execute_result"
    }
   ],
   "source": [
    "b.cumsum(axis=1) # cumulative sum along each row"
   ]
  },
  {
   "cell_type": "markdown",
   "id": "f6e14471",
   "metadata": {},
   "source": [
    "### Indexing, Slicing and Iterating\n",
    "\n",
    "One-dimensional arrays can be indexed, sliced and iterated over, much like lists and other Python sequences."
   ]
  },
  {
   "cell_type": "code",
   "execution_count": 71,
   "id": "a40db38c",
   "metadata": {},
   "outputs": [
    {
     "data": {
      "text/plain": [
       "array([  0,   1,   8,  27,  64, 125, 216, 343, 512, 729], dtype=int32)"
      ]
     },
     "execution_count": 71,
     "metadata": {},
     "output_type": "execute_result"
    }
   ],
   "source": [
    "a = np.arange(10)**3\n",
    "a"
   ]
  },
  {
   "cell_type": "code",
   "execution_count": 72,
   "id": "b40892e2",
   "metadata": {},
   "outputs": [
    {
     "data": {
      "text/plain": [
       "8"
      ]
     },
     "execution_count": 72,
     "metadata": {},
     "output_type": "execute_result"
    }
   ],
   "source": [
    "a[2]"
   ]
  },
  {
   "cell_type": "code",
   "execution_count": 73,
   "id": "7f631d55",
   "metadata": {},
   "outputs": [
    {
     "data": {
      "text/plain": [
       "array([ 8, 27, 64], dtype=int32)"
      ]
     },
     "execution_count": 73,
     "metadata": {},
     "output_type": "execute_result"
    }
   ],
   "source": [
    "a[2:5]"
   ]
  },
  {
   "cell_type": "code",
   "execution_count": 77,
   "id": "d5f0cd4c",
   "metadata": {},
   "outputs": [
    {
     "name": "stdout",
     "output_type": "stream",
     "text": [
      "[1000 1000 1000]\n",
      "[1000    1 1000   27 1000  125  216  343  512  729]\n"
     ]
    }
   ],
   "source": [
    "# equivalent to a[0:6:2] = 1000\n",
    "# from start to position 6, exclusive, set every 2nd element to 1000\n",
    "\n",
    "print(a[:6:2])\n",
    "a[:6:2] = 1000\n",
    "print(a)"
   ]
  },
  {
   "cell_type": "code",
   "execution_count": 78,
   "id": "e4864c7d",
   "metadata": {},
   "outputs": [
    {
     "data": {
      "text/plain": [
       "array([ 729,  512,  343,  216,  125, 1000,   27, 1000,    1, 1000],\n",
       "      dtype=int32)"
      ]
     },
     "execution_count": 78,
     "metadata": {},
     "output_type": "execute_result"
    }
   ],
   "source": [
    "a[::-1] # reversed order"
   ]
  },
  {
   "cell_type": "code",
   "execution_count": 79,
   "id": "da6e0d91",
   "metadata": {},
   "outputs": [
    {
     "name": "stdout",
     "output_type": "stream",
     "text": [
      "9.999999999999998\n",
      "1.0\n",
      "9.999999999999998\n",
      "3.0\n",
      "9.999999999999998\n",
      "5.0\n",
      "5.999999999999999\n",
      "6.999999999999999\n",
      "7.999999999999999\n",
      "8.999999999999998\n"
     ]
    }
   ],
   "source": [
    "for i in a:\n",
    "    print(i**(1 / 3.))"
   ]
  },
  {
   "cell_type": "markdown",
   "id": "883dd4c1",
   "metadata": {},
   "source": [
    "Multidimensional arrays can have one index per axis. These indices are given in a tuple separated by commas:"
   ]
  },
  {
   "cell_type": "code",
   "execution_count": 86,
   "id": "5271e0fb",
   "metadata": {},
   "outputs": [
    {
     "name": "stdout",
     "output_type": "stream",
     "text": [
      "(5, 4)\n"
     ]
    },
    {
     "data": {
      "text/plain": [
       "array([[ 0,  1,  2,  3],\n",
       "       [10, 11, 12, 13],\n",
       "       [20, 21, 22, 23],\n",
       "       [30, 31, 32, 33],\n",
       "       [40, 41, 42, 43]])"
      ]
     },
     "execution_count": 86,
     "metadata": {},
     "output_type": "execute_result"
    }
   ],
   "source": [
    "b = np.array([[ 0, 1, 2, 3],[10, 11, 12, 13],[20, 21, 22, 23],[30, 31, 32, 33],[40, 41, 42, 43]])\n",
    "print(b.shape)\n",
    "b"
   ]
  },
  {
   "cell_type": "code",
   "execution_count": 82,
   "id": "9ab249e6",
   "metadata": {},
   "outputs": [
    {
     "data": {
      "text/plain": [
       "23"
      ]
     },
     "execution_count": 82,
     "metadata": {},
     "output_type": "execute_result"
    }
   ],
   "source": [
    "b[2,3]"
   ]
  },
  {
   "cell_type": "code",
   "execution_count": 87,
   "id": "8be1f9ba",
   "metadata": {},
   "outputs": [
    {
     "data": {
      "text/plain": [
       "array([ 1, 11, 21, 31, 41])"
      ]
     },
     "execution_count": 87,
     "metadata": {},
     "output_type": "execute_result"
    }
   ],
   "source": [
    "# each row in the second column of b\n",
    "\n",
    "b[0:5, 1]"
   ]
  },
  {
   "cell_type": "code",
   "execution_count": 88,
   "id": "f8302607",
   "metadata": {},
   "outputs": [
    {
     "data": {
      "text/plain": [
       "array([ 1, 11, 21, 31, 41])"
      ]
     },
     "execution_count": 88,
     "metadata": {},
     "output_type": "execute_result"
    }
   ],
   "source": [
    "# equivalent to the previous example\n",
    "\n",
    "b[:, 1] "
   ]
  },
  {
   "cell_type": "code",
   "execution_count": 89,
   "id": "ff415ac7",
   "metadata": {},
   "outputs": [
    {
     "data": {
      "text/plain": [
       "array([[10, 11, 12, 13],\n",
       "       [20, 21, 22, 23]])"
      ]
     },
     "execution_count": 89,
     "metadata": {},
     "output_type": "execute_result"
    }
   ],
   "source": [
    "# each column in the second and third row of b\n",
    "\n",
    "b[1:3, :]"
   ]
  },
  {
   "cell_type": "markdown",
   "id": "800800c2",
   "metadata": {},
   "source": [
    "Iterating over multidimensional arrays is done with respect to the first axis:\n"
   ]
  },
  {
   "cell_type": "code",
   "execution_count": 90,
   "id": "acc4f90d",
   "metadata": {},
   "outputs": [
    {
     "name": "stdout",
     "output_type": "stream",
     "text": [
      "[0 1 2 3]\n",
      "[10 11 12 13]\n",
      "[20 21 22 23]\n",
      "[30 31 32 33]\n",
      "[40 41 42 43]\n"
     ]
    }
   ],
   "source": [
    "for row in b:\n",
    "    print(row)"
   ]
  },
  {
   "cell_type": "markdown",
   "id": "3158be84",
   "metadata": {},
   "source": [
    "However, if one wants to perform an operation on each element in the array, one can use the flat attribute which is an\n",
    "iterator over all the elements of the array:"
   ]
  },
  {
   "cell_type": "code",
   "execution_count": 92,
   "id": "e46a8764",
   "metadata": {},
   "outputs": [
    {
     "name": "stdout",
     "output_type": "stream",
     "text": [
      "0\n",
      "1\n",
      "2\n",
      "3\n",
      "10\n",
      "11\n",
      "12\n",
      "13\n",
      "20\n",
      "21\n",
      "22\n",
      "23\n",
      "30\n",
      "31\n",
      "32\n",
      "33\n",
      "40\n",
      "41\n",
      "42\n",
      "43\n"
     ]
    }
   ],
   "source": [
    "for element in b.flat:\n",
    "    print(element)"
   ]
  },
  {
   "cell_type": "markdown",
   "id": "f36c7170",
   "metadata": {},
   "source": [
    "### Changing the shape of an array\n",
    "\n",
    "An array has a shape given by the number of elements along each axis:"
   ]
  },
  {
   "cell_type": "code",
   "execution_count": 95,
   "id": "1d1f7627",
   "metadata": {},
   "outputs": [
    {
     "data": {
      "text/plain": [
       "array([[0., 5., 4., 0.],\n",
       "       [6., 8., 5., 2.],\n",
       "       [8., 5., 5., 7.]])"
      ]
     },
     "execution_count": 95,
     "metadata": {},
     "output_type": "execute_result"
    }
   ],
   "source": [
    "a = np.floor(10 * rg.random((3, 4)))\n",
    "a"
   ]
  },
  {
   "cell_type": "code",
   "execution_count": 96,
   "id": "4fcc276f",
   "metadata": {},
   "outputs": [
    {
     "data": {
      "text/plain": [
       "(3, 4)"
      ]
     },
     "execution_count": 96,
     "metadata": {},
     "output_type": "execute_result"
    }
   ],
   "source": [
    "a.shape"
   ]
  },
  {
   "cell_type": "markdown",
   "id": "4c81d2b9",
   "metadata": {},
   "source": [
    "The shape of an array can be changed with various commands. Note that the following three commands all return a\n",
    "modified array, but do not change the original array:"
   ]
  },
  {
   "cell_type": "code",
   "execution_count": 97,
   "id": "ad09f62b",
   "metadata": {},
   "outputs": [
    {
     "data": {
      "text/plain": [
       "array([0., 5., 4., 0., 6., 8., 5., 2., 8., 5., 5., 7.])"
      ]
     },
     "execution_count": 97,
     "metadata": {},
     "output_type": "execute_result"
    }
   ],
   "source": [
    "a.ravel()"
   ]
  },
  {
   "cell_type": "code",
   "execution_count": 98,
   "id": "efdc23d4",
   "metadata": {},
   "outputs": [
    {
     "data": {
      "text/plain": [
       "array([[0., 5.],\n",
       "       [4., 0.],\n",
       "       [6., 8.],\n",
       "       [5., 2.],\n",
       "       [8., 5.],\n",
       "       [5., 7.]])"
      ]
     },
     "execution_count": 98,
     "metadata": {},
     "output_type": "execute_result"
    }
   ],
   "source": [
    "a.reshape(6, 2)"
   ]
  },
  {
   "cell_type": "code",
   "execution_count": 99,
   "id": "5c4f0ff1",
   "metadata": {},
   "outputs": [
    {
     "data": {
      "text/plain": [
       "array([[0., 6., 8.],\n",
       "       [5., 8., 5.],\n",
       "       [4., 5., 5.],\n",
       "       [0., 2., 7.]])"
      ]
     },
     "execution_count": 99,
     "metadata": {},
     "output_type": "execute_result"
    }
   ],
   "source": [
    "a.T"
   ]
  },
  {
   "cell_type": "code",
   "execution_count": 100,
   "id": "29c5f861",
   "metadata": {},
   "outputs": [
    {
     "data": {
      "text/plain": [
       "(4, 3)"
      ]
     },
     "execution_count": 100,
     "metadata": {},
     "output_type": "execute_result"
    }
   ],
   "source": [
    "a.T.shape"
   ]
  },
  {
   "cell_type": "code",
   "execution_count": 101,
   "id": "1879e186",
   "metadata": {},
   "outputs": [
    {
     "data": {
      "text/plain": [
       "(3, 4)"
      ]
     },
     "execution_count": 101,
     "metadata": {},
     "output_type": "execute_result"
    }
   ],
   "source": [
    "a.shape"
   ]
  }
 ],
 "metadata": {
  "kernelspec": {
   "display_name": "Python 3 (ipykernel)",
   "language": "python",
   "name": "python3"
  },
  "language_info": {
   "codemirror_mode": {
    "name": "ipython",
    "version": 3
   },
   "file_extension": ".py",
   "mimetype": "text/x-python",
   "name": "python",
   "nbconvert_exporter": "python",
   "pygments_lexer": "ipython3",
   "version": "3.9.13"
  }
 },
 "nbformat": 4,
 "nbformat_minor": 5
}
