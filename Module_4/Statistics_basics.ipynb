{
 "cells": [
  {
   "cell_type": "markdown",
   "id": "a8bda551",
   "metadata": {},
   "source": [
    "### 7 baisc statistics concept for data science\n",
    "\n",
    "#### Probability: \n",
    "\n",
    "Probability is a measure of uncertainty. Probability applies to machine learning because in the real world, we need to make decisions with incomplete information. Using probability, we can model elements of uncertainty.\n",
    "\n",
    "#### Central Tendency:\n",
    "\n",
    "Mathematically central tendency means measuring the center or distribution of location of values of a data set. It gives an idea of the average value of the data in the data set and also an indication of how widely the values are spread in the data set.\n",
    "\n"
   ]
  }
 ],
 "metadata": {
  "kernelspec": {
   "display_name": "Python 3 (ipykernel)",
   "language": "python",
   "name": "python3"
  },
  "language_info": {
   "codemirror_mode": {
    "name": "ipython",
    "version": 3
   },
   "file_extension": ".py",
   "mimetype": "text/x-python",
   "name": "python",
   "nbconvert_exporter": "python",
   "pygments_lexer": "ipython3",
   "version": "3.9.13"
  }
 },
 "nbformat": 4,
 "nbformat_minor": 5
}
